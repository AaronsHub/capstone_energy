{
 "cells": [
  {
   "cell_type": "markdown",
   "metadata": {},
   "source": [
    "# __EDA notebook: Capstone ane.energy__"
   ]
  },
  {
   "cell_type": "markdown",
   "metadata": {},
   "source": [
    "---\n",
    "---\n",
    "\n",
    "## __Basics__"
   ]
  },
  {
   "cell_type": "markdown",
   "metadata": {},
   "source": [
    "---\n",
    "\n",
    "### __Import libraries and tools__"
   ]
  },
  {
   "cell_type": "code",
   "execution_count": 2,
   "metadata": {
    "slideshow": {
     "slide_type": "skip"
    }
   },
   "outputs": [],
   "source": [
    "import pandas as pd\n",
    "import numpy as np\n",
    "\n",
    "import seaborn as sns\n",
    "import matplotlib.pyplot as plt\n",
    "from sklearn.metrics import mean_squared_error\n",
    "from math import sqrt\n",
    "import statsmodels.api as sm\n",
    "%matplotlib inline\n",
    "\n",
    "import warnings\n",
    "warnings.filterwarnings('ignore')\n",
    "from statsmodels.tsa.seasonal import seasonal_decompose"
   ]
  },
  {
   "cell_type": "markdown",
   "metadata": {},
   "source": [
    "---\n",
    "\n",
    "### __Load datasets__"
   ]
  },
  {
   "cell_type": "code",
   "execution_count": 3,
   "metadata": {
    "slideshow": {
     "slide_type": "skip"
    }
   },
   "outputs": [],
   "source": [
    "ohr_solar=pd.read_csv(\"../data/onlinehochrechnung_solar_mw.csv\")"
   ]
  },
  {
   "cell_type": "code",
   "execution_count": 4,
   "metadata": {
    "slideshow": {
     "slide_type": "skip"
    }
   },
   "outputs": [],
   "source": [
    "ohr_woff=pd.read_csv(\"../data/onlinehochrechnung_windoffshore_mw.csv\", sep='///')"
   ]
  },
  {
   "cell_type": "code",
   "execution_count": 5,
   "metadata": {
    "slideshow": {
     "slide_type": "skip"
    }
   },
   "outputs": [],
   "source": [
    "ohr_won=pd.read_csv(\"../data/onlinehochrechnung_windonshore_mw.csv\", header=None)"
   ]
  },
  {
   "cell_type": "code",
   "execution_count": 6,
   "metadata": {},
   "outputs": [],
   "source": [
    "speedy=pd.read_csv('../data/einspeisedaten_gen_wind_speed.csv')"
   ]
  },
  {
   "cell_type": "code",
   "execution_count": 7,
   "metadata": {},
   "outputs": [],
   "source": [
    "regel_results=pd.read_csv('../data/regelleistung_aggr_results.csv')"
   ]
  },
  {
   "cell_type": "code",
   "execution_count": 8,
   "metadata": {},
   "outputs": [],
   "source": [
    "regel_demand=pd.read_csv('../data/regelleistung_demand.csv')"
   ]
  },
  {
   "cell_type": "markdown",
   "metadata": {},
   "source": [
    "---\n",
    "---\n",
    "\n",
    "## __Overview over datasets__"
   ]
  },
  {
   "cell_type": "markdown",
   "metadata": {},
   "source": [
    "---\n",
    "\n",
    "### __Solar dataset__"
   ]
  },
  {
   "cell_type": "code",
   "execution_count": 9,
   "metadata": {},
   "outputs": [
    {
     "data": {
      "text/html": [
       "<div>\n",
       "<style scoped>\n",
       "    .dataframe tbody tr th:only-of-type {\n",
       "        vertical-align: middle;\n",
       "    }\n",
       "\n",
       "    .dataframe tbody tr th {\n",
       "        vertical-align: top;\n",
       "    }\n",
       "\n",
       "    .dataframe thead th {\n",
       "        text-align: right;\n",
       "    }\n",
       "</style>\n",
       "<table border=\"1\" class=\"dataframe\">\n",
       "  <thead>\n",
       "    <tr style=\"text-align: right;\">\n",
       "      <th></th>\n",
       "      <th>dt_start_utc</th>\n",
       "      <th>fiftyhertz</th>\n",
       "      <th>tennet</th>\n",
       "      <th>amprion</th>\n",
       "      <th>transnetbw</th>\n",
       "      <th>nrv</th>\n",
       "    </tr>\n",
       "  </thead>\n",
       "  <tbody>\n",
       "    <tr>\n",
       "      <th>0</th>\n",
       "      <td>2011-12-31 23:00:00</td>\n",
       "      <td>0.0</td>\n",
       "      <td>0.0</td>\n",
       "      <td>0.0</td>\n",
       "      <td>0.0</td>\n",
       "      <td>0.0</td>\n",
       "    </tr>\n",
       "    <tr>\n",
       "      <th>1</th>\n",
       "      <td>2012-01-01 00:00:00</td>\n",
       "      <td>0.0</td>\n",
       "      <td>0.0</td>\n",
       "      <td>0.0</td>\n",
       "      <td>0.0</td>\n",
       "      <td>0.0</td>\n",
       "    </tr>\n",
       "    <tr>\n",
       "      <th>2</th>\n",
       "      <td>2012-01-01 01:00:00</td>\n",
       "      <td>0.0</td>\n",
       "      <td>0.0</td>\n",
       "      <td>0.0</td>\n",
       "      <td>0.0</td>\n",
       "      <td>0.0</td>\n",
       "    </tr>\n",
       "    <tr>\n",
       "      <th>3</th>\n",
       "      <td>2012-01-01 02:00:00</td>\n",
       "      <td>0.0</td>\n",
       "      <td>0.0</td>\n",
       "      <td>0.0</td>\n",
       "      <td>0.0</td>\n",
       "      <td>0.0</td>\n",
       "    </tr>\n",
       "    <tr>\n",
       "      <th>4</th>\n",
       "      <td>2012-01-01 03:00:00</td>\n",
       "      <td>0.0</td>\n",
       "      <td>0.0</td>\n",
       "      <td>0.0</td>\n",
       "      <td>0.0</td>\n",
       "      <td>0.0</td>\n",
       "    </tr>\n",
       "  </tbody>\n",
       "</table>\n",
       "</div>"
      ],
      "text/plain": [
       "          dt_start_utc  fiftyhertz  tennet  amprion  transnetbw  nrv\n",
       "0  2011-12-31 23:00:00         0.0     0.0      0.0         0.0  0.0\n",
       "1  2012-01-01 00:00:00         0.0     0.0      0.0         0.0  0.0\n",
       "2  2012-01-01 01:00:00         0.0     0.0      0.0         0.0  0.0\n",
       "3  2012-01-01 02:00:00         0.0     0.0      0.0         0.0  0.0\n",
       "4  2012-01-01 03:00:00         0.0     0.0      0.0         0.0  0.0"
      ]
     },
     "execution_count": 9,
     "metadata": {},
     "output_type": "execute_result"
    }
   ],
   "source": [
    "ohr_solar.head()"
   ]
  },
  {
   "cell_type": "code",
   "execution_count": 10,
   "metadata": {},
   "outputs": [
    {
     "data": {
      "text/plain": [
       "'2011-12-31 23:00:00'"
      ]
     },
     "execution_count": 10,
     "metadata": {},
     "output_type": "execute_result"
    }
   ],
   "source": [
    "ohr_solar['dt_start_utc'].min()"
   ]
  },
  {
   "cell_type": "code",
   "execution_count": 11,
   "metadata": {},
   "outputs": [
    {
     "data": {
      "text/plain": [
       "'2021-07-11 21:00:00'"
      ]
     },
     "execution_count": 11,
     "metadata": {},
     "output_type": "execute_result"
    }
   ],
   "source": [
    "ohr_solar['dt_start_utc'].max()"
   ]
  },
  {
   "cell_type": "code",
   "execution_count": 12,
   "metadata": {},
   "outputs": [
    {
     "data": {
      "text/html": [
       "<div>\n",
       "<style scoped>\n",
       "    .dataframe tbody tr th:only-of-type {\n",
       "        vertical-align: middle;\n",
       "    }\n",
       "\n",
       "    .dataframe tbody tr th {\n",
       "        vertical-align: top;\n",
       "    }\n",
       "\n",
       "    .dataframe thead th {\n",
       "        text-align: right;\n",
       "    }\n",
       "</style>\n",
       "<table border=\"1\" class=\"dataframe\">\n",
       "  <thead>\n",
       "    <tr style=\"text-align: right;\">\n",
       "      <th></th>\n",
       "      <th>count</th>\n",
       "      <th>mean</th>\n",
       "      <th>std</th>\n",
       "      <th>min</th>\n",
       "      <th>25%</th>\n",
       "      <th>50%</th>\n",
       "      <th>75%</th>\n",
       "      <th>max</th>\n",
       "    </tr>\n",
       "  </thead>\n",
       "  <tbody>\n",
       "    <tr>\n",
       "      <th>fiftyhertz</th>\n",
       "      <td>83519.0</td>\n",
       "      <td>1050.984036</td>\n",
       "      <td>1720.459702</td>\n",
       "      <td>-250.0</td>\n",
       "      <td>0.0</td>\n",
       "      <td>33.29</td>\n",
       "      <td>1527.775</td>\n",
       "      <td>10438.0300</td>\n",
       "    </tr>\n",
       "    <tr>\n",
       "      <th>tennet</th>\n",
       "      <td>83519.0</td>\n",
       "      <td>1591.799313</td>\n",
       "      <td>2489.054845</td>\n",
       "      <td>0.0</td>\n",
       "      <td>0.0</td>\n",
       "      <td>46.18</td>\n",
       "      <td>2475.400</td>\n",
       "      <td>13366.4700</td>\n",
       "    </tr>\n",
       "    <tr>\n",
       "      <th>amprion</th>\n",
       "      <td>83519.0</td>\n",
       "      <td>976.507596</td>\n",
       "      <td>1527.052842</td>\n",
       "      <td>0.0</td>\n",
       "      <td>0.0</td>\n",
       "      <td>28.49</td>\n",
       "      <td>1515.805</td>\n",
       "      <td>8126.1400</td>\n",
       "    </tr>\n",
       "    <tr>\n",
       "      <th>transnetbw</th>\n",
       "      <td>83519.0</td>\n",
       "      <td>605.147519</td>\n",
       "      <td>956.694446</td>\n",
       "      <td>0.0</td>\n",
       "      <td>0.0</td>\n",
       "      <td>13.75</td>\n",
       "      <td>911.000</td>\n",
       "      <td>4889.8678</td>\n",
       "    </tr>\n",
       "    <tr>\n",
       "      <th>nrv</th>\n",
       "      <td>83519.0</td>\n",
       "      <td>4224.438461</td>\n",
       "      <td>6571.637631</td>\n",
       "      <td>-250.0</td>\n",
       "      <td>0.0</td>\n",
       "      <td>141.15</td>\n",
       "      <td>6631.440</td>\n",
       "      <td>36306.7608</td>\n",
       "    </tr>\n",
       "  </tbody>\n",
       "</table>\n",
       "</div>"
      ],
      "text/plain": [
       "              count         mean          std    min  25%     50%       75%  \\\n",
       "fiftyhertz  83519.0  1050.984036  1720.459702 -250.0  0.0   33.29  1527.775   \n",
       "tennet      83519.0  1591.799313  2489.054845    0.0  0.0   46.18  2475.400   \n",
       "amprion     83519.0   976.507596  1527.052842    0.0  0.0   28.49  1515.805   \n",
       "transnetbw  83519.0   605.147519   956.694446    0.0  0.0   13.75   911.000   \n",
       "nrv         83519.0  4224.438461  6571.637631 -250.0  0.0  141.15  6631.440   \n",
       "\n",
       "                   max  \n",
       "fiftyhertz  10438.0300  \n",
       "tennet      13366.4700  \n",
       "amprion      8126.1400  \n",
       "transnetbw   4889.8678  \n",
       "nrv         36306.7608  "
      ]
     },
     "execution_count": 12,
     "metadata": {},
     "output_type": "execute_result"
    }
   ],
   "source": [
    "ohr_solar.describe().transpose()"
   ]
  },
  {
   "cell_type": "code",
   "execution_count": 13,
   "metadata": {},
   "outputs": [
    {
     "data": {
      "text/plain": [
       "(83519, 6)"
      ]
     },
     "execution_count": 13,
     "metadata": {},
     "output_type": "execute_result"
    }
   ],
   "source": [
    "ohr_solar.shape"
   ]
  },
  {
   "cell_type": "code",
   "execution_count": 14,
   "metadata": {},
   "outputs": [
    {
     "name": "stdout",
     "output_type": "stream",
     "text": [
      "<class 'pandas.core.frame.DataFrame'>\n",
      "RangeIndex: 83519 entries, 0 to 83518\n",
      "Data columns (total 6 columns):\n",
      " #   Column        Non-Null Count  Dtype  \n",
      "---  ------        --------------  -----  \n",
      " 0   dt_start_utc  83519 non-null  object \n",
      " 1   fiftyhertz    83519 non-null  float64\n",
      " 2   tennet        83519 non-null  float64\n",
      " 3   amprion       83519 non-null  float64\n",
      " 4   transnetbw    83519 non-null  float64\n",
      " 5   nrv           83519 non-null  float64\n",
      "dtypes: float64(5), object(1)\n",
      "memory usage: 3.8+ MB\n"
     ]
    }
   ],
   "source": [
    "ohr_solar.info()"
   ]
  },
  {
   "cell_type": "markdown",
   "metadata": {},
   "source": [
    "---\n",
    "\n",
    "#### __Check for null and nan values__"
   ]
  },
  {
   "cell_type": "code",
   "execution_count": 15,
   "metadata": {},
   "outputs": [
    {
     "data": {
      "text/plain": [
       "dt_start_utc    0\n",
       "fiftyhertz      0\n",
       "tennet          0\n",
       "amprion         0\n",
       "transnetbw      0\n",
       "nrv             0\n",
       "dtype: int64"
      ]
     },
     "execution_count": 15,
     "metadata": {},
     "output_type": "execute_result"
    }
   ],
   "source": [
    "ohr_solar.isnull().sum()"
   ]
  },
  {
   "cell_type": "code",
   "execution_count": 16,
   "metadata": {},
   "outputs": [
    {
     "data": {
      "text/plain": [
       "dt_start_utc    0\n",
       "fiftyhertz      0\n",
       "tennet          0\n",
       "amprion         0\n",
       "transnetbw      0\n",
       "nrv             0\n",
       "dtype: int64"
      ]
     },
     "execution_count": 16,
     "metadata": {},
     "output_type": "execute_result"
    }
   ],
   "source": [
    "ohr_solar.isna().sum()"
   ]
  },
  {
   "cell_type": "markdown",
   "metadata": {},
   "source": [
    "---\n",
    "\n",
    "#### __Get an understanding of the columns__"
   ]
  },
  {
   "cell_type": "code",
   "execution_count": 17,
   "metadata": {},
   "outputs": [
    {
     "data": {
      "text/plain": [
       "Index(['dt_start_utc', 'fiftyhertz', 'tennet', 'amprion', 'transnetbw', 'nrv'], dtype='object')"
      ]
     },
     "execution_count": 17,
     "metadata": {},
     "output_type": "execute_result"
    }
   ],
   "source": [
    "ohr_solar.columns"
   ]
  },
  {
   "cell_type": "code",
   "execution_count": null,
   "metadata": {},
   "outputs": [],
   "source": [
    "sns.pairplot(ohr_solar)"
   ]
  },
  {
   "cell_type": "markdown",
   "metadata": {},
   "source": [
    "---\n",
    "\n",
    "### __Onshore dataset__"
   ]
  },
  {
   "cell_type": "code",
   "execution_count": 18,
   "metadata": {},
   "outputs": [
    {
     "data": {
      "text/html": [
       "<div>\n",
       "<style scoped>\n",
       "    .dataframe tbody tr th:only-of-type {\n",
       "        vertical-align: middle;\n",
       "    }\n",
       "\n",
       "    .dataframe tbody tr th {\n",
       "        vertical-align: top;\n",
       "    }\n",
       "\n",
       "    .dataframe thead th {\n",
       "        text-align: right;\n",
       "    }\n",
       "</style>\n",
       "<table border=\"1\" class=\"dataframe\">\n",
       "  <thead>\n",
       "    <tr style=\"text-align: right;\">\n",
       "      <th></th>\n",
       "      <th>0</th>\n",
       "      <th>1</th>\n",
       "      <th>2</th>\n",
       "      <th>3</th>\n",
       "      <th>4</th>\n",
       "      <th>5</th>\n",
       "    </tr>\n",
       "  </thead>\n",
       "  <tbody>\n",
       "    <tr>\n",
       "      <th>0</th>\n",
       "      <td>2011-12-31 23:00:00</td>\n",
       "      <td>1271.8</td>\n",
       "      <td>1582.70</td>\n",
       "      <td>1542.03</td>\n",
       "      <td>262.10</td>\n",
       "      <td>4658.63</td>\n",
       "    </tr>\n",
       "    <tr>\n",
       "      <th>1</th>\n",
       "      <td>2012-01-01 00:00:00</td>\n",
       "      <td>1358.8</td>\n",
       "      <td>1816.21</td>\n",
       "      <td>1548.25</td>\n",
       "      <td>216.23</td>\n",
       "      <td>4939.49</td>\n",
       "    </tr>\n",
       "    <tr>\n",
       "      <th>2</th>\n",
       "      <td>2012-01-01 01:00:00</td>\n",
       "      <td>1339.2</td>\n",
       "      <td>2312.11</td>\n",
       "      <td>1650.40</td>\n",
       "      <td>157.80</td>\n",
       "      <td>5459.51</td>\n",
       "    </tr>\n",
       "    <tr>\n",
       "      <th>3</th>\n",
       "      <td>2012-01-01 02:00:00</td>\n",
       "      <td>1436.2</td>\n",
       "      <td>2881.49</td>\n",
       "      <td>1642.62</td>\n",
       "      <td>195.34</td>\n",
       "      <td>6155.65</td>\n",
       "    </tr>\n",
       "    <tr>\n",
       "      <th>4</th>\n",
       "      <td>2012-01-01 03:00:00</td>\n",
       "      <td>1707.8</td>\n",
       "      <td>3162.34</td>\n",
       "      <td>1709.99</td>\n",
       "      <td>225.16</td>\n",
       "      <td>6805.30</td>\n",
       "    </tr>\n",
       "  </tbody>\n",
       "</table>\n",
       "</div>"
      ],
      "text/plain": [
       "                     0       1        2        3       4        5\n",
       "0  2011-12-31 23:00:00  1271.8  1582.70  1542.03  262.10  4658.63\n",
       "1  2012-01-01 00:00:00  1358.8  1816.21  1548.25  216.23  4939.49\n",
       "2  2012-01-01 01:00:00  1339.2  2312.11  1650.40  157.80  5459.51\n",
       "3  2012-01-01 02:00:00  1436.2  2881.49  1642.62  195.34  6155.65\n",
       "4  2012-01-01 03:00:00  1707.8  3162.34  1709.99  225.16  6805.30"
      ]
     },
     "execution_count": 18,
     "metadata": {},
     "output_type": "execute_result"
    }
   ],
   "source": [
    "ohr_won.head()"
   ]
  },
  {
   "cell_type": "code",
   "execution_count": null,
   "metadata": {},
   "outputs": [],
   "source": [
    "ohr_won[0].min()"
   ]
  },
  {
   "cell_type": "code",
   "execution_count": null,
   "metadata": {},
   "outputs": [],
   "source": [
    "ohr_won[0].max()"
   ]
  },
  {
   "cell_type": "code",
   "execution_count": 19,
   "metadata": {},
   "outputs": [
    {
     "data": {
      "text/html": [
       "<div>\n",
       "<style scoped>\n",
       "    .dataframe tbody tr th:only-of-type {\n",
       "        vertical-align: middle;\n",
       "    }\n",
       "\n",
       "    .dataframe tbody tr th {\n",
       "        vertical-align: top;\n",
       "    }\n",
       "\n",
       "    .dataframe thead th {\n",
       "        text-align: right;\n",
       "    }\n",
       "</style>\n",
       "<table border=\"1\" class=\"dataframe\">\n",
       "  <thead>\n",
       "    <tr style=\"text-align: right;\">\n",
       "      <th></th>\n",
       "      <th>count</th>\n",
       "      <th>mean</th>\n",
       "      <th>std</th>\n",
       "      <th>min</th>\n",
       "      <th>25%</th>\n",
       "      <th>50%</th>\n",
       "      <th>75%</th>\n",
       "      <th>max</th>\n",
       "    </tr>\n",
       "  </thead>\n",
       "  <tbody>\n",
       "    <tr>\n",
       "      <th>1</th>\n",
       "      <td>83279.0</td>\n",
       "      <td>3185.409040</td>\n",
       "      <td>3136.063750</td>\n",
       "      <td>-7.13</td>\n",
       "      <td>883.030</td>\n",
       "      <td>2113.89</td>\n",
       "      <td>4476.620</td>\n",
       "      <td>17148.24</td>\n",
       "    </tr>\n",
       "    <tr>\n",
       "      <th>2</th>\n",
       "      <td>83279.0</td>\n",
       "      <td>3847.237231</td>\n",
       "      <td>3644.082790</td>\n",
       "      <td>-180.65</td>\n",
       "      <td>1185.970</td>\n",
       "      <td>2652.88</td>\n",
       "      <td>5320.690</td>\n",
       "      <td>20572.94</td>\n",
       "    </tr>\n",
       "    <tr>\n",
       "      <th>3</th>\n",
       "      <td>83279.0</td>\n",
       "      <td>1628.170237</td>\n",
       "      <td>1753.307424</td>\n",
       "      <td>0.00</td>\n",
       "      <td>408.735</td>\n",
       "      <td>980.75</td>\n",
       "      <td>2186.125</td>\n",
       "      <td>9983.00</td>\n",
       "    </tr>\n",
       "    <tr>\n",
       "      <th>4</th>\n",
       "      <td>83279.0</td>\n",
       "      <td>201.736594</td>\n",
       "      <td>277.085107</td>\n",
       "      <td>0.00</td>\n",
       "      <td>25.145</td>\n",
       "      <td>84.56</td>\n",
       "      <td>258.320</td>\n",
       "      <td>1555.50</td>\n",
       "    </tr>\n",
       "    <tr>\n",
       "      <th>5</th>\n",
       "      <td>83279.0</td>\n",
       "      <td>8862.553114</td>\n",
       "      <td>8278.017439</td>\n",
       "      <td>28.50</td>\n",
       "      <td>2956.700</td>\n",
       "      <td>6146.80</td>\n",
       "      <td>11949.415</td>\n",
       "      <td>48106.83</td>\n",
       "    </tr>\n",
       "  </tbody>\n",
       "</table>\n",
       "</div>"
      ],
      "text/plain": [
       "     count         mean          std     min       25%      50%        75%  \\\n",
       "1  83279.0  3185.409040  3136.063750   -7.13   883.030  2113.89   4476.620   \n",
       "2  83279.0  3847.237231  3644.082790 -180.65  1185.970  2652.88   5320.690   \n",
       "3  83279.0  1628.170237  1753.307424    0.00   408.735   980.75   2186.125   \n",
       "4  83279.0   201.736594   277.085107    0.00    25.145    84.56    258.320   \n",
       "5  83279.0  8862.553114  8278.017439   28.50  2956.700  6146.80  11949.415   \n",
       "\n",
       "        max  \n",
       "1  17148.24  \n",
       "2  20572.94  \n",
       "3   9983.00  \n",
       "4   1555.50  \n",
       "5  48106.83  "
      ]
     },
     "execution_count": 19,
     "metadata": {},
     "output_type": "execute_result"
    }
   ],
   "source": [
    "ohr_won.describe().transpose()"
   ]
  },
  {
   "cell_type": "code",
   "execution_count": null,
   "metadata": {},
   "outputs": [],
   "source": [
    "ohr_won.shape"
   ]
  },
  {
   "cell_type": "code",
   "execution_count": null,
   "metadata": {},
   "outputs": [],
   "source": [
    "ohr_won.info()"
   ]
  },
  {
   "cell_type": "markdown",
   "metadata": {},
   "source": [
    "---\n",
    "\n",
    "#### __Check for nan and null values__"
   ]
  },
  {
   "cell_type": "code",
   "execution_count": 20,
   "metadata": {},
   "outputs": [
    {
     "data": {
      "text/plain": [
       "0    0\n",
       "1    0\n",
       "2    0\n",
       "3    0\n",
       "4    0\n",
       "5    0\n",
       "dtype: int64"
      ]
     },
     "execution_count": 20,
     "metadata": {},
     "output_type": "execute_result"
    }
   ],
   "source": [
    "ohr_won.isna().sum()"
   ]
  },
  {
   "cell_type": "code",
   "execution_count": 21,
   "metadata": {},
   "outputs": [
    {
     "data": {
      "text/plain": [
       "0    0\n",
       "1    0\n",
       "2    0\n",
       "3    0\n",
       "4    0\n",
       "5    0\n",
       "dtype: int64"
      ]
     },
     "execution_count": 21,
     "metadata": {},
     "output_type": "execute_result"
    }
   ],
   "source": [
    "ohr_won.isnull().sum()"
   ]
  },
  {
   "cell_type": "markdown",
   "metadata": {},
   "source": [
    "---\n",
    "\n",
    "#### __Get an understanding of the columns__"
   ]
  },
  {
   "cell_type": "code",
   "execution_count": 22,
   "metadata": {},
   "outputs": [
    {
     "data": {
      "text/plain": [
       "Int64Index([0, 1, 2, 3, 4, 5], dtype='int64')"
      ]
     },
     "execution_count": 22,
     "metadata": {},
     "output_type": "execute_result"
    }
   ],
   "source": [
    "ohr_won.columns"
   ]
  },
  {
   "cell_type": "code",
   "execution_count": null,
   "metadata": {},
   "outputs": [],
   "source": [
    "sns.pairplot(ohr_won)"
   ]
  },
  {
   "cell_type": "markdown",
   "metadata": {},
   "source": [
    "---\n",
    "\n",
    "### __Offshore dataset__"
   ]
  },
  {
   "cell_type": "code",
   "execution_count": 23,
   "metadata": {},
   "outputs": [
    {
     "data": {
      "text/html": [
       "<div>\n",
       "<style scoped>\n",
       "    .dataframe tbody tr th:only-of-type {\n",
       "        vertical-align: middle;\n",
       "    }\n",
       "\n",
       "    .dataframe tbody tr th {\n",
       "        vertical-align: top;\n",
       "    }\n",
       "\n",
       "    .dataframe thead th {\n",
       "        text-align: right;\n",
       "    }\n",
       "</style>\n",
       "<table border=\"1\" class=\"dataframe\">\n",
       "  <thead>\n",
       "    <tr style=\"text-align: right;\">\n",
       "      <th></th>\n",
       "      <th>dt_start_utc</th>\n",
       "      <th>fiftyhertz</th>\n",
       "      <th>tennet</th>\n",
       "      <th>amprion</th>\n",
       "      <th>transnetbw</th>\n",
       "      <th>nrv//</th>\n",
       "    </tr>\n",
       "  </thead>\n",
       "  <tbody>\n",
       "    <tr>\n",
       "      <th>0</th>\n",
       "      <td>2012-12-31 23:00:00</td>\n",
       "      <td>48.00</td>\n",
       "      <td>136.05</td>\n",
       "      <td>NaN</td>\n",
       "      <td>NaN</td>\n",
       "      <td>184.05</td>\n",
       "    </tr>\n",
       "    <tr>\n",
       "      <th>1</th>\n",
       "      <td>2013-01-01 00:00:00</td>\n",
       "      <td>48.00</td>\n",
       "      <td>119.93</td>\n",
       "      <td>NaN</td>\n",
       "      <td>NaN</td>\n",
       "      <td>167.93</td>\n",
       "    </tr>\n",
       "    <tr>\n",
       "      <th>2</th>\n",
       "      <td>2013-01-01 01:00:00</td>\n",
       "      <td>48.00</td>\n",
       "      <td>83.69</td>\n",
       "      <td>NaN</td>\n",
       "      <td>NaN</td>\n",
       "      <td>131.69</td>\n",
       "    </tr>\n",
       "    <tr>\n",
       "      <th>3</th>\n",
       "      <td>2013-01-01 02:00:00</td>\n",
       "      <td>48.00</td>\n",
       "      <td>49.24</td>\n",
       "      <td>NaN</td>\n",
       "      <td>NaN</td>\n",
       "      <td>97.24</td>\n",
       "    </tr>\n",
       "    <tr>\n",
       "      <th>4</th>\n",
       "      <td>2013-01-01 03:00:00</td>\n",
       "      <td>48.00</td>\n",
       "      <td>40.35</td>\n",
       "      <td>NaN</td>\n",
       "      <td>NaN</td>\n",
       "      <td>88.35</td>\n",
       "    </tr>\n",
       "    <tr>\n",
       "      <th>5</th>\n",
       "      <td>2013-01-01 04:00:00</td>\n",
       "      <td>48.00</td>\n",
       "      <td>21.78</td>\n",
       "      <td>NaN</td>\n",
       "      <td>NaN</td>\n",
       "      <td>69.78</td>\n",
       "    </tr>\n",
       "    <tr>\n",
       "      <th>6</th>\n",
       "      <td>2013-01-01 05:00:00</td>\n",
       "      <td>48.00</td>\n",
       "      <td>16.55</td>\n",
       "      <td>NaN</td>\n",
       "      <td>NaN</td>\n",
       "      <td>64.55</td>\n",
       "    </tr>\n",
       "    <tr>\n",
       "      <th>7</th>\n",
       "      <td>2013-01-01 06:00:00</td>\n",
       "      <td>48.00</td>\n",
       "      <td>20.31</td>\n",
       "      <td>NaN</td>\n",
       "      <td>NaN</td>\n",
       "      <td>68.31</td>\n",
       "    </tr>\n",
       "    <tr>\n",
       "      <th>8</th>\n",
       "      <td>2013-01-01 07:00:00</td>\n",
       "      <td>48.00</td>\n",
       "      <td>24.72</td>\n",
       "      <td>NaN</td>\n",
       "      <td>NaN</td>\n",
       "      <td>72.72</td>\n",
       "    </tr>\n",
       "    <tr>\n",
       "      <th>9</th>\n",
       "      <td>2013-01-01 08:00:00</td>\n",
       "      <td>48.00</td>\n",
       "      <td>59.69</td>\n",
       "      <td>NaN</td>\n",
       "      <td>NaN</td>\n",
       "      <td>107.69</td>\n",
       "    </tr>\n",
       "    <tr>\n",
       "      <th>10</th>\n",
       "      <td>2013-01-01 09:00:00</td>\n",
       "      <td>48.00</td>\n",
       "      <td>75.06</td>\n",
       "      <td>NaN</td>\n",
       "      <td>NaN</td>\n",
       "      <td>123.06</td>\n",
       "    </tr>\n",
       "    <tr>\n",
       "      <th>11</th>\n",
       "      <td>2013-01-01 10:00:00</td>\n",
       "      <td>48.00</td>\n",
       "      <td>96.75</td>\n",
       "      <td>NaN</td>\n",
       "      <td>NaN</td>\n",
       "      <td>144.75</td>\n",
       "    </tr>\n",
       "    <tr>\n",
       "      <th>12</th>\n",
       "      <td>2013-01-01 11:00:00</td>\n",
       "      <td>47.50</td>\n",
       "      <td>104.05</td>\n",
       "      <td>NaN</td>\n",
       "      <td>NaN</td>\n",
       "      <td>151.55</td>\n",
       "    </tr>\n",
       "    <tr>\n",
       "      <th>13</th>\n",
       "      <td>2013-01-01 12:00:00</td>\n",
       "      <td>48.00</td>\n",
       "      <td>108.62</td>\n",
       "      <td>NaN</td>\n",
       "      <td>NaN</td>\n",
       "      <td>156.62</td>\n",
       "    </tr>\n",
       "    <tr>\n",
       "      <th>14</th>\n",
       "      <td>2013-01-01 13:00:00</td>\n",
       "      <td>28.50</td>\n",
       "      <td>101.54</td>\n",
       "      <td>NaN</td>\n",
       "      <td>NaN</td>\n",
       "      <td>130.04</td>\n",
       "    </tr>\n",
       "    <tr>\n",
       "      <th>15</th>\n",
       "      <td>2013-01-01 14:00:00</td>\n",
       "      <td>12.25</td>\n",
       "      <td>114.31</td>\n",
       "      <td>NaN</td>\n",
       "      <td>NaN</td>\n",
       "      <td>126.56</td>\n",
       "    </tr>\n",
       "    <tr>\n",
       "      <th>16</th>\n",
       "      <td>2013-01-01 15:00:00</td>\n",
       "      <td>22.25</td>\n",
       "      <td>126.67</td>\n",
       "      <td>NaN</td>\n",
       "      <td>NaN</td>\n",
       "      <td>148.92</td>\n",
       "    </tr>\n",
       "    <tr>\n",
       "      <th>17</th>\n",
       "      <td>2013-01-01 16:00:00</td>\n",
       "      <td>24.00</td>\n",
       "      <td>128.71</td>\n",
       "      <td>NaN</td>\n",
       "      <td>NaN</td>\n",
       "      <td>152.71</td>\n",
       "    </tr>\n",
       "    <tr>\n",
       "      <th>18</th>\n",
       "      <td>2013-01-01 17:00:00</td>\n",
       "      <td>20.75</td>\n",
       "      <td>131.29</td>\n",
       "      <td>NaN</td>\n",
       "      <td>NaN</td>\n",
       "      <td>152.04</td>\n",
       "    </tr>\n",
       "    <tr>\n",
       "      <th>19</th>\n",
       "      <td>2013-01-01 18:00:00</td>\n",
       "      <td>20.75</td>\n",
       "      <td>127.71</td>\n",
       "      <td>NaN</td>\n",
       "      <td>NaN</td>\n",
       "      <td>148.46</td>\n",
       "    </tr>\n",
       "  </tbody>\n",
       "</table>\n",
       "</div>"
      ],
      "text/plain": [
       "           dt_start_utc  fiftyhertz  tennet  amprion  transnetbw   nrv//\n",
       "0   2012-12-31 23:00:00       48.00  136.05      NaN         NaN  184.05\n",
       "1   2013-01-01 00:00:00       48.00  119.93      NaN         NaN  167.93\n",
       "2   2013-01-01 01:00:00       48.00   83.69      NaN         NaN  131.69\n",
       "3   2013-01-01 02:00:00       48.00   49.24      NaN         NaN   97.24\n",
       "4   2013-01-01 03:00:00       48.00   40.35      NaN         NaN   88.35\n",
       "5   2013-01-01 04:00:00       48.00   21.78      NaN         NaN   69.78\n",
       "6   2013-01-01 05:00:00       48.00   16.55      NaN         NaN   64.55\n",
       "7   2013-01-01 06:00:00       48.00   20.31      NaN         NaN   68.31\n",
       "8   2013-01-01 07:00:00       48.00   24.72      NaN         NaN   72.72\n",
       "9   2013-01-01 08:00:00       48.00   59.69      NaN         NaN  107.69\n",
       "10  2013-01-01 09:00:00       48.00   75.06      NaN         NaN  123.06\n",
       "11  2013-01-01 10:00:00       48.00   96.75      NaN         NaN  144.75\n",
       "12  2013-01-01 11:00:00       47.50  104.05      NaN         NaN  151.55\n",
       "13  2013-01-01 12:00:00       48.00  108.62      NaN         NaN  156.62\n",
       "14  2013-01-01 13:00:00       28.50  101.54      NaN         NaN  130.04\n",
       "15  2013-01-01 14:00:00       12.25  114.31      NaN         NaN  126.56\n",
       "16  2013-01-01 15:00:00       22.25  126.67      NaN         NaN  148.92\n",
       "17  2013-01-01 16:00:00       24.00  128.71      NaN         NaN  152.71\n",
       "18  2013-01-01 17:00:00       20.75  131.29      NaN         NaN  152.04\n",
       "19  2013-01-01 18:00:00       20.75  127.71      NaN         NaN  148.46"
      ]
     },
     "execution_count": 23,
     "metadata": {},
     "output_type": "execute_result"
    }
   ],
   "source": [
    "ohr_woff.head(20)"
   ]
  },
  {
   "cell_type": "code",
   "execution_count": null,
   "metadata": {},
   "outputs": [],
   "source": [
    "ohr_woff['dt_start_utc'].min()"
   ]
  },
  {
   "cell_type": "code",
   "execution_count": null,
   "metadata": {},
   "outputs": [],
   "source": [
    "ohr_woff['dt_start_utc'].max()"
   ]
  },
  {
   "cell_type": "code",
   "execution_count": null,
   "metadata": {},
   "outputs": [],
   "source": [
    "ohr_woff.describe().transpose()"
   ]
  },
  {
   "cell_type": "code",
   "execution_count": null,
   "metadata": {},
   "outputs": [],
   "source": [
    "ohr_woff.describe"
   ]
  },
  {
   "cell_type": "code",
   "execution_count": null,
   "metadata": {},
   "outputs": [],
   "source": [
    "ohr_woff.shape"
   ]
  },
  {
   "cell_type": "code",
   "execution_count": null,
   "metadata": {},
   "outputs": [],
   "source": [
    "ohr_woff.info()"
   ]
  },
  {
   "cell_type": "markdown",
   "metadata": {},
   "source": [
    "---\n",
    "\n",
    "#### __Check for nan and null values__"
   ]
  },
  {
   "cell_type": "code",
   "execution_count": 24,
   "metadata": {},
   "outputs": [
    {
     "data": {
      "text/plain": [
       "dt_start_utc        0\n",
       "fiftyhertz          0\n",
       "tennet              0\n",
       "amprion         74735\n",
       "transnetbw      74735\n",
       "nrv//               0\n",
       "dtype: int64"
      ]
     },
     "execution_count": 24,
     "metadata": {},
     "output_type": "execute_result"
    }
   ],
   "source": [
    "ohr_woff.isna().sum()"
   ]
  },
  {
   "cell_type": "code",
   "execution_count": 25,
   "metadata": {},
   "outputs": [
    {
     "data": {
      "text/plain": [
       "dt_start_utc        0\n",
       "fiftyhertz          0\n",
       "tennet              0\n",
       "amprion         74735\n",
       "transnetbw      74735\n",
       "nrv//               0\n",
       "dtype: int64"
      ]
     },
     "execution_count": 25,
     "metadata": {},
     "output_type": "execute_result"
    }
   ],
   "source": [
    "ohr_woff.isnull().sum()"
   ]
  },
  {
   "cell_type": "markdown",
   "metadata": {},
   "source": [
    "Delete the null and nan columns. The missing data came from 2 transmission system operators without offshore."
   ]
  },
  {
   "cell_type": "code",
   "execution_count": 26,
   "metadata": {},
   "outputs": [],
   "source": [
    "ohr_woff = ohr_woff.drop(['amprion', 'transnetbw'], axis = 1)"
   ]
  },
  {
   "cell_type": "markdown",
   "metadata": {},
   "source": [
    "---\n",
    "\n",
    "#### __Get an understanding of the columns__"
   ]
  },
  {
   "cell_type": "code",
   "execution_count": 27,
   "metadata": {},
   "outputs": [
    {
     "data": {
      "text/plain": [
       "Index(['dt_start_utc', 'fiftyhertz', 'tennet', 'nrv//'], dtype='object')"
      ]
     },
     "execution_count": 27,
     "metadata": {},
     "output_type": "execute_result"
    }
   ],
   "source": [
    "ohr_woff.columns"
   ]
  },
  {
   "cell_type": "code",
   "execution_count": null,
   "metadata": {},
   "outputs": [],
   "source": [
    "sns.pairplot(ohr_woff)"
   ]
  },
  {
   "cell_type": "markdown",
   "metadata": {},
   "source": [
    "---\n",
    "\n",
    "### __Wind speed__"
   ]
  },
  {
   "cell_type": "code",
   "execution_count": 28,
   "metadata": {},
   "outputs": [
    {
     "data": {
      "text/html": [
       "<div>\n",
       "<style scoped>\n",
       "    .dataframe tbody tr th:only-of-type {\n",
       "        vertical-align: middle;\n",
       "    }\n",
       "\n",
       "    .dataframe tbody tr th {\n",
       "        vertical-align: top;\n",
       "    }\n",
       "\n",
       "    .dataframe thead th {\n",
       "        text-align: right;\n",
       "    }\n",
       "</style>\n",
       "<table border=\"1\" class=\"dataframe\">\n",
       "  <thead>\n",
       "    <tr style=\"text-align: right;\">\n",
       "      <th></th>\n",
       "      <th>dt_start_utc</th>\n",
       "      <th>voronoi_area_id</th>\n",
       "      <th>windspeed_ms</th>\n",
       "    </tr>\n",
       "  </thead>\n",
       "  <tbody>\n",
       "    <tr>\n",
       "      <th>0</th>\n",
       "      <td>2018-12-31 23:00:00</td>\n",
       "      <td>1</td>\n",
       "      <td>9.523</td>\n",
       "    </tr>\n",
       "    <tr>\n",
       "      <th>1</th>\n",
       "      <td>2018-12-31 23:00:00</td>\n",
       "      <td>2</td>\n",
       "      <td>9.691</td>\n",
       "    </tr>\n",
       "    <tr>\n",
       "      <th>2</th>\n",
       "      <td>2018-12-31 23:00:00</td>\n",
       "      <td>4</td>\n",
       "      <td>14.258</td>\n",
       "    </tr>\n",
       "    <tr>\n",
       "      <th>3</th>\n",
       "      <td>2018-12-31 23:00:00</td>\n",
       "      <td>5</td>\n",
       "      <td>14.062</td>\n",
       "    </tr>\n",
       "    <tr>\n",
       "      <th>4</th>\n",
       "      <td>2018-12-31 23:00:00</td>\n",
       "      <td>6</td>\n",
       "      <td>11.504</td>\n",
       "    </tr>\n",
       "    <tr>\n",
       "      <th>...</th>\n",
       "      <td>...</td>\n",
       "      <td>...</td>\n",
       "      <td>...</td>\n",
       "    </tr>\n",
       "    <tr>\n",
       "      <th>383</th>\n",
       "      <td>2018-12-31 23:45:00</td>\n",
       "      <td>107</td>\n",
       "      <td>14.916</td>\n",
       "    </tr>\n",
       "    <tr>\n",
       "      <th>384</th>\n",
       "      <td>2018-12-31 23:45:00</td>\n",
       "      <td>109</td>\n",
       "      <td>14.125</td>\n",
       "    </tr>\n",
       "    <tr>\n",
       "      <th>385</th>\n",
       "      <td>2019-01-01 00:00:00</td>\n",
       "      <td>1</td>\n",
       "      <td>8.601</td>\n",
       "    </tr>\n",
       "    <tr>\n",
       "      <th>386</th>\n",
       "      <td>2019-01-01 00:00:00</td>\n",
       "      <td>2</td>\n",
       "      <td>9.741</td>\n",
       "    </tr>\n",
       "    <tr>\n",
       "      <th>387</th>\n",
       "      <td>2019-01-01 00:00:00</td>\n",
       "      <td>4</td>\n",
       "      <td>15.792</td>\n",
       "    </tr>\n",
       "  </tbody>\n",
       "</table>\n",
       "<p>388 rows × 3 columns</p>\n",
       "</div>"
      ],
      "text/plain": [
       "            dt_start_utc  voronoi_area_id  windspeed_ms\n",
       "0    2018-12-31 23:00:00                1         9.523\n",
       "1    2018-12-31 23:00:00                2         9.691\n",
       "2    2018-12-31 23:00:00                4        14.258\n",
       "3    2018-12-31 23:00:00                5        14.062\n",
       "4    2018-12-31 23:00:00                6        11.504\n",
       "..                   ...              ...           ...\n",
       "383  2018-12-31 23:45:00              107        14.916\n",
       "384  2018-12-31 23:45:00              109        14.125\n",
       "385  2019-01-01 00:00:00                1         8.601\n",
       "386  2019-01-01 00:00:00                2         9.741\n",
       "387  2019-01-01 00:00:00                4        15.792\n",
       "\n",
       "[388 rows x 3 columns]"
      ]
     },
     "execution_count": 28,
     "metadata": {},
     "output_type": "execute_result"
    }
   ],
   "source": [
    "speedy.head(388)"
   ]
  },
  {
   "cell_type": "markdown",
   "metadata": {},
   "source": [
    "* 385 values per hour of the timestemp\n",
    "* 6,548,085 rows, divided by the number of a normal year = 17,008.013 rows\n",
    "* 708,667 days between 31.12.2018 and 30.09.2020 \n",
    "* want to create a mean or median of the 385 values of 1h to compare and merge it with the onshore, offshore and solar csv"
   ]
  },
  {
   "cell_type": "code",
   "execution_count": null,
   "metadata": {},
   "outputs": [],
   "source": [
    "speedy.head()"
   ]
  },
  {
   "cell_type": "code",
   "execution_count": 29,
   "metadata": {},
   "outputs": [
    {
     "data": {
      "text/plain": [
       "'2020-09-30 23:45:00'"
      ]
     },
     "execution_count": 29,
     "metadata": {},
     "output_type": "execute_result"
    }
   ],
   "source": [
    "speedy['dt_start_utc'].max()"
   ]
  },
  {
   "cell_type": "code",
   "execution_count": null,
   "metadata": {},
   "outputs": [],
   "source": [
    "speedy['dt_start_utc'].min()"
   ]
  },
  {
   "cell_type": "code",
   "execution_count": null,
   "metadata": {},
   "outputs": [],
   "source": [
    "speedy.describe().transpose()"
   ]
  },
  {
   "cell_type": "code",
   "execution_count": 30,
   "metadata": {},
   "outputs": [
    {
     "data": {
      "text/plain": [
       "dt_start_utc       0\n",
       "voronoi_area_id    0\n",
       "windspeed_ms       0\n",
       "dtype: int64"
      ]
     },
     "execution_count": 30,
     "metadata": {},
     "output_type": "execute_result"
    }
   ],
   "source": [
    "speedy.isna().sum()"
   ]
  },
  {
   "cell_type": "code",
   "execution_count": null,
   "metadata": {},
   "outputs": [],
   "source": [
    "speedy.info"
   ]
  },
  {
   "cell_type": "code",
   "execution_count": 31,
   "metadata": {},
   "outputs": [],
   "source": [
    "speedy['dt_start_utc']=pd.to_datetime(speedy['dt_start_utc'])"
   ]
  },
  {
   "cell_type": "code",
   "execution_count": 35,
   "metadata": {},
   "outputs": [],
   "source": [
    "speedy = speedy.set_index('dt_start_utc')"
   ]
  },
  {
   "cell_type": "code",
   "execution_count": 36,
   "metadata": {},
   "outputs": [],
   "source": [
    "# aggregate data on hourly timesteps and interpolate missing values\n",
    "def fill_missing(data):\n",
    "    data = data.resample('1H').median()\n",
    "    data = data.interpolate(method='time', limit_direction='both')\n",
    "    return data"
   ]
  },
  {
   "cell_type": "code",
   "execution_count": 37,
   "metadata": {},
   "outputs": [],
   "source": [
    "speedy_filled = fill_missing(speedy)"
   ]
  },
  {
   "cell_type": "code",
   "execution_count": 38,
   "metadata": {},
   "outputs": [
    {
     "data": {
      "text/html": [
       "<div>\n",
       "<style scoped>\n",
       "    .dataframe tbody tr th:only-of-type {\n",
       "        vertical-align: middle;\n",
       "    }\n",
       "\n",
       "    .dataframe tbody tr th {\n",
       "        vertical-align: top;\n",
       "    }\n",
       "\n",
       "    .dataframe thead th {\n",
       "        text-align: right;\n",
       "    }\n",
       "</style>\n",
       "<table border=\"1\" class=\"dataframe\">\n",
       "  <thead>\n",
       "    <tr style=\"text-align: right;\">\n",
       "      <th></th>\n",
       "      <th>voronoi_area_id</th>\n",
       "      <th>windspeed_ms</th>\n",
       "    </tr>\n",
       "    <tr>\n",
       "      <th>dt_start_utc</th>\n",
       "      <th></th>\n",
       "      <th></th>\n",
       "    </tr>\n",
       "  </thead>\n",
       "  <tbody>\n",
       "    <tr>\n",
       "      <th>2018-12-31 23:00:00</th>\n",
       "      <td>57.0</td>\n",
       "      <td>13.1590</td>\n",
       "    </tr>\n",
       "    <tr>\n",
       "      <th>2019-01-01 00:00:00</th>\n",
       "      <td>55.5</td>\n",
       "      <td>13.7925</td>\n",
       "    </tr>\n",
       "    <tr>\n",
       "      <th>2019-01-01 01:00:00</th>\n",
       "      <td>55.0</td>\n",
       "      <td>14.3600</td>\n",
       "    </tr>\n",
       "    <tr>\n",
       "      <th>2019-01-01 02:00:00</th>\n",
       "      <td>55.0</td>\n",
       "      <td>15.0180</td>\n",
       "    </tr>\n",
       "    <tr>\n",
       "      <th>2019-01-01 03:00:00</th>\n",
       "      <td>55.0</td>\n",
       "      <td>14.8220</td>\n",
       "    </tr>\n",
       "  </tbody>\n",
       "</table>\n",
       "</div>"
      ],
      "text/plain": [
       "                     voronoi_area_id  windspeed_ms\n",
       "dt_start_utc                                      \n",
       "2018-12-31 23:00:00             57.0       13.1590\n",
       "2019-01-01 00:00:00             55.5       13.7925\n",
       "2019-01-01 01:00:00             55.0       14.3600\n",
       "2019-01-01 02:00:00             55.0       15.0180\n",
       "2019-01-01 03:00:00             55.0       14.8220"
      ]
     },
     "execution_count": 38,
     "metadata": {},
     "output_type": "execute_result"
    }
   ],
   "source": [
    "speedy_filled.head()"
   ]
  },
  {
   "cell_type": "code",
   "execution_count": 39,
   "metadata": {},
   "outputs": [
    {
     "data": {
      "text/plain": [
       "voronoi_area_id    0\n",
       "windspeed_ms       0\n",
       "dtype: int64"
      ]
     },
     "execution_count": 39,
     "metadata": {},
     "output_type": "execute_result"
    }
   ],
   "source": [
    "speedy_filled.isna().sum()"
   ]
  },
  {
   "cell_type": "code",
   "execution_count": null,
   "metadata": {},
   "outputs": [],
   "source": [
    "speedy_filled.head(20)"
   ]
  },
  {
   "cell_type": "code",
   "execution_count": null,
   "metadata": {},
   "outputs": [],
   "source": [
    "speedy.tail()"
   ]
  },
  {
   "cell_type": "code",
   "execution_count": null,
   "metadata": {},
   "outputs": [],
   "source": [
    "speedy.shape"
   ]
  },
  {
   "cell_type": "code",
   "execution_count": null,
   "metadata": {},
   "outputs": [],
   "source": [
    "speedy.isnull().sum()"
   ]
  },
  {
   "cell_type": "code",
   "execution_count": null,
   "metadata": {},
   "outputs": [],
   "source": [
    "speedy.isna().sum()"
   ]
  },
  {
   "cell_type": "code",
   "execution_count": null,
   "metadata": {},
   "outputs": [],
   "source": [
    "speedy.describe().transpose()"
   ]
  },
  {
   "cell_type": "code",
   "execution_count": null,
   "metadata": {},
   "outputs": [],
   "source": [
    "speedy.head()"
   ]
  },
  {
   "cell_type": "markdown",
   "metadata": {},
   "source": [
    "---\n",
    "\n",
    "### __Regelleistung aggregated results__"
   ]
  },
  {
   "cell_type": "code",
   "execution_count": 40,
   "metadata": {},
   "outputs": [
    {
     "data": {
      "text/html": [
       "<div>\n",
       "<style scoped>\n",
       "    .dataframe tbody tr th:only-of-type {\n",
       "        vertical-align: middle;\n",
       "    }\n",
       "\n",
       "    .dataframe tbody tr th {\n",
       "        vertical-align: top;\n",
       "    }\n",
       "\n",
       "    .dataframe thead th {\n",
       "        text-align: right;\n",
       "    }\n",
       "</style>\n",
       "<table border=\"1\" class=\"dataframe\">\n",
       "  <thead>\n",
       "    <tr style=\"text-align: right;\">\n",
       "      <th></th>\n",
       "      <th>date_start</th>\n",
       "      <th>date_end</th>\n",
       "      <th>product</th>\n",
       "      <th>reserve_type</th>\n",
       "      <th>total_min_capacity_price_eur_mw</th>\n",
       "      <th>total_average_capacity_price_eur_mw</th>\n",
       "      <th>total_marginal_capacity_price_eur_mw</th>\n",
       "      <th>total_min_energy_price_eur_mwh</th>\n",
       "      <th>total_average_energy_price_eur_mwh</th>\n",
       "      <th>total_marginal_energy_price_eur_mwh</th>\n",
       "      <th>germany_min_capacity_price_eur_mw</th>\n",
       "      <th>germany_average_capacity_price_eur_mw</th>\n",
       "      <th>germany_marginal_capacity_price_eur_mw</th>\n",
       "      <th>germany_min_energy_price_eur_mwh</th>\n",
       "      <th>germany_average_energy_price_eur_mwh</th>\n",
       "      <th>germany_marginal_energy_price_eur_mwh</th>\n",
       "      <th>germany_import_export_mw</th>\n",
       "    </tr>\n",
       "  </thead>\n",
       "  <tbody>\n",
       "    <tr>\n",
       "      <th>0</th>\n",
       "      <td>2019-01-01</td>\n",
       "      <td>2019-01-01</td>\n",
       "      <td>NEG_00_04</td>\n",
       "      <td>MRL</td>\n",
       "      <td>0.0</td>\n",
       "      <td>150.81</td>\n",
       "      <td>872.262</td>\n",
       "      <td>1.000</td>\n",
       "      <td>-371.64</td>\n",
       "      <td>-18422.000</td>\n",
       "      <td>0.0</td>\n",
       "      <td>150.81</td>\n",
       "      <td>872.262</td>\n",
       "      <td>1.000</td>\n",
       "      <td>-371.64</td>\n",
       "      <td>-18422.000</td>\n",
       "      <td>0</td>\n",
       "    </tr>\n",
       "    <tr>\n",
       "      <th>1</th>\n",
       "      <td>2019-01-01</td>\n",
       "      <td>2019-01-01</td>\n",
       "      <td>NEG_00_04</td>\n",
       "      <td>SRL</td>\n",
       "      <td>0.0</td>\n",
       "      <td>88.82</td>\n",
       "      <td>146.420</td>\n",
       "      <td>11.000</td>\n",
       "      <td>-79.74</td>\n",
       "      <td>-449.659</td>\n",
       "      <td>0.0</td>\n",
       "      <td>88.82</td>\n",
       "      <td>146.420</td>\n",
       "      <td>11.000</td>\n",
       "      <td>-79.74</td>\n",
       "      <td>-449.659</td>\n",
       "      <td>0</td>\n",
       "    </tr>\n",
       "    <tr>\n",
       "      <th>2</th>\n",
       "      <td>2019-01-01</td>\n",
       "      <td>2019-01-01</td>\n",
       "      <td>NEG_04_08</td>\n",
       "      <td>MRL</td>\n",
       "      <td>0.0</td>\n",
       "      <td>72.12</td>\n",
       "      <td>236.842</td>\n",
       "      <td>52.278</td>\n",
       "      <td>-179.30</td>\n",
       "      <td>-4989.000</td>\n",
       "      <td>0.0</td>\n",
       "      <td>72.12</td>\n",
       "      <td>236.842</td>\n",
       "      <td>52.278</td>\n",
       "      <td>-179.30</td>\n",
       "      <td>-4989.000</td>\n",
       "      <td>0</td>\n",
       "    </tr>\n",
       "    <tr>\n",
       "      <th>3</th>\n",
       "      <td>2019-01-01</td>\n",
       "      <td>2019-01-01</td>\n",
       "      <td>NEG_04_08</td>\n",
       "      <td>SRL</td>\n",
       "      <td>0.0</td>\n",
       "      <td>86.05</td>\n",
       "      <td>160.760</td>\n",
       "      <td>11.000</td>\n",
       "      <td>-79.87</td>\n",
       "      <td>-500.000</td>\n",
       "      <td>0.0</td>\n",
       "      <td>86.05</td>\n",
       "      <td>160.760</td>\n",
       "      <td>11.000</td>\n",
       "      <td>-79.87</td>\n",
       "      <td>-500.000</td>\n",
       "      <td>0</td>\n",
       "    </tr>\n",
       "    <tr>\n",
       "      <th>4</th>\n",
       "      <td>2019-01-01</td>\n",
       "      <td>2019-01-01</td>\n",
       "      <td>NEG_08_12</td>\n",
       "      <td>MRL</td>\n",
       "      <td>0.0</td>\n",
       "      <td>14.76</td>\n",
       "      <td>70.000</td>\n",
       "      <td>1.000</td>\n",
       "      <td>-264.63</td>\n",
       "      <td>-2470.000</td>\n",
       "      <td>0.0</td>\n",
       "      <td>14.76</td>\n",
       "      <td>70.000</td>\n",
       "      <td>1.000</td>\n",
       "      <td>-264.63</td>\n",
       "      <td>-2470.000</td>\n",
       "      <td>0</td>\n",
       "    </tr>\n",
       "  </tbody>\n",
       "</table>\n",
       "</div>"
      ],
      "text/plain": [
       "   date_start    date_end    product reserve_type  \\\n",
       "0  2019-01-01  2019-01-01  NEG_00_04          MRL   \n",
       "1  2019-01-01  2019-01-01  NEG_00_04          SRL   \n",
       "2  2019-01-01  2019-01-01  NEG_04_08          MRL   \n",
       "3  2019-01-01  2019-01-01  NEG_04_08          SRL   \n",
       "4  2019-01-01  2019-01-01  NEG_08_12          MRL   \n",
       "\n",
       "   total_min_capacity_price_eur_mw  total_average_capacity_price_eur_mw  \\\n",
       "0                              0.0                               150.81   \n",
       "1                              0.0                                88.82   \n",
       "2                              0.0                                72.12   \n",
       "3                              0.0                                86.05   \n",
       "4                              0.0                                14.76   \n",
       "\n",
       "   total_marginal_capacity_price_eur_mw  total_min_energy_price_eur_mwh  \\\n",
       "0                               872.262                           1.000   \n",
       "1                               146.420                          11.000   \n",
       "2                               236.842                          52.278   \n",
       "3                               160.760                          11.000   \n",
       "4                                70.000                           1.000   \n",
       "\n",
       "   total_average_energy_price_eur_mwh  total_marginal_energy_price_eur_mwh  \\\n",
       "0                             -371.64                           -18422.000   \n",
       "1                              -79.74                             -449.659   \n",
       "2                             -179.30                            -4989.000   \n",
       "3                              -79.87                             -500.000   \n",
       "4                             -264.63                            -2470.000   \n",
       "\n",
       "   germany_min_capacity_price_eur_mw  germany_average_capacity_price_eur_mw  \\\n",
       "0                                0.0                                 150.81   \n",
       "1                                0.0                                  88.82   \n",
       "2                                0.0                                  72.12   \n",
       "3                                0.0                                  86.05   \n",
       "4                                0.0                                  14.76   \n",
       "\n",
       "   germany_marginal_capacity_price_eur_mw  germany_min_energy_price_eur_mwh  \\\n",
       "0                                 872.262                             1.000   \n",
       "1                                 146.420                            11.000   \n",
       "2                                 236.842                            52.278   \n",
       "3                                 160.760                            11.000   \n",
       "4                                  70.000                             1.000   \n",
       "\n",
       "   germany_average_energy_price_eur_mwh  \\\n",
       "0                               -371.64   \n",
       "1                                -79.74   \n",
       "2                               -179.30   \n",
       "3                                -79.87   \n",
       "4                               -264.63   \n",
       "\n",
       "   germany_marginal_energy_price_eur_mwh  germany_import_export_mw  \n",
       "0                             -18422.000                         0  \n",
       "1                               -449.659                         0  \n",
       "2                              -4989.000                         0  \n",
       "3                               -500.000                         0  \n",
       "4                              -2470.000                         0  "
      ]
     },
     "execution_count": 40,
     "metadata": {},
     "output_type": "execute_result"
    }
   ],
   "source": [
    "regel_results.head()"
   ]
  },
  {
   "cell_type": "code",
   "execution_count": null,
   "metadata": {},
   "outputs": [],
   "source": [
    "regel_results.info()"
   ]
  },
  {
   "cell_type": "code",
   "execution_count": null,
   "metadata": {},
   "outputs": [],
   "source": [
    "regel_results.shape"
   ]
  },
  {
   "cell_type": "code",
   "execution_count": null,
   "metadata": {},
   "outputs": [],
   "source": [
    "regel_results.isna().sum()"
   ]
  },
  {
   "cell_type": "code",
   "execution_count": 41,
   "metadata": {},
   "outputs": [
    {
     "data": {
      "text/html": [
       "<div>\n",
       "<style scoped>\n",
       "    .dataframe tbody tr th:only-of-type {\n",
       "        vertical-align: middle;\n",
       "    }\n",
       "\n",
       "    .dataframe tbody tr th {\n",
       "        vertical-align: top;\n",
       "    }\n",
       "\n",
       "    .dataframe thead th {\n",
       "        text-align: right;\n",
       "    }\n",
       "</style>\n",
       "<table border=\"1\" class=\"dataframe\">\n",
       "  <thead>\n",
       "    <tr style=\"text-align: right;\">\n",
       "      <th></th>\n",
       "      <th>count</th>\n",
       "      <th>mean</th>\n",
       "      <th>std</th>\n",
       "      <th>min</th>\n",
       "      <th>25%</th>\n",
       "      <th>50%</th>\n",
       "      <th>75%</th>\n",
       "      <th>max</th>\n",
       "    </tr>\n",
       "  </thead>\n",
       "  <tbody>\n",
       "    <tr>\n",
       "      <th>total_min_capacity_price_eur_mw</th>\n",
       "      <td>16068.0</td>\n",
       "      <td>0.357014</td>\n",
       "      <td>1.586713</td>\n",
       "      <td>0.0</td>\n",
       "      <td>0.0000</td>\n",
       "      <td>0.000</td>\n",
       "      <td>0.0000</td>\n",
       "      <td>31.87</td>\n",
       "    </tr>\n",
       "    <tr>\n",
       "      <th>total_average_capacity_price_eur_mw</th>\n",
       "      <td>16068.0</td>\n",
       "      <td>11.983400</td>\n",
       "      <td>60.308900</td>\n",
       "      <td>0.0</td>\n",
       "      <td>0.5800</td>\n",
       "      <td>4.410</td>\n",
       "      <td>11.7800</td>\n",
       "      <td>5375.26</td>\n",
       "    </tr>\n",
       "    <tr>\n",
       "      <th>total_marginal_capacity_price_eur_mw</th>\n",
       "      <td>16068.0</td>\n",
       "      <td>36.466545</td>\n",
       "      <td>891.231948</td>\n",
       "      <td>0.0</td>\n",
       "      <td>2.0000</td>\n",
       "      <td>8.138</td>\n",
       "      <td>18.4000</td>\n",
       "      <td>99900.00</td>\n",
       "    </tr>\n",
       "    <tr>\n",
       "      <th>total_min_energy_price_eur_mwh</th>\n",
       "      <td>15828.0</td>\n",
       "      <td>37.125926</td>\n",
       "      <td>48.575562</td>\n",
       "      <td>-55.0</td>\n",
       "      <td>11.5650</td>\n",
       "      <td>36.000</td>\n",
       "      <td>60.0000</td>\n",
       "      <td>3500.00</td>\n",
       "    </tr>\n",
       "    <tr>\n",
       "      <th>total_average_energy_price_eur_mwh</th>\n",
       "      <td>15828.0</td>\n",
       "      <td>49.157829</td>\n",
       "      <td>2040.750022</td>\n",
       "      <td>-47880.0</td>\n",
       "      <td>-411.3975</td>\n",
       "      <td>40.700</td>\n",
       "      <td>654.2975</td>\n",
       "      <td>32466.80</td>\n",
       "    </tr>\n",
       "    <tr>\n",
       "      <th>total_marginal_energy_price_eur_mwh</th>\n",
       "      <td>15828.0</td>\n",
       "      <td>1005.782543</td>\n",
       "      <td>29970.177707</td>\n",
       "      <td>-99999.0</td>\n",
       "      <td>-1940.0000</td>\n",
       "      <td>30.050</td>\n",
       "      <td>9848.0000</td>\n",
       "      <td>99999.00</td>\n",
       "    </tr>\n",
       "    <tr>\n",
       "      <th>germany_min_capacity_price_eur_mw</th>\n",
       "      <td>16068.0</td>\n",
       "      <td>0.399128</td>\n",
       "      <td>1.774616</td>\n",
       "      <td>0.0</td>\n",
       "      <td>0.0000</td>\n",
       "      <td>0.000</td>\n",
       "      <td>0.0000</td>\n",
       "      <td>31.87</td>\n",
       "    </tr>\n",
       "    <tr>\n",
       "      <th>germany_average_capacity_price_eur_mw</th>\n",
       "      <td>16068.0</td>\n",
       "      <td>12.095214</td>\n",
       "      <td>60.416618</td>\n",
       "      <td>0.0</td>\n",
       "      <td>0.5900</td>\n",
       "      <td>4.460</td>\n",
       "      <td>11.8800</td>\n",
       "      <td>5375.26</td>\n",
       "    </tr>\n",
       "    <tr>\n",
       "      <th>germany_marginal_capacity_price_eur_mw</th>\n",
       "      <td>16068.0</td>\n",
       "      <td>36.433738</td>\n",
       "      <td>891.232577</td>\n",
       "      <td>0.0</td>\n",
       "      <td>2.0000</td>\n",
       "      <td>8.110</td>\n",
       "      <td>18.3600</td>\n",
       "      <td>99900.00</td>\n",
       "    </tr>\n",
       "    <tr>\n",
       "      <th>germany_min_energy_price_eur_mwh</th>\n",
       "      <td>15828.0</td>\n",
       "      <td>36.924757</td>\n",
       "      <td>42.628876</td>\n",
       "      <td>-55.0</td>\n",
       "      <td>11.0000</td>\n",
       "      <td>36.000</td>\n",
       "      <td>60.0075</td>\n",
       "      <td>3500.00</td>\n",
       "    </tr>\n",
       "    <tr>\n",
       "      <th>germany_average_energy_price_eur_mwh</th>\n",
       "      <td>15828.0</td>\n",
       "      <td>50.284847</td>\n",
       "      <td>2053.545882</td>\n",
       "      <td>-47880.0</td>\n",
       "      <td>-412.7700</td>\n",
       "      <td>40.700</td>\n",
       "      <td>656.9275</td>\n",
       "      <td>32466.80</td>\n",
       "    </tr>\n",
       "    <tr>\n",
       "      <th>germany_marginal_energy_price_eur_mwh</th>\n",
       "      <td>15828.0</td>\n",
       "      <td>1009.382551</td>\n",
       "      <td>29967.709183</td>\n",
       "      <td>-99999.0</td>\n",
       "      <td>-1940.0000</td>\n",
       "      <td>30.050</td>\n",
       "      <td>9848.0000</td>\n",
       "      <td>99999.00</td>\n",
       "    </tr>\n",
       "    <tr>\n",
       "      <th>germany_import_export_mw</th>\n",
       "      <td>16068.0</td>\n",
       "      <td>-7.379574</td>\n",
       "      <td>53.657480</td>\n",
       "      <td>-688.0</td>\n",
       "      <td>0.0000</td>\n",
       "      <td>0.000</td>\n",
       "      <td>0.0000</td>\n",
       "      <td>946.00</td>\n",
       "    </tr>\n",
       "  </tbody>\n",
       "</table>\n",
       "</div>"
      ],
      "text/plain": [
       "                                          count         mean           std  \\\n",
       "total_min_capacity_price_eur_mw         16068.0     0.357014      1.586713   \n",
       "total_average_capacity_price_eur_mw     16068.0    11.983400     60.308900   \n",
       "total_marginal_capacity_price_eur_mw    16068.0    36.466545    891.231948   \n",
       "total_min_energy_price_eur_mwh          15828.0    37.125926     48.575562   \n",
       "total_average_energy_price_eur_mwh      15828.0    49.157829   2040.750022   \n",
       "total_marginal_energy_price_eur_mwh     15828.0  1005.782543  29970.177707   \n",
       "germany_min_capacity_price_eur_mw       16068.0     0.399128      1.774616   \n",
       "germany_average_capacity_price_eur_mw   16068.0    12.095214     60.416618   \n",
       "germany_marginal_capacity_price_eur_mw  16068.0    36.433738    891.232577   \n",
       "germany_min_energy_price_eur_mwh        15828.0    36.924757     42.628876   \n",
       "germany_average_energy_price_eur_mwh    15828.0    50.284847   2053.545882   \n",
       "germany_marginal_energy_price_eur_mwh   15828.0  1009.382551  29967.709183   \n",
       "germany_import_export_mw                16068.0    -7.379574     53.657480   \n",
       "\n",
       "                                            min        25%     50%        75%  \\\n",
       "total_min_capacity_price_eur_mw             0.0     0.0000   0.000     0.0000   \n",
       "total_average_capacity_price_eur_mw         0.0     0.5800   4.410    11.7800   \n",
       "total_marginal_capacity_price_eur_mw        0.0     2.0000   8.138    18.4000   \n",
       "total_min_energy_price_eur_mwh            -55.0    11.5650  36.000    60.0000   \n",
       "total_average_energy_price_eur_mwh     -47880.0  -411.3975  40.700   654.2975   \n",
       "total_marginal_energy_price_eur_mwh    -99999.0 -1940.0000  30.050  9848.0000   \n",
       "germany_min_capacity_price_eur_mw           0.0     0.0000   0.000     0.0000   \n",
       "germany_average_capacity_price_eur_mw       0.0     0.5900   4.460    11.8800   \n",
       "germany_marginal_capacity_price_eur_mw      0.0     2.0000   8.110    18.3600   \n",
       "germany_min_energy_price_eur_mwh          -55.0    11.0000  36.000    60.0075   \n",
       "germany_average_energy_price_eur_mwh   -47880.0  -412.7700  40.700   656.9275   \n",
       "germany_marginal_energy_price_eur_mwh  -99999.0 -1940.0000  30.050  9848.0000   \n",
       "germany_import_export_mw                 -688.0     0.0000   0.000     0.0000   \n",
       "\n",
       "                                             max  \n",
       "total_min_capacity_price_eur_mw            31.87  \n",
       "total_average_capacity_price_eur_mw      5375.26  \n",
       "total_marginal_capacity_price_eur_mw    99900.00  \n",
       "total_min_energy_price_eur_mwh           3500.00  \n",
       "total_average_energy_price_eur_mwh      32466.80  \n",
       "total_marginal_energy_price_eur_mwh     99999.00  \n",
       "germany_min_capacity_price_eur_mw          31.87  \n",
       "germany_average_capacity_price_eur_mw    5375.26  \n",
       "germany_marginal_capacity_price_eur_mw  99900.00  \n",
       "germany_min_energy_price_eur_mwh         3500.00  \n",
       "germany_average_energy_price_eur_mwh    32466.80  \n",
       "germany_marginal_energy_price_eur_mwh   99999.00  \n",
       "germany_import_export_mw                  946.00  "
      ]
     },
     "execution_count": 41,
     "metadata": {},
     "output_type": "execute_result"
    }
   ],
   "source": [
    "regel_results.describe().transpose()"
   ]
  },
  {
   "cell_type": "code",
   "execution_count": null,
   "metadata": {},
   "outputs": [],
   "source": [
    "regel_results.corr()"
   ]
  },
  {
   "cell_type": "code",
   "execution_count": null,
   "metadata": {},
   "outputs": [],
   "source": [
    "regel_results.min()"
   ]
  },
  {
   "cell_type": "code",
   "execution_count": null,
   "metadata": {},
   "outputs": [],
   "source": [
    "regel_results.max()"
   ]
  },
  {
   "cell_type": "markdown",
   "metadata": {},
   "source": [
    "---\n",
    "\n",
    "#### __Handle Nan, null values and missing data__"
   ]
  },
  {
   "cell_type": "code",
   "execution_count": 42,
   "metadata": {},
   "outputs": [],
   "source": [
    "def fill_missing(data):\n",
    "    data = data.resample('1H').median()\n",
    "    data = data.interpolate(method='time', limit_direction='both')\n",
    "    return data"
   ]
  },
  {
   "cell_type": "code",
   "execution_count": 43,
   "metadata": {},
   "outputs": [],
   "source": [
    "#converting ‘dt_start_utc’ to datetime format and seting as index\n",
    "regel_results['date_end'] = pd.to_datetime(regel_results['date_end'])\n",
    "regel_results = regel_results.set_index('date_end')"
   ]
  },
  {
   "cell_type": "code",
   "execution_count": null,
   "metadata": {},
   "outputs": [],
   "source": [
    "regel_results.head()"
   ]
  },
  {
   "cell_type": "code",
   "execution_count": null,
   "metadata": {},
   "outputs": [],
   "source": [
    "regel_results_filled=fill_missing(regel_results)"
   ]
  },
  {
   "cell_type": "code",
   "execution_count": null,
   "metadata": {},
   "outputs": [],
   "source": [
    "regel_results_filled['weekday']=regel_results_filled.index.dayofweek"
   ]
  },
  {
   "cell_type": "code",
   "execution_count": null,
   "metadata": {},
   "outputs": [],
   "source": [
    "regel_results_filled['date']=regel_results_filled.index.date"
   ]
  },
  {
   "cell_type": "code",
   "execution_count": null,
   "metadata": {},
   "outputs": [],
   "source": [
    "regel_results_filled.head()"
   ]
  },
  {
   "cell_type": "code",
   "execution_count": null,
   "metadata": {},
   "outputs": [],
   "source": [
    "regel_results_filled.isna().sum()"
   ]
  },
  {
   "cell_type": "markdown",
   "metadata": {},
   "source": [
    "---\n",
    "\n",
    "### __Regelleistung Demands__"
   ]
  },
  {
   "cell_type": "code",
   "execution_count": null,
   "metadata": {},
   "outputs": [],
   "source": [
    "regel_demand.head()"
   ]
  },
  {
   "cell_type": "code",
   "execution_count": null,
   "metadata": {},
   "outputs": [],
   "source": [
    "regel_demand.describe().transpose()"
   ]
  },
  {
   "cell_type": "code",
   "execution_count": null,
   "metadata": {},
   "outputs": [],
   "source": [
    "regel_demand.isna().sum()"
   ]
  },
  {
   "cell_type": "code",
   "execution_count": null,
   "metadata": {},
   "outputs": [],
   "source": [
    "regel_demand.info()"
   ]
  },
  {
   "cell_type": "code",
   "execution_count": null,
   "metadata": {},
   "outputs": [],
   "source": [
    "regel_demand.shape"
   ]
  },
  {
   "cell_type": "code",
   "execution_count": null,
   "metadata": {},
   "outputs": [],
   "source": [
    "regel_demand.max()"
   ]
  },
  {
   "cell_type": "code",
   "execution_count": null,
   "metadata": {},
   "outputs": [],
   "source": [
    "regel_demand.min()"
   ]
  },
  {
   "cell_type": "code",
   "execution_count": null,
   "metadata": {},
   "outputs": [],
   "source": [
    "regel_demand.corr()"
   ]
  },
  {
   "cell_type": "markdown",
   "metadata": {},
   "source": [
    "---\n",
    "\n",
    "## __Columns of the datasets__"
   ]
  },
  {
   "cell_type": "code",
   "execution_count": 44,
   "metadata": {},
   "outputs": [
    {
     "data": {
      "text/plain": [
       "Index(['dt_start_utc', 'fiftyhertz', 'tennet', 'amprion', 'transnetbw', 'nrv'], dtype='object')"
      ]
     },
     "execution_count": 44,
     "metadata": {},
     "output_type": "execute_result"
    }
   ],
   "source": [
    "ohr_solar.columns"
   ]
  },
  {
   "cell_type": "code",
   "execution_count": 45,
   "metadata": {},
   "outputs": [
    {
     "data": {
      "text/plain": [
       "Index(['dt_start_utc', 'fiftyhertz', 'tennet', 'nrv//'], dtype='object')"
      ]
     },
     "execution_count": 45,
     "metadata": {},
     "output_type": "execute_result"
    }
   ],
   "source": [
    "ohr_woff.columns"
   ]
  },
  {
   "cell_type": "code",
   "execution_count": 46,
   "metadata": {},
   "outputs": [],
   "source": [
    "ohr_solar['dt_start_utc']=pd.to_datetime(ohr_solar['dt_start_utc'])"
   ]
  },
  {
   "cell_type": "code",
   "execution_count": 47,
   "metadata": {},
   "outputs": [],
   "source": [
    "ohr_solar = ohr_solar.set_index('dt_start_utc')"
   ]
  },
  {
   "cell_type": "code",
   "execution_count": 48,
   "metadata": {},
   "outputs": [],
   "source": [
    "ohr_woff['dt_start_utc']=pd.to_datetime(ohr_woff['dt_start_utc'])"
   ]
  },
  {
   "cell_type": "code",
   "execution_count": 49,
   "metadata": {},
   "outputs": [],
   "source": [
    "ohr_woff = ohr_woff.set_index('dt_start_utc')"
   ]
  },
  {
   "cell_type": "markdown",
   "metadata": {},
   "source": [
    "---\n",
    "\n",
    "#### __Rename the last column in the Offshore dataset and delete //__"
   ]
  },
  {
   "cell_type": "code",
   "execution_count": 66,
   "metadata": {},
   "outputs": [],
   "source": [
    "#ohr_woff=ohr_woff.rename(columns={'nrv//': 'nrv'})\n",
    "ohr_woff=ohr_woff.rename(columns={'nrv//':'nrv' })"
   ]
  },
  {
   "cell_type": "code",
   "execution_count": 67,
   "metadata": {},
   "outputs": [
    {
     "data": {
      "text/html": [
       "<div>\n",
       "<style scoped>\n",
       "    .dataframe tbody tr th:only-of-type {\n",
       "        vertical-align: middle;\n",
       "    }\n",
       "\n",
       "    .dataframe tbody tr th {\n",
       "        vertical-align: top;\n",
       "    }\n",
       "\n",
       "    .dataframe thead th {\n",
       "        text-align: right;\n",
       "    }\n",
       "</style>\n",
       "<table border=\"1\" class=\"dataframe\">\n",
       "  <thead>\n",
       "    <tr style=\"text-align: right;\">\n",
       "      <th></th>\n",
       "      <th>fiftyhertz</th>\n",
       "      <th>tennet</th>\n",
       "      <th>nrv</th>\n",
       "    </tr>\n",
       "    <tr>\n",
       "      <th>dt_start_utc</th>\n",
       "      <th></th>\n",
       "      <th></th>\n",
       "      <th></th>\n",
       "    </tr>\n",
       "  </thead>\n",
       "  <tbody>\n",
       "    <tr>\n",
       "      <th>2012-12-31 23:00:00</th>\n",
       "      <td>48.0</td>\n",
       "      <td>136.05</td>\n",
       "      <td>184.05</td>\n",
       "    </tr>\n",
       "    <tr>\n",
       "      <th>2013-01-01 00:00:00</th>\n",
       "      <td>48.0</td>\n",
       "      <td>119.93</td>\n",
       "      <td>167.93</td>\n",
       "    </tr>\n",
       "    <tr>\n",
       "      <th>2013-01-01 01:00:00</th>\n",
       "      <td>48.0</td>\n",
       "      <td>83.69</td>\n",
       "      <td>131.69</td>\n",
       "    </tr>\n",
       "    <tr>\n",
       "      <th>2013-01-01 02:00:00</th>\n",
       "      <td>48.0</td>\n",
       "      <td>49.24</td>\n",
       "      <td>97.24</td>\n",
       "    </tr>\n",
       "    <tr>\n",
       "      <th>2013-01-01 03:00:00</th>\n",
       "      <td>48.0</td>\n",
       "      <td>40.35</td>\n",
       "      <td>88.35</td>\n",
       "    </tr>\n",
       "  </tbody>\n",
       "</table>\n",
       "</div>"
      ],
      "text/plain": [
       "                     fiftyhertz  tennet     nrv\n",
       "dt_start_utc                                   \n",
       "2012-12-31 23:00:00        48.0  136.05  184.05\n",
       "2013-01-01 00:00:00        48.0  119.93  167.93\n",
       "2013-01-01 01:00:00        48.0   83.69  131.69\n",
       "2013-01-01 02:00:00        48.0   49.24   97.24\n",
       "2013-01-01 03:00:00        48.0   40.35   88.35"
      ]
     },
     "execution_count": 67,
     "metadata": {},
     "output_type": "execute_result"
    }
   ],
   "source": [
    "ohr_woff.head()"
   ]
  },
  {
   "cell_type": "markdown",
   "metadata": {},
   "source": [
    "---\n",
    "\n",
    "#### __Rename the unnamed columns in the Onshore dataset__"
   ]
  },
  {
   "cell_type": "code",
   "execution_count": 62,
   "metadata": {},
   "outputs": [
    {
     "data": {
      "text/plain": [
       "Int64Index([0, 1, 2, 3, 4, 5], dtype='int64')"
      ]
     },
     "execution_count": 62,
     "metadata": {},
     "output_type": "execute_result"
    }
   ],
   "source": [
    "ohr_won.columns"
   ]
  },
  {
   "cell_type": "code",
   "execution_count": 63,
   "metadata": {},
   "outputs": [],
   "source": [
    "ohr_won=ohr_won.rename(columns={ohr_won.columns[0]: 'dt_start_utc', ohr_won.columns[1]: 'fiftyhertz', ohr_won.columns[2]:'tennet', ohr_won.columns[3]:'amprion', ohr_won.columns[4]:'transnetbw', ohr_won.columns[5]:'nrv' })"
   ]
  },
  {
   "cell_type": "code",
   "execution_count": 64,
   "metadata": {},
   "outputs": [
    {
     "data": {
      "text/html": [
       "<div>\n",
       "<style scoped>\n",
       "    .dataframe tbody tr th:only-of-type {\n",
       "        vertical-align: middle;\n",
       "    }\n",
       "\n",
       "    .dataframe tbody tr th {\n",
       "        vertical-align: top;\n",
       "    }\n",
       "\n",
       "    .dataframe thead th {\n",
       "        text-align: right;\n",
       "    }\n",
       "</style>\n",
       "<table border=\"1\" class=\"dataframe\">\n",
       "  <thead>\n",
       "    <tr style=\"text-align: right;\">\n",
       "      <th></th>\n",
       "      <th>dt_start_utc</th>\n",
       "      <th>fiftyhertz</th>\n",
       "      <th>tennet</th>\n",
       "      <th>amprion</th>\n",
       "      <th>transnetbw</th>\n",
       "      <th>nrv</th>\n",
       "    </tr>\n",
       "  </thead>\n",
       "  <tbody>\n",
       "    <tr>\n",
       "      <th>0</th>\n",
       "      <td>2011-12-31 23:00:00</td>\n",
       "      <td>1271.8</td>\n",
       "      <td>1582.70</td>\n",
       "      <td>1542.03</td>\n",
       "      <td>262.10</td>\n",
       "      <td>4658.63</td>\n",
       "    </tr>\n",
       "    <tr>\n",
       "      <th>1</th>\n",
       "      <td>2012-01-01 00:00:00</td>\n",
       "      <td>1358.8</td>\n",
       "      <td>1816.21</td>\n",
       "      <td>1548.25</td>\n",
       "      <td>216.23</td>\n",
       "      <td>4939.49</td>\n",
       "    </tr>\n",
       "    <tr>\n",
       "      <th>2</th>\n",
       "      <td>2012-01-01 01:00:00</td>\n",
       "      <td>1339.2</td>\n",
       "      <td>2312.11</td>\n",
       "      <td>1650.40</td>\n",
       "      <td>157.80</td>\n",
       "      <td>5459.51</td>\n",
       "    </tr>\n",
       "    <tr>\n",
       "      <th>3</th>\n",
       "      <td>2012-01-01 02:00:00</td>\n",
       "      <td>1436.2</td>\n",
       "      <td>2881.49</td>\n",
       "      <td>1642.62</td>\n",
       "      <td>195.34</td>\n",
       "      <td>6155.65</td>\n",
       "    </tr>\n",
       "    <tr>\n",
       "      <th>4</th>\n",
       "      <td>2012-01-01 03:00:00</td>\n",
       "      <td>1707.8</td>\n",
       "      <td>3162.34</td>\n",
       "      <td>1709.99</td>\n",
       "      <td>225.16</td>\n",
       "      <td>6805.30</td>\n",
       "    </tr>\n",
       "  </tbody>\n",
       "</table>\n",
       "</div>"
      ],
      "text/plain": [
       "          dt_start_utc  fiftyhertz   tennet  amprion  transnetbw      nrv\n",
       "0  2011-12-31 23:00:00      1271.8  1582.70  1542.03      262.10  4658.63\n",
       "1  2012-01-01 00:00:00      1358.8  1816.21  1548.25      216.23  4939.49\n",
       "2  2012-01-01 01:00:00      1339.2  2312.11  1650.40      157.80  5459.51\n",
       "3  2012-01-01 02:00:00      1436.2  2881.49  1642.62      195.34  6155.65\n",
       "4  2012-01-01 03:00:00      1707.8  3162.34  1709.99      225.16  6805.30"
      ]
     },
     "execution_count": 64,
     "metadata": {},
     "output_type": "execute_result"
    }
   ],
   "source": [
    "ohr_won.head()"
   ]
  },
  {
   "cell_type": "markdown",
   "metadata": {},
   "source": [
    "---\n",
    "\n",
    "### __Get an understanding of the column names meaning__"
   ]
  },
  {
   "cell_type": "markdown",
   "metadata": {},
   "source": [
    "---\n",
    "\n",
    "#### __Amprion__ "
   ]
  },
  {
   "cell_type": "markdown",
   "metadata": {},
   "source": [
    "* __one of four transmission system operators in Germany__\n",
    "* __extra-high-voltage network is 11,000 km long__ and transports electricity across an area that extends from Lower Saxony to the Alps. \n",
    "* __Around a third of Germany’s economic output is generated there__. \n",
    "* Also performs overarching operations for integrated grid systems in Germany and Europe\n",
    "* 2 offshore wind farms: DOLWIN4 and BORWIN4 - operation start 2028\n",
    "\n",
    "    https://www.amprion.net/"
   ]
  },
  {
   "cell_type": "markdown",
   "metadata": {},
   "source": [
    "##### __Market Platform__\n",
    "\n",
    "* Grid Losses\n",
    "* Reserve Power Plants \n",
    "* Control Energy\n",
    "* Interruptible Loads "
   ]
  },
  {
   "cell_type": "markdown",
   "metadata": {},
   "source": [
    "---\n",
    "\n",
    "#### __TenneT__ "
   ]
  },
  {
   "cell_type": "markdown",
   "metadata": {},
   "source": [
    "* __one of four transmission system operators in Germany and the Netherlands__\n",
    "* 27,000 high voltage pylons\n",
    "* __24,000 km high-voltage network__\n",
    "* 99.9999% grid availability\n",
    "* Onshore and Offshore projects\n",
    "* 14 total connected offshore wind farms\n",
    "* 16 interconnections\n",
    "* 42,000,000 end users\n",
    "\n",
    "    https://www.tennet.eu/#&panel1-1"
   ]
  },
  {
   "cell_type": "markdown",
   "metadata": {},
   "source": [
    "---\n",
    "\n",
    "#### __Transnet BW__"
   ]
  },
  {
   "cell_type": "markdown",
   "metadata": {},
   "source": [
    "* __one of four transmission system operators in Germany__: Baden-Württemberg but ensure that electricity is supplied to the region, Germany and throughout Europe\n",
    "* former part of EnBW, spun off to separate company due to the European Commission's requirements for the liberalisation of the energy market\n",
    "* __power grid lines of 3,200 km__\n",
    "* 11,000,000 end users\n",
    "* cooperation with Amprion for the __Ultranet__ grid expansion project\n",
    "* cooperation with TenneT: planning and implementing __SuedLink__ wind power line (700 km, largest infrastructure project, north-south connection)\n",
    "\n",
    "\n",
    "\n",
    "    https://www.transnetbw.de/de"
   ]
  },
  {
   "cell_type": "markdown",
   "metadata": {},
   "source": [
    "##### __Link to infeed:__ \n",
    "\n",
    "* https://www.transnetbw.com/en/transparency/market-data/key-figures"
   ]
  },
  {
   "cell_type": "markdown",
   "metadata": {},
   "source": [
    "---\n",
    "\n",
    "#### __50Hertz__"
   ]
  },
  {
   "cell_type": "markdown",
   "metadata": {},
   "source": [
    "* 50Hertz Transmission is __one of four transmission system operators in Northern and Eastern Germany__\n",
    "* __power grid lines of 10,380 km__\n",
    "* 18,000,000 end users\n",
    "* 50Hertz is a forerunner in the field of secure integration of renewable energy: in our grid area, more than 60 percent of the electricity consumed is already generated from renewable sources – until 2032 we want to integrate 100 percent securely. \n",
    "* 2 Offshore Wind parks: Ostwind 2 (GER), Arcadis Ost 1 (Belgian Wind Park Operator Parkwind)\n",
    "* Connect Arcadis Ost 1 and Baltic Eagle (both Baltic Sea)- installation of third cable system planned for 2022"
   ]
  },
  {
   "cell_type": "markdown",
   "metadata": {},
   "source": [
    "---\n",
    "\n",
    "#### __NRV NetzRegelVerbund__"
   ]
  },
  {
   "cell_type": "markdown",
   "metadata": {},
   "source": [
    "* Grid Control Cooperation: innovative network control concept, by means of which the four German transmission system operators (TSOs) optimise their control energy use and the control reserve provision technically and economically through an intelligent communication between the load-frequency controllers of the TSOs\n",
    "* TSOs: 50Hertz, Amprion, TenneT, Transnet BW\n",
    "\n",
    "* https://www.regelleistung.net/apps/datacenter/activated-values/?cooperation=NRV&qualities=OPERATIONAL&qualities=ASSURED&seriesGroups=HIJQag%2BgIgohCCMAKEkBUCMBWAskA"
   ]
  },
  {
   "cell_type": "markdown",
   "metadata": {},
   "source": [
    "---\n",
    "\n",
    "#### __SRL = SekundärRegelLeistung__"
   ]
  },
  {
   "cell_type": "markdown",
   "metadata": {},
   "source": [
    "Auch die Sekundärregelung hat die Aufgabe, das Gleichgewicht zwischen physikalischem Stromangebot und -nachfrage nach dem Auftreten einer Differenz wiederherzustellen. Im Gegensatz zur Primärregelung wird hier nur die Situation in der jeweiligen Regelzone inklusive des Stromaustausches mit anderen Regelzonen betrachtet. Dafür werden die geplanten mit den tatsächlichen Leistungsflüssen zu anderen Regelzonen verglichen und ausgeregelt. Es muss sichergestellt sein, dass die Sekundär- und Primärregelung immer in die gleiche Richtung arbeiten, was durch eine Überwachung der Netzfrequenz sichergestellt wird. Primär- und Sekundärregelung können zeitgleich starten, der sekundäre Regelvorgang sollte entsprechend den Vorgaben des Netzregelverbundes nach spätestens 15 Minuten den primären Regelvorgang abgelöst haben, so dass die Primärregelung wieder zur Verfügung steht.\n",
    "\n",
    "Die Höhe der sekundär zur Verfügung gestellten Leistung hängt zum einen von der Netzkennzahl und der Frequenzabweichung ab, zum anderen von der Differenz aus den tatsächlichen Austauschleistungen zu Nachbarnetzen und den als Fahrplan deklarierten Austauschleistungen. Der Abruf der Sekundärregelleistung erfolgt automatisiert, dazu sind die entsprechenden Erzeugungseinheiten leittechnisch mit dem Übertragungsnetzbetreiber verbunden. Erzeugereinheiten, die Sekundärregelleistung bereitstellen, müssen dabei besondere Anforderungen erfüllen. Die gesamte Regelleistung muss innerhalb von höchstens 5 Minuten erbracht werden können, die Laständerungsgeschwindigkeit muss dabei mindestens 2 % der Nennleistung pro Minute betragen. Zum Einsatz kommen dabei zum Beispiel Pumpspeicherkraftwerke oder auch konventionelle GuD- oder Steinkohlekraftwerke."
   ]
  },
  {
   "cell_type": "markdown",
   "metadata": {},
   "source": [
    "---\n",
    "\n",
    "#### __MRL = MinutenReserveLeistung (Tertiärregelung)__"
   ]
  },
  {
   "cell_type": "markdown",
   "metadata": {},
   "source": [
    "Auch bei der Tertiärregelung (Minutenreserve) wird zwischen negativer und positiver Regelenergie unterschieden, sie dient primär der wirtschaftlichen Optimierung. Früher wurde die Minutenreserve vom Übertragungsnetzbetreiber beim Lieferanten telefonisch angefordert.\n",
    "\n",
    "Seit 3. Juli 2012 wird die Minutenreserve automatisch vom Merit-Order-List-Server (MOLS) abgerufen.\n",
    "\n",
    "Die vorgehaltene Minutenreserveleistung muss innerhalb von 15 Minuten vollständig erbracht werden können, zum Einsatz kommen dabei konventionelle Kraftwerke oder andere Erzeugereinheiten, sowie regelbare Lasten. \n",
    "\n",
    "Als regelbare Lasten werden zum Beispiel Lichtbogenöfen in Stahlwerken oder Nachtspeicherheizungen verwendet.\n",
    "\n",
    "__Für die negative Minutenreserve stehen zwei Möglichkeiten zur Verfügung:__\n",
    "\n",
    "* Die Aktivierung zusätzlicher Lasten im Netz in Form von Pumpspeicherkraftwerken.\n",
    "* Das teilweise oder komplette Herunterfahren von Kraftwerken. Neben der Drosselung von Großkraftwerken kann negative Regelleistung auch durch kollektives Abschalten von Blockheizkraftwerken (BHKW-Anlagen) in Form eines virtuellen Kraftwerks bereitgestellt werden. Dabei sind solche BHKW-Anlagen besonders geeignet, deren Wärmelieferung nicht kontinuierlich gewährleistet sein muss. Jedoch darf deren eingespeister Strom nicht nach EEG vergütet werden, denn eine Parallelvermarktung steht derzeit dem EEG entgegen. \n",
    "* Auch durch Windkraft kann mittlerweile negative Minutenreserve bereitgestellt werden. Dafür werden Windkraftanlagen in einem virtuellen Kraftwerk mithilfe von Fernsteuerung und auf Basis meteorologischer Daten, den Erzeugungsleistungen der Anlagen und der jeweiligen Signale der Netzbetreiber dem Bedarf entsprechend heruntergeregelt."
   ]
  },
  {
   "cell_type": "markdown",
   "metadata": {},
   "source": [
    "---\n",
    "\n",
    "#### __RZ = Regelzone__"
   ]
  },
  {
   "cell_type": "markdown",
   "metadata": {},
   "source": [
    "---\n",
    "\n",
    "#### __Imbalance energy price__"
   ]
  },
  {
   "cell_type": "markdown",
   "metadata": {},
   "source": [
    "The imbalance price, also known as reBAP (uniform imbalance price across control areas in Germany), determines on the balancing group side the price of the energy used to balance the system."
   ]
  },
  {
   "cell_type": "code",
   "execution_count": null,
   "metadata": {},
   "outputs": [],
   "source": [
    "imb = pd.read_csv(\"../data/imbalance_de.csv\", header=None)"
   ]
  },
  {
   "cell_type": "code",
   "execution_count": null,
   "metadata": {},
   "outputs": [],
   "source": [
    "imb.tail(50)"
   ]
  },
  {
   "cell_type": "markdown",
   "metadata": {},
   "source": [
    "column 1 seems to be the Imbalance (in MWh)\n",
    "column 2 seems to be Imbalance Energy Price (in EUR/MWh) "
   ]
  },
  {
   "cell_type": "markdown",
   "metadata": {},
   "source": [
    "---\n",
    "\n",
    "### __Renewables in Europe__"
   ]
  },
  {
   "cell_type": "markdown",
   "metadata": {},
   "source": [
    "Windparks:\n",
    "\n",
    "* https://www.thewindpower.net/online_access_de.php\n",
    "\n",
    "* https://www.thewindpower.net/store_continent_de.php?id_zone=1000"
   ]
  },
  {
   "cell_type": "markdown",
   "metadata": {},
   "source": [
    "Offshore: \n",
    "\n",
    "* http://153.97.132.92/qgiswebclient.html?map=/var/qgis-web-client/projects/wind_farm.qgs&searchtables=search_wind&lang=de&startExtent=6.4,51.3,14.5,58.3"
   ]
  },
  {
   "cell_type": "markdown",
   "metadata": {},
   "source": [
    "Offshore network overview:\n",
    "\n",
    "* https://www.erneuerbare-energien.de/EE/Navigation/DE/Technologien/Windenergie-auf-See/Offshore-Projekte/Netzanbindungen/netzanbindungen.html"
   ]
  },
  {
   "cell_type": "markdown",
   "metadata": {},
   "source": [
    "---\n",
    "\n",
    "## __Split time stemp__"
   ]
  },
  {
   "cell_type": "code",
   "execution_count": null,
   "metadata": {},
   "outputs": [],
   "source": [
    "ohr_solar['year'] = pd.to_datetime(ohr_solar['dt_start_utc']).dt.year\n",
    "ohr_solar['month'] = pd.to_datetime(ohr_solar['dt_start_utc']).dt.month\n",
    "ohr_solar['day'] = pd.to_datetime(ohr_solar['dt_start_utc']).dt.day\n",
    "ohr_solar['hour'] = pd.to_datetime(ohr_solar['dt_start_utc']).dt.hour\n",
    "ohr_solar['minute'] = pd.to_datetime(ohr_solar['dt_start_utc']).dt.minute\n",
    "ohr_solar['seconds'] = pd.to_datetime(ohr_solar['dt_start_utc']).dt.second\n",
    "ohr_solar['date']=pd.to_datetime(ohr_solar['dt_start_utc']).dt.date"
   ]
  },
  {
   "cell_type": "code",
   "execution_count": null,
   "metadata": {},
   "outputs": [],
   "source": [
    "ohr_woff['year'] = pd.to_datetime(ohr_woff['dt_start_utc']).dt.year\n",
    "ohr_woff['month'] = pd.to_datetime(ohr_woff['dt_start_utc']).dt.month\n",
    "ohr_woff['day'] = pd.to_datetime(ohr_woff['dt_start_utc']).dt.day\n",
    "ohr_woff['hour'] = pd.to_datetime(ohr_woff['dt_start_utc']).dt.hour\n",
    "ohr_woff['minute'] = pd.to_datetime(ohr_woff['dt_start_utc']).dt.minute\n",
    "ohr_woff['seconds'] = pd.to_datetime(ohr_woff['dt_start_utc']).dt.second\n",
    "ohr_woff['date']=pd.to_datetime(ohr_woff['dt_start_utc']).dt.date"
   ]
  },
  {
   "cell_type": "code",
   "execution_count": null,
   "metadata": {},
   "outputs": [],
   "source": [
    "ohr_won['year'] = pd.to_datetime(ohr_won['dt_start_utc']).dt.year\n",
    "ohr_won['month'] = pd.to_datetime(ohr_won['dt_start_utc']).dt.month\n",
    "ohr_won['day'] = pd.to_datetime(ohr_won['dt_start_utc']).dt.day\n",
    "ohr_won['hour'] = pd.to_datetime(ohr_won['dt_start_utc']).dt.hour\n",
    "ohr_won['minute'] = pd.to_datetime(ohr_won['dt_start_utc']).dt.minute\n",
    "ohr_won['seconds'] = pd.to_datetime(ohr_won['dt_start_utc']).dt.second\n",
    "ohr_won['date']=pd.to_datetime(ohr_won['dt_start_utc']).dt.date\n"
   ]
  },
  {
   "cell_type": "markdown",
   "metadata": {},
   "source": [
    "No solar values between 4PM and 7AM due to sun light availability in winter month. In summer between 8PM and 2AM."
   ]
  },
  {
   "cell_type": "code",
   "execution_count": null,
   "metadata": {},
   "outputs": [],
   "source": [
    "ohr_solar.tail(10)"
   ]
  },
  {
   "cell_type": "code",
   "execution_count": null,
   "metadata": {},
   "outputs": [],
   "source": [
    "ohr_woff.head(10)"
   ]
  },
  {
   "cell_type": "code",
   "execution_count": null,
   "metadata": {},
   "outputs": [],
   "source": [
    "ohr_won.head(10)"
   ]
  },
  {
   "cell_type": "markdown",
   "metadata": {},
   "source": [
    "---\n",
    "\n",
    "### __Create timestemp and split for windspeed__"
   ]
  },
  {
   "cell_type": "code",
   "execution_count": null,
   "metadata": {},
   "outputs": [],
   "source": [
    "speedy_groupby=speedy_groupby.reset_index()"
   ]
  },
  {
   "cell_type": "code",
   "execution_count": null,
   "metadata": {},
   "outputs": [],
   "source": [
    "speedy_groupby['hours']=speedy_groupby['dt_start_utc'].dt.hour"
   ]
  },
  {
   "cell_type": "code",
   "execution_count": null,
   "metadata": {},
   "outputs": [],
   "source": [
    "speedy_groupby.head(20)"
   ]
  },
  {
   "cell_type": "code",
   "execution_count": null,
   "metadata": {},
   "outputs": [],
   "source": [
    "speedy_groupby['day']=speedy_groupby['dt_start_utc'].dt.to_period('D')"
   ]
  },
  {
   "cell_type": "code",
   "execution_count": null,
   "metadata": {},
   "outputs": [],
   "source": [
    "speedy_groupby.head()"
   ]
  },
  {
   "cell_type": "code",
   "execution_count": null,
   "metadata": {},
   "outputs": [],
   "source": [
    "speedy_groupby.drop(['dt_start_utc','voronoi_area_id'], axis=1, inplace=True)"
   ]
  },
  {
   "cell_type": "code",
   "execution_count": null,
   "metadata": {},
   "outputs": [],
   "source": [
    "speedy_groupby_hour=speedy_groupby.groupby(['day','hours']).median()"
   ]
  },
  {
   "cell_type": "code",
   "execution_count": null,
   "metadata": {},
   "outputs": [],
   "source": [
    "speedy_groupby_hour.head(30)"
   ]
  },
  {
   "cell_type": "code",
   "execution_count": 52,
   "metadata": {},
   "outputs": [],
   "source": [
    "wind=speedy_filled"
   ]
  },
  {
   "cell_type": "code",
   "execution_count": 53,
   "metadata": {},
   "outputs": [
    {
     "data": {
      "text/html": [
       "<div>\n",
       "<style scoped>\n",
       "    .dataframe tbody tr th:only-of-type {\n",
       "        vertical-align: middle;\n",
       "    }\n",
       "\n",
       "    .dataframe tbody tr th {\n",
       "        vertical-align: top;\n",
       "    }\n",
       "\n",
       "    .dataframe thead th {\n",
       "        text-align: right;\n",
       "    }\n",
       "</style>\n",
       "<table border=\"1\" class=\"dataframe\">\n",
       "  <thead>\n",
       "    <tr style=\"text-align: right;\">\n",
       "      <th></th>\n",
       "      <th>voronoi_area_id</th>\n",
       "      <th>windspeed_ms</th>\n",
       "    </tr>\n",
       "    <tr>\n",
       "      <th>dt_start_utc</th>\n",
       "      <th></th>\n",
       "      <th></th>\n",
       "    </tr>\n",
       "  </thead>\n",
       "  <tbody>\n",
       "    <tr>\n",
       "      <th>2018-12-31 23:00:00</th>\n",
       "      <td>57.0</td>\n",
       "      <td>13.1590</td>\n",
       "    </tr>\n",
       "    <tr>\n",
       "      <th>2019-01-01 00:00:00</th>\n",
       "      <td>55.5</td>\n",
       "      <td>13.7925</td>\n",
       "    </tr>\n",
       "    <tr>\n",
       "      <th>2019-01-01 01:00:00</th>\n",
       "      <td>55.0</td>\n",
       "      <td>14.3600</td>\n",
       "    </tr>\n",
       "    <tr>\n",
       "      <th>2019-01-01 02:00:00</th>\n",
       "      <td>55.0</td>\n",
       "      <td>15.0180</td>\n",
       "    </tr>\n",
       "    <tr>\n",
       "      <th>2019-01-01 03:00:00</th>\n",
       "      <td>55.0</td>\n",
       "      <td>14.8220</td>\n",
       "    </tr>\n",
       "  </tbody>\n",
       "</table>\n",
       "</div>"
      ],
      "text/plain": [
       "                     voronoi_area_id  windspeed_ms\n",
       "dt_start_utc                                      \n",
       "2018-12-31 23:00:00             57.0       13.1590\n",
       "2019-01-01 00:00:00             55.5       13.7925\n",
       "2019-01-01 01:00:00             55.0       14.3600\n",
       "2019-01-01 02:00:00             55.0       15.0180\n",
       "2019-01-01 03:00:00             55.0       14.8220"
      ]
     },
     "execution_count": 53,
     "metadata": {},
     "output_type": "execute_result"
    }
   ],
   "source": [
    "wind.head()"
   ]
  },
  {
   "cell_type": "markdown",
   "metadata": {},
   "source": [
    "---\n",
    "---\n",
    "\n",
    "# __Merge datasets__"
   ]
  },
  {
   "cell_type": "markdown",
   "metadata": {},
   "source": [
    "### __Preparing the merge: same index and format__"
   ]
  },
  {
   "cell_type": "markdown",
   "metadata": {},
   "source": [
    "#### __wind speed__"
   ]
  },
  {
   "cell_type": "code",
   "execution_count": 54,
   "metadata": {},
   "outputs": [
    {
     "data": {
      "text/html": [
       "<div>\n",
       "<style scoped>\n",
       "    .dataframe tbody tr th:only-of-type {\n",
       "        vertical-align: middle;\n",
       "    }\n",
       "\n",
       "    .dataframe tbody tr th {\n",
       "        vertical-align: top;\n",
       "    }\n",
       "\n",
       "    .dataframe thead th {\n",
       "        text-align: right;\n",
       "    }\n",
       "</style>\n",
       "<table border=\"1\" class=\"dataframe\">\n",
       "  <thead>\n",
       "    <tr style=\"text-align: right;\">\n",
       "      <th></th>\n",
       "      <th>voronoi_area_id</th>\n",
       "      <th>windspeed_ms</th>\n",
       "    </tr>\n",
       "    <tr>\n",
       "      <th>dt_start_utc</th>\n",
       "      <th></th>\n",
       "      <th></th>\n",
       "    </tr>\n",
       "  </thead>\n",
       "  <tbody>\n",
       "    <tr>\n",
       "      <th>2020-09-30 19:00:00</th>\n",
       "      <td>55.5</td>\n",
       "      <td>6.1635</td>\n",
       "    </tr>\n",
       "    <tr>\n",
       "      <th>2020-09-30 20:00:00</th>\n",
       "      <td>55.5</td>\n",
       "      <td>5.9385</td>\n",
       "    </tr>\n",
       "    <tr>\n",
       "      <th>2020-09-30 21:00:00</th>\n",
       "      <td>55.5</td>\n",
       "      <td>6.0630</td>\n",
       "    </tr>\n",
       "    <tr>\n",
       "      <th>2020-09-30 22:00:00</th>\n",
       "      <td>55.5</td>\n",
       "      <td>6.2825</td>\n",
       "    </tr>\n",
       "    <tr>\n",
       "      <th>2020-09-30 23:00:00</th>\n",
       "      <td>55.5</td>\n",
       "      <td>6.3625</td>\n",
       "    </tr>\n",
       "  </tbody>\n",
       "</table>\n",
       "</div>"
      ],
      "text/plain": [
       "                     voronoi_area_id  windspeed_ms\n",
       "dt_start_utc                                      \n",
       "2020-09-30 19:00:00             55.5        6.1635\n",
       "2020-09-30 20:00:00             55.5        5.9385\n",
       "2020-09-30 21:00:00             55.5        6.0630\n",
       "2020-09-30 22:00:00             55.5        6.2825\n",
       "2020-09-30 23:00:00             55.5        6.3625"
      ]
     },
     "execution_count": 54,
     "metadata": {},
     "output_type": "execute_result"
    }
   ],
   "source": [
    "wind.tail()"
   ]
  },
  {
   "cell_type": "code",
   "execution_count": 55,
   "metadata": {},
   "outputs": [],
   "source": [
    "wind.drop(['voronoi_area_id'], axis=1, inplace=True)"
   ]
  },
  {
   "cell_type": "code",
   "execution_count": 56,
   "metadata": {},
   "outputs": [
    {
     "data": {
      "text/html": [
       "<div>\n",
       "<style scoped>\n",
       "    .dataframe tbody tr th:only-of-type {\n",
       "        vertical-align: middle;\n",
       "    }\n",
       "\n",
       "    .dataframe tbody tr th {\n",
       "        vertical-align: top;\n",
       "    }\n",
       "\n",
       "    .dataframe thead th {\n",
       "        text-align: right;\n",
       "    }\n",
       "</style>\n",
       "<table border=\"1\" class=\"dataframe\">\n",
       "  <thead>\n",
       "    <tr style=\"text-align: right;\">\n",
       "      <th></th>\n",
       "      <th>windspeed_ms</th>\n",
       "    </tr>\n",
       "    <tr>\n",
       "      <th>dt_start_utc</th>\n",
       "      <th></th>\n",
       "    </tr>\n",
       "  </thead>\n",
       "  <tbody>\n",
       "    <tr>\n",
       "      <th>2018-12-31 23:00:00</th>\n",
       "      <td>13.1590</td>\n",
       "    </tr>\n",
       "    <tr>\n",
       "      <th>2019-01-01 00:00:00</th>\n",
       "      <td>13.7925</td>\n",
       "    </tr>\n",
       "    <tr>\n",
       "      <th>2019-01-01 01:00:00</th>\n",
       "      <td>14.3600</td>\n",
       "    </tr>\n",
       "    <tr>\n",
       "      <th>2019-01-01 02:00:00</th>\n",
       "      <td>15.0180</td>\n",
       "    </tr>\n",
       "    <tr>\n",
       "      <th>2019-01-01 03:00:00</th>\n",
       "      <td>14.8220</td>\n",
       "    </tr>\n",
       "  </tbody>\n",
       "</table>\n",
       "</div>"
      ],
      "text/plain": [
       "                     windspeed_ms\n",
       "dt_start_utc                     \n",
       "2018-12-31 23:00:00       13.1590\n",
       "2019-01-01 00:00:00       13.7925\n",
       "2019-01-01 01:00:00       14.3600\n",
       "2019-01-01 02:00:00       15.0180\n",
       "2019-01-01 03:00:00       14.8220"
      ]
     },
     "execution_count": 56,
     "metadata": {},
     "output_type": "execute_result"
    }
   ],
   "source": [
    "wind.head()"
   ]
  },
  {
   "cell_type": "markdown",
   "metadata": {},
   "source": [
    "---\n",
    "\n",
    "#### __OHR Onshore__"
   ]
  },
  {
   "cell_type": "code",
   "execution_count": 69,
   "metadata": {},
   "outputs": [
    {
     "data": {
      "text/html": [
       "<div>\n",
       "<style scoped>\n",
       "    .dataframe tbody tr th:only-of-type {\n",
       "        vertical-align: middle;\n",
       "    }\n",
       "\n",
       "    .dataframe tbody tr th {\n",
       "        vertical-align: top;\n",
       "    }\n",
       "\n",
       "    .dataframe thead th {\n",
       "        text-align: right;\n",
       "    }\n",
       "</style>\n",
       "<table border=\"1\" class=\"dataframe\">\n",
       "  <thead>\n",
       "    <tr style=\"text-align: right;\">\n",
       "      <th></th>\n",
       "      <th>dt_start_utc</th>\n",
       "      <th>fiftyhertz</th>\n",
       "      <th>tennet</th>\n",
       "      <th>amprion</th>\n",
       "      <th>transnetbw</th>\n",
       "      <th>nrv</th>\n",
       "    </tr>\n",
       "  </thead>\n",
       "  <tbody>\n",
       "    <tr>\n",
       "      <th>83274</th>\n",
       "      <td>2021-07-01 17:00:00</td>\n",
       "      <td>2646.70</td>\n",
       "      <td>2741.11</td>\n",
       "      <td>1897.75</td>\n",
       "      <td>328.50</td>\n",
       "      <td>7614.06</td>\n",
       "    </tr>\n",
       "    <tr>\n",
       "      <th>83275</th>\n",
       "      <td>2021-07-01 18:00:00</td>\n",
       "      <td>2640.47</td>\n",
       "      <td>2521.96</td>\n",
       "      <td>1508.00</td>\n",
       "      <td>252.50</td>\n",
       "      <td>6922.93</td>\n",
       "    </tr>\n",
       "    <tr>\n",
       "      <th>83276</th>\n",
       "      <td>2021-07-01 19:00:00</td>\n",
       "      <td>2350.51</td>\n",
       "      <td>2304.29</td>\n",
       "      <td>1227.75</td>\n",
       "      <td>197.25</td>\n",
       "      <td>6079.80</td>\n",
       "    </tr>\n",
       "    <tr>\n",
       "      <th>83277</th>\n",
       "      <td>2021-07-01 20:00:00</td>\n",
       "      <td>2403.94</td>\n",
       "      <td>2213.08</td>\n",
       "      <td>989.00</td>\n",
       "      <td>157.00</td>\n",
       "      <td>5763.02</td>\n",
       "    </tr>\n",
       "    <tr>\n",
       "      <th>83278</th>\n",
       "      <td>2021-07-01 21:00:00</td>\n",
       "      <td>2554.92</td>\n",
       "      <td>2185.50</td>\n",
       "      <td>817.75</td>\n",
       "      <td>154.75</td>\n",
       "      <td>5712.92</td>\n",
       "    </tr>\n",
       "  </tbody>\n",
       "</table>\n",
       "</div>"
      ],
      "text/plain": [
       "              dt_start_utc  fiftyhertz   tennet  amprion  transnetbw      nrv\n",
       "83274  2021-07-01 17:00:00     2646.70  2741.11  1897.75      328.50  7614.06\n",
       "83275  2021-07-01 18:00:00     2640.47  2521.96  1508.00      252.50  6922.93\n",
       "83276  2021-07-01 19:00:00     2350.51  2304.29  1227.75      197.25  6079.80\n",
       "83277  2021-07-01 20:00:00     2403.94  2213.08   989.00      157.00  5763.02\n",
       "83278  2021-07-01 21:00:00     2554.92  2185.50   817.75      154.75  5712.92"
      ]
     },
     "execution_count": 69,
     "metadata": {},
     "output_type": "execute_result"
    }
   ],
   "source": [
    "ohr_won.tail()"
   ]
  },
  {
   "cell_type": "code",
   "execution_count": 68,
   "metadata": {},
   "outputs": [
    {
     "ename": "KeyError",
     "evalue": "\"['year' 'month' 'day' 'hour' 'minute' 'seconds' 'date'] not found in axis\"",
     "output_type": "error",
     "traceback": [
      "\u001b[0;31m---------------------------------------------------------------------------\u001b[0m",
      "\u001b[0;31mKeyError\u001b[0m                                  Traceback (most recent call last)",
      "\u001b[0;32m/var/folders/l1/s0yq7dwn0bb9pl6j4h0s86840000gn/T/ipykernel_14285/153731509.py\u001b[0m in \u001b[0;36m<module>\u001b[0;34m\u001b[0m\n\u001b[0;32m----> 1\u001b[0;31m \u001b[0mohr_won\u001b[0m\u001b[0;34m.\u001b[0m\u001b[0mdrop\u001b[0m\u001b[0;34m(\u001b[0m\u001b[0;34m[\u001b[0m\u001b[0;34m'year'\u001b[0m\u001b[0;34m,\u001b[0m\u001b[0;34m'month'\u001b[0m\u001b[0;34m,\u001b[0m \u001b[0;34m'day'\u001b[0m\u001b[0;34m,\u001b[0m \u001b[0;34m'hour'\u001b[0m\u001b[0;34m,\u001b[0m \u001b[0;34m'minute'\u001b[0m\u001b[0;34m,\u001b[0m \u001b[0;34m'seconds'\u001b[0m\u001b[0;34m,\u001b[0m \u001b[0;34m'date'\u001b[0m\u001b[0;34m]\u001b[0m\u001b[0;34m,\u001b[0m \u001b[0maxis\u001b[0m\u001b[0;34m=\u001b[0m\u001b[0;36m1\u001b[0m\u001b[0;34m,\u001b[0m \u001b[0minplace\u001b[0m\u001b[0;34m=\u001b[0m\u001b[0;32mTrue\u001b[0m\u001b[0;34m)\u001b[0m\u001b[0;34m\u001b[0m\u001b[0;34m\u001b[0m\u001b[0m\n\u001b[0m",
      "\u001b[0;32m~/neuefische/capstone_energy/.venv/lib/python3.9/site-packages/pandas/util/_decorators.py\u001b[0m in \u001b[0;36mwrapper\u001b[0;34m(*args, **kwargs)\u001b[0m\n\u001b[1;32m    309\u001b[0m                     \u001b[0mstacklevel\u001b[0m\u001b[0;34m=\u001b[0m\u001b[0mstacklevel\u001b[0m\u001b[0;34m,\u001b[0m\u001b[0;34m\u001b[0m\u001b[0;34m\u001b[0m\u001b[0m\n\u001b[1;32m    310\u001b[0m                 )\n\u001b[0;32m--> 311\u001b[0;31m             \u001b[0;32mreturn\u001b[0m \u001b[0mfunc\u001b[0m\u001b[0;34m(\u001b[0m\u001b[0;34m*\u001b[0m\u001b[0margs\u001b[0m\u001b[0;34m,\u001b[0m \u001b[0;34m**\u001b[0m\u001b[0mkwargs\u001b[0m\u001b[0;34m)\u001b[0m\u001b[0;34m\u001b[0m\u001b[0;34m\u001b[0m\u001b[0m\n\u001b[0m\u001b[1;32m    312\u001b[0m \u001b[0;34m\u001b[0m\u001b[0m\n\u001b[1;32m    313\u001b[0m         \u001b[0;32mreturn\u001b[0m \u001b[0mwrapper\u001b[0m\u001b[0;34m\u001b[0m\u001b[0;34m\u001b[0m\u001b[0m\n",
      "\u001b[0;32m~/neuefische/capstone_energy/.venv/lib/python3.9/site-packages/pandas/core/frame.py\u001b[0m in \u001b[0;36mdrop\u001b[0;34m(self, labels, axis, index, columns, level, inplace, errors)\u001b[0m\n\u001b[1;32m   4904\u001b[0m                 \u001b[0mweight\u001b[0m  \u001b[0;36m1.0\u001b[0m     \u001b[0;36m0.8\u001b[0m\u001b[0;34m\u001b[0m\u001b[0;34m\u001b[0m\u001b[0m\n\u001b[1;32m   4905\u001b[0m         \"\"\"\n\u001b[0;32m-> 4906\u001b[0;31m         return super().drop(\n\u001b[0m\u001b[1;32m   4907\u001b[0m             \u001b[0mlabels\u001b[0m\u001b[0;34m=\u001b[0m\u001b[0mlabels\u001b[0m\u001b[0;34m,\u001b[0m\u001b[0;34m\u001b[0m\u001b[0;34m\u001b[0m\u001b[0m\n\u001b[1;32m   4908\u001b[0m             \u001b[0maxis\u001b[0m\u001b[0;34m=\u001b[0m\u001b[0maxis\u001b[0m\u001b[0;34m,\u001b[0m\u001b[0;34m\u001b[0m\u001b[0;34m\u001b[0m\u001b[0m\n",
      "\u001b[0;32m~/neuefische/capstone_energy/.venv/lib/python3.9/site-packages/pandas/core/generic.py\u001b[0m in \u001b[0;36mdrop\u001b[0;34m(self, labels, axis, index, columns, level, inplace, errors)\u001b[0m\n\u001b[1;32m   4148\u001b[0m         \u001b[0;32mfor\u001b[0m \u001b[0maxis\u001b[0m\u001b[0;34m,\u001b[0m \u001b[0mlabels\u001b[0m \u001b[0;32min\u001b[0m \u001b[0maxes\u001b[0m\u001b[0;34m.\u001b[0m\u001b[0mitems\u001b[0m\u001b[0;34m(\u001b[0m\u001b[0;34m)\u001b[0m\u001b[0;34m:\u001b[0m\u001b[0;34m\u001b[0m\u001b[0;34m\u001b[0m\u001b[0m\n\u001b[1;32m   4149\u001b[0m             \u001b[0;32mif\u001b[0m \u001b[0mlabels\u001b[0m \u001b[0;32mis\u001b[0m \u001b[0;32mnot\u001b[0m \u001b[0;32mNone\u001b[0m\u001b[0;34m:\u001b[0m\u001b[0;34m\u001b[0m\u001b[0;34m\u001b[0m\u001b[0m\n\u001b[0;32m-> 4150\u001b[0;31m                 \u001b[0mobj\u001b[0m \u001b[0;34m=\u001b[0m \u001b[0mobj\u001b[0m\u001b[0;34m.\u001b[0m\u001b[0m_drop_axis\u001b[0m\u001b[0;34m(\u001b[0m\u001b[0mlabels\u001b[0m\u001b[0;34m,\u001b[0m \u001b[0maxis\u001b[0m\u001b[0;34m,\u001b[0m \u001b[0mlevel\u001b[0m\u001b[0;34m=\u001b[0m\u001b[0mlevel\u001b[0m\u001b[0;34m,\u001b[0m \u001b[0merrors\u001b[0m\u001b[0;34m=\u001b[0m\u001b[0merrors\u001b[0m\u001b[0;34m)\u001b[0m\u001b[0;34m\u001b[0m\u001b[0;34m\u001b[0m\u001b[0m\n\u001b[0m\u001b[1;32m   4151\u001b[0m \u001b[0;34m\u001b[0m\u001b[0m\n\u001b[1;32m   4152\u001b[0m         \u001b[0;32mif\u001b[0m \u001b[0minplace\u001b[0m\u001b[0;34m:\u001b[0m\u001b[0;34m\u001b[0m\u001b[0;34m\u001b[0m\u001b[0m\n",
      "\u001b[0;32m~/neuefische/capstone_energy/.venv/lib/python3.9/site-packages/pandas/core/generic.py\u001b[0m in \u001b[0;36m_drop_axis\u001b[0;34m(self, labels, axis, level, errors)\u001b[0m\n\u001b[1;32m   4183\u001b[0m                 \u001b[0mnew_axis\u001b[0m \u001b[0;34m=\u001b[0m \u001b[0maxis\u001b[0m\u001b[0;34m.\u001b[0m\u001b[0mdrop\u001b[0m\u001b[0;34m(\u001b[0m\u001b[0mlabels\u001b[0m\u001b[0;34m,\u001b[0m \u001b[0mlevel\u001b[0m\u001b[0;34m=\u001b[0m\u001b[0mlevel\u001b[0m\u001b[0;34m,\u001b[0m \u001b[0merrors\u001b[0m\u001b[0;34m=\u001b[0m\u001b[0merrors\u001b[0m\u001b[0;34m)\u001b[0m\u001b[0;34m\u001b[0m\u001b[0;34m\u001b[0m\u001b[0m\n\u001b[1;32m   4184\u001b[0m             \u001b[0;32melse\u001b[0m\u001b[0;34m:\u001b[0m\u001b[0;34m\u001b[0m\u001b[0;34m\u001b[0m\u001b[0m\n\u001b[0;32m-> 4185\u001b[0;31m                 \u001b[0mnew_axis\u001b[0m \u001b[0;34m=\u001b[0m \u001b[0maxis\u001b[0m\u001b[0;34m.\u001b[0m\u001b[0mdrop\u001b[0m\u001b[0;34m(\u001b[0m\u001b[0mlabels\u001b[0m\u001b[0;34m,\u001b[0m \u001b[0merrors\u001b[0m\u001b[0;34m=\u001b[0m\u001b[0merrors\u001b[0m\u001b[0;34m)\u001b[0m\u001b[0;34m\u001b[0m\u001b[0;34m\u001b[0m\u001b[0m\n\u001b[0m\u001b[1;32m   4186\u001b[0m             \u001b[0mresult\u001b[0m \u001b[0;34m=\u001b[0m \u001b[0mself\u001b[0m\u001b[0;34m.\u001b[0m\u001b[0mreindex\u001b[0m\u001b[0;34m(\u001b[0m\u001b[0;34m**\u001b[0m\u001b[0;34m{\u001b[0m\u001b[0maxis_name\u001b[0m\u001b[0;34m:\u001b[0m \u001b[0mnew_axis\u001b[0m\u001b[0;34m}\u001b[0m\u001b[0;34m)\u001b[0m\u001b[0;34m\u001b[0m\u001b[0;34m\u001b[0m\u001b[0m\n\u001b[1;32m   4187\u001b[0m \u001b[0;34m\u001b[0m\u001b[0m\n",
      "\u001b[0;32m~/neuefische/capstone_energy/.venv/lib/python3.9/site-packages/pandas/core/indexes/base.py\u001b[0m in \u001b[0;36mdrop\u001b[0;34m(self, labels, errors)\u001b[0m\n\u001b[1;32m   6015\u001b[0m         \u001b[0;32mif\u001b[0m \u001b[0mmask\u001b[0m\u001b[0;34m.\u001b[0m\u001b[0many\u001b[0m\u001b[0;34m(\u001b[0m\u001b[0;34m)\u001b[0m\u001b[0;34m:\u001b[0m\u001b[0;34m\u001b[0m\u001b[0;34m\u001b[0m\u001b[0m\n\u001b[1;32m   6016\u001b[0m             \u001b[0;32mif\u001b[0m \u001b[0merrors\u001b[0m \u001b[0;34m!=\u001b[0m \u001b[0;34m\"ignore\"\u001b[0m\u001b[0;34m:\u001b[0m\u001b[0;34m\u001b[0m\u001b[0;34m\u001b[0m\u001b[0m\n\u001b[0;32m-> 6017\u001b[0;31m                 \u001b[0;32mraise\u001b[0m \u001b[0mKeyError\u001b[0m\u001b[0;34m(\u001b[0m\u001b[0;34mf\"{labels[mask]} not found in axis\"\u001b[0m\u001b[0;34m)\u001b[0m\u001b[0;34m\u001b[0m\u001b[0;34m\u001b[0m\u001b[0m\n\u001b[0m\u001b[1;32m   6018\u001b[0m             \u001b[0mindexer\u001b[0m \u001b[0;34m=\u001b[0m \u001b[0mindexer\u001b[0m\u001b[0;34m[\u001b[0m\u001b[0;34m~\u001b[0m\u001b[0mmask\u001b[0m\u001b[0;34m]\u001b[0m\u001b[0;34m\u001b[0m\u001b[0;34m\u001b[0m\u001b[0m\n\u001b[1;32m   6019\u001b[0m         \u001b[0;32mreturn\u001b[0m \u001b[0mself\u001b[0m\u001b[0;34m.\u001b[0m\u001b[0mdelete\u001b[0m\u001b[0;34m(\u001b[0m\u001b[0mindexer\u001b[0m\u001b[0;34m)\u001b[0m\u001b[0;34m\u001b[0m\u001b[0;34m\u001b[0m\u001b[0m\n",
      "\u001b[0;31mKeyError\u001b[0m: \"['year' 'month' 'day' 'hour' 'minute' 'seconds' 'date'] not found in axis\""
     ]
    }
   ],
   "source": [
    "ohr_won.drop(['year','month', 'day', 'hour', 'minute', 'seconds', 'date'], axis=1, inplace=True)"
   ]
  },
  {
   "cell_type": "code",
   "execution_count": null,
   "metadata": {},
   "outputs": [],
   "source": [
    "ohr_won=ohr_won.rename(columns={ohr_won.columns[0]: 'dt_start_utc', ohr_won.columns[1]: 'fiftyhertz', ohr_won.columns[2]:'tennet', ohr_won.columns[3]:'amprion', ohr_won.columns[4]:'transnetbw', ohr_won.columns[5]:'nrv' })"
   ]
  },
  {
   "cell_type": "code",
   "execution_count": null,
   "metadata": {},
   "outputs": [],
   "source": [
    "ohr_won.head()"
   ]
  },
  {
   "cell_type": "code",
   "execution_count": null,
   "metadata": {},
   "outputs": [],
   "source": [
    "ohr_won.shape"
   ]
  },
  {
   "cell_type": "code",
   "execution_count": null,
   "metadata": {},
   "outputs": [],
   "source": [
    "ohr_woff.shape"
   ]
  },
  {
   "cell_type": "code",
   "execution_count": 71,
   "metadata": {},
   "outputs": [],
   "source": [
    "ohr_won = ohr_won.set_index('dt_start_utc')"
   ]
  },
  {
   "cell_type": "code",
   "execution_count": 70,
   "metadata": {},
   "outputs": [],
   "source": [
    "ohr_won['dt_start_utc']=pd.to_datetime(ohr_won['dt_start_utc'])"
   ]
  },
  {
   "cell_type": "code",
   "execution_count": 72,
   "metadata": {},
   "outputs": [
    {
     "data": {
      "text/html": [
       "<div>\n",
       "<style scoped>\n",
       "    .dataframe tbody tr th:only-of-type {\n",
       "        vertical-align: middle;\n",
       "    }\n",
       "\n",
       "    .dataframe tbody tr th {\n",
       "        vertical-align: top;\n",
       "    }\n",
       "\n",
       "    .dataframe thead th {\n",
       "        text-align: right;\n",
       "    }\n",
       "</style>\n",
       "<table border=\"1\" class=\"dataframe\">\n",
       "  <thead>\n",
       "    <tr style=\"text-align: right;\">\n",
       "      <th></th>\n",
       "      <th>fiftyhertz</th>\n",
       "      <th>tennet</th>\n",
       "      <th>amprion</th>\n",
       "      <th>transnetbw</th>\n",
       "      <th>nrv</th>\n",
       "    </tr>\n",
       "    <tr>\n",
       "      <th>dt_start_utc</th>\n",
       "      <th></th>\n",
       "      <th></th>\n",
       "      <th></th>\n",
       "      <th></th>\n",
       "      <th></th>\n",
       "    </tr>\n",
       "  </thead>\n",
       "  <tbody>\n",
       "    <tr>\n",
       "      <th>2011-12-31 23:00:00</th>\n",
       "      <td>1271.8</td>\n",
       "      <td>1582.70</td>\n",
       "      <td>1542.03</td>\n",
       "      <td>262.10</td>\n",
       "      <td>4658.63</td>\n",
       "    </tr>\n",
       "    <tr>\n",
       "      <th>2012-01-01 00:00:00</th>\n",
       "      <td>1358.8</td>\n",
       "      <td>1816.21</td>\n",
       "      <td>1548.25</td>\n",
       "      <td>216.23</td>\n",
       "      <td>4939.49</td>\n",
       "    </tr>\n",
       "    <tr>\n",
       "      <th>2012-01-01 01:00:00</th>\n",
       "      <td>1339.2</td>\n",
       "      <td>2312.11</td>\n",
       "      <td>1650.40</td>\n",
       "      <td>157.80</td>\n",
       "      <td>5459.51</td>\n",
       "    </tr>\n",
       "    <tr>\n",
       "      <th>2012-01-01 02:00:00</th>\n",
       "      <td>1436.2</td>\n",
       "      <td>2881.49</td>\n",
       "      <td>1642.62</td>\n",
       "      <td>195.34</td>\n",
       "      <td>6155.65</td>\n",
       "    </tr>\n",
       "    <tr>\n",
       "      <th>2012-01-01 03:00:00</th>\n",
       "      <td>1707.8</td>\n",
       "      <td>3162.34</td>\n",
       "      <td>1709.99</td>\n",
       "      <td>225.16</td>\n",
       "      <td>6805.30</td>\n",
       "    </tr>\n",
       "  </tbody>\n",
       "</table>\n",
       "</div>"
      ],
      "text/plain": [
       "                     fiftyhertz   tennet  amprion  transnetbw      nrv\n",
       "dt_start_utc                                                          \n",
       "2011-12-31 23:00:00      1271.8  1582.70  1542.03      262.10  4658.63\n",
       "2012-01-01 00:00:00      1358.8  1816.21  1548.25      216.23  4939.49\n",
       "2012-01-01 01:00:00      1339.2  2312.11  1650.40      157.80  5459.51\n",
       "2012-01-01 02:00:00      1436.2  2881.49  1642.62      195.34  6155.65\n",
       "2012-01-01 03:00:00      1707.8  3162.34  1709.99      225.16  6805.30"
      ]
     },
     "execution_count": 72,
     "metadata": {},
     "output_type": "execute_result"
    }
   ],
   "source": [
    "ohr_won.head()"
   ]
  },
  {
   "cell_type": "markdown",
   "metadata": {},
   "source": [
    "---\n",
    "\n",
    "#### __OHR Offshore__"
   ]
  },
  {
   "cell_type": "code",
   "execution_count": 73,
   "metadata": {},
   "outputs": [
    {
     "data": {
      "text/html": [
       "<div>\n",
       "<style scoped>\n",
       "    .dataframe tbody tr th:only-of-type {\n",
       "        vertical-align: middle;\n",
       "    }\n",
       "\n",
       "    .dataframe tbody tr th {\n",
       "        vertical-align: top;\n",
       "    }\n",
       "\n",
       "    .dataframe thead th {\n",
       "        text-align: right;\n",
       "    }\n",
       "</style>\n",
       "<table border=\"1\" class=\"dataframe\">\n",
       "  <thead>\n",
       "    <tr style=\"text-align: right;\">\n",
       "      <th></th>\n",
       "      <th>fiftyhertz</th>\n",
       "      <th>tennet</th>\n",
       "      <th>nrv</th>\n",
       "    </tr>\n",
       "    <tr>\n",
       "      <th>dt_start_utc</th>\n",
       "      <th></th>\n",
       "      <th></th>\n",
       "      <th></th>\n",
       "    </tr>\n",
       "  </thead>\n",
       "  <tbody>\n",
       "    <tr>\n",
       "      <th>2021-07-11 17:00:00</th>\n",
       "      <td>122.44</td>\n",
       "      <td>1097.56</td>\n",
       "      <td>1220.00</td>\n",
       "    </tr>\n",
       "    <tr>\n",
       "      <th>2021-07-11 18:00:00</th>\n",
       "      <td>174.30</td>\n",
       "      <td>1134.57</td>\n",
       "      <td>1308.87</td>\n",
       "    </tr>\n",
       "    <tr>\n",
       "      <th>2021-07-11 19:00:00</th>\n",
       "      <td>213.83</td>\n",
       "      <td>1178.19</td>\n",
       "      <td>1392.02</td>\n",
       "    </tr>\n",
       "    <tr>\n",
       "      <th>2021-07-11 20:00:00</th>\n",
       "      <td>255.14</td>\n",
       "      <td>1424.01</td>\n",
       "      <td>1679.15</td>\n",
       "    </tr>\n",
       "    <tr>\n",
       "      <th>2021-07-11 21:00:00</th>\n",
       "      <td>280.63</td>\n",
       "      <td>1746.76</td>\n",
       "      <td>2027.39</td>\n",
       "    </tr>\n",
       "  </tbody>\n",
       "</table>\n",
       "</div>"
      ],
      "text/plain": [
       "                     fiftyhertz   tennet      nrv\n",
       "dt_start_utc                                     \n",
       "2021-07-11 17:00:00      122.44  1097.56  1220.00\n",
       "2021-07-11 18:00:00      174.30  1134.57  1308.87\n",
       "2021-07-11 19:00:00      213.83  1178.19  1392.02\n",
       "2021-07-11 20:00:00      255.14  1424.01  1679.15\n",
       "2021-07-11 21:00:00      280.63  1746.76  2027.39"
      ]
     },
     "execution_count": 73,
     "metadata": {},
     "output_type": "execute_result"
    }
   ],
   "source": [
    "ohr_woff.tail()"
   ]
  },
  {
   "cell_type": "code",
   "execution_count": null,
   "metadata": {},
   "outputs": [],
   "source": [
    "ohr_woff.drop(['year','month', 'day', 'hour', 'minute', 'seconds', 'date'], axis=1, inplace=True)"
   ]
  },
  {
   "cell_type": "markdown",
   "metadata": {},
   "source": [
    "---\n",
    "\n",
    "#### __OHR Solar__"
   ]
  },
  {
   "cell_type": "code",
   "execution_count": 74,
   "metadata": {},
   "outputs": [
    {
     "data": {
      "text/html": [
       "<div>\n",
       "<style scoped>\n",
       "    .dataframe tbody tr th:only-of-type {\n",
       "        vertical-align: middle;\n",
       "    }\n",
       "\n",
       "    .dataframe tbody tr th {\n",
       "        vertical-align: top;\n",
       "    }\n",
       "\n",
       "    .dataframe thead th {\n",
       "        text-align: right;\n",
       "    }\n",
       "</style>\n",
       "<table border=\"1\" class=\"dataframe\">\n",
       "  <thead>\n",
       "    <tr style=\"text-align: right;\">\n",
       "      <th></th>\n",
       "      <th>fiftyhertz</th>\n",
       "      <th>tennet</th>\n",
       "      <th>amprion</th>\n",
       "      <th>transnetbw</th>\n",
       "      <th>nrv</th>\n",
       "    </tr>\n",
       "    <tr>\n",
       "      <th>dt_start_utc</th>\n",
       "      <th></th>\n",
       "      <th></th>\n",
       "      <th></th>\n",
       "      <th></th>\n",
       "      <th></th>\n",
       "    </tr>\n",
       "  </thead>\n",
       "  <tbody>\n",
       "    <tr>\n",
       "      <th>2021-07-11 17:00:00</th>\n",
       "      <td>1016.25</td>\n",
       "      <td>1640.80</td>\n",
       "      <td>1082.00</td>\n",
       "      <td>672.1692</td>\n",
       "      <td>4411.2192</td>\n",
       "    </tr>\n",
       "    <tr>\n",
       "      <th>2021-07-11 18:00:00</th>\n",
       "      <td>314.50</td>\n",
       "      <td>499.48</td>\n",
       "      <td>281.63</td>\n",
       "      <td>171.1928</td>\n",
       "      <td>1266.8028</td>\n",
       "    </tr>\n",
       "    <tr>\n",
       "      <th>2021-07-11 19:00:00</th>\n",
       "      <td>19.50</td>\n",
       "      <td>39.09</td>\n",
       "      <td>17.58</td>\n",
       "      <td>4.7618</td>\n",
       "      <td>80.9318</td>\n",
       "    </tr>\n",
       "    <tr>\n",
       "      <th>2021-07-11 20:00:00</th>\n",
       "      <td>0.00</td>\n",
       "      <td>0.05</td>\n",
       "      <td>0.02</td>\n",
       "      <td>0.0000</td>\n",
       "      <td>0.0700</td>\n",
       "    </tr>\n",
       "    <tr>\n",
       "      <th>2021-07-11 21:00:00</th>\n",
       "      <td>0.00</td>\n",
       "      <td>0.00</td>\n",
       "      <td>0.00</td>\n",
       "      <td>0.0000</td>\n",
       "      <td>0.0000</td>\n",
       "    </tr>\n",
       "  </tbody>\n",
       "</table>\n",
       "</div>"
      ],
      "text/plain": [
       "                     fiftyhertz   tennet  amprion  transnetbw        nrv\n",
       "dt_start_utc                                                            \n",
       "2021-07-11 17:00:00     1016.25  1640.80  1082.00    672.1692  4411.2192\n",
       "2021-07-11 18:00:00      314.50   499.48   281.63    171.1928  1266.8028\n",
       "2021-07-11 19:00:00       19.50    39.09    17.58      4.7618    80.9318\n",
       "2021-07-11 20:00:00        0.00     0.05     0.02      0.0000     0.0700\n",
       "2021-07-11 21:00:00        0.00     0.00     0.00      0.0000     0.0000"
      ]
     },
     "execution_count": 74,
     "metadata": {},
     "output_type": "execute_result"
    }
   ],
   "source": [
    "ohr_solar.tail()"
   ]
  },
  {
   "cell_type": "code",
   "execution_count": null,
   "metadata": {},
   "outputs": [],
   "source": [
    "ohr_solar.drop(['year','month', 'day', 'hour', 'minute', 'seconds', 'date'], axis=1, inplace=True)"
   ]
  },
  {
   "cell_type": "markdown",
   "metadata": {},
   "source": [
    "---\n",
    "\n",
    "### __Set same timestamp__"
   ]
  },
  {
   "cell_type": "code",
   "execution_count": 75,
   "metadata": {},
   "outputs": [],
   "source": [
    "ohr_won=ohr_won.query('dt_start_utc >= \"2019-01-01 00:00:00\" & dt_start_utc < \"2021-05-01 00:00:00\"')"
   ]
  },
  {
   "cell_type": "code",
   "execution_count": 76,
   "metadata": {},
   "outputs": [
    {
     "data": {
      "text/html": [
       "<div>\n",
       "<style scoped>\n",
       "    .dataframe tbody tr th:only-of-type {\n",
       "        vertical-align: middle;\n",
       "    }\n",
       "\n",
       "    .dataframe tbody tr th {\n",
       "        vertical-align: top;\n",
       "    }\n",
       "\n",
       "    .dataframe thead th {\n",
       "        text-align: right;\n",
       "    }\n",
       "</style>\n",
       "<table border=\"1\" class=\"dataframe\">\n",
       "  <thead>\n",
       "    <tr style=\"text-align: right;\">\n",
       "      <th></th>\n",
       "      <th>fiftyhertz</th>\n",
       "      <th>tennet</th>\n",
       "      <th>amprion</th>\n",
       "      <th>transnetbw</th>\n",
       "      <th>nrv</th>\n",
       "    </tr>\n",
       "    <tr>\n",
       "      <th>dt_start_utc</th>\n",
       "      <th></th>\n",
       "      <th></th>\n",
       "      <th></th>\n",
       "      <th></th>\n",
       "      <th></th>\n",
       "    </tr>\n",
       "  </thead>\n",
       "  <tbody>\n",
       "    <tr>\n",
       "      <th>2019-01-01 00:00:00</th>\n",
       "      <td>9231.31</td>\n",
       "      <td>11624.89</td>\n",
       "      <td>3039.50</td>\n",
       "      <td>105.45</td>\n",
       "      <td>24001.15</td>\n",
       "    </tr>\n",
       "    <tr>\n",
       "      <th>2019-01-01 01:00:00</th>\n",
       "      <td>10012.16</td>\n",
       "      <td>12762.32</td>\n",
       "      <td>3576.50</td>\n",
       "      <td>112.04</td>\n",
       "      <td>26463.02</td>\n",
       "    </tr>\n",
       "    <tr>\n",
       "      <th>2019-01-01 02:00:00</th>\n",
       "      <td>10852.08</td>\n",
       "      <td>13988.91</td>\n",
       "      <td>4094.75</td>\n",
       "      <td>164.29</td>\n",
       "      <td>29100.03</td>\n",
       "    </tr>\n",
       "    <tr>\n",
       "      <th>2019-01-01 03:00:00</th>\n",
       "      <td>11761.89</td>\n",
       "      <td>14809.73</td>\n",
       "      <td>4685.25</td>\n",
       "      <td>226.52</td>\n",
       "      <td>31483.39</td>\n",
       "    </tr>\n",
       "    <tr>\n",
       "      <th>2019-01-01 04:00:00</th>\n",
       "      <td>13125.93</td>\n",
       "      <td>15131.73</td>\n",
       "      <td>5024.50</td>\n",
       "      <td>315.82</td>\n",
       "      <td>33597.98</td>\n",
       "    </tr>\n",
       "  </tbody>\n",
       "</table>\n",
       "</div>"
      ],
      "text/plain": [
       "                     fiftyhertz    tennet  amprion  transnetbw       nrv\n",
       "dt_start_utc                                                            \n",
       "2019-01-01 00:00:00     9231.31  11624.89  3039.50      105.45  24001.15\n",
       "2019-01-01 01:00:00    10012.16  12762.32  3576.50      112.04  26463.02\n",
       "2019-01-01 02:00:00    10852.08  13988.91  4094.75      164.29  29100.03\n",
       "2019-01-01 03:00:00    11761.89  14809.73  4685.25      226.52  31483.39\n",
       "2019-01-01 04:00:00    13125.93  15131.73  5024.50      315.82  33597.98"
      ]
     },
     "execution_count": 76,
     "metadata": {},
     "output_type": "execute_result"
    }
   ],
   "source": [
    "ohr_won.head()"
   ]
  },
  {
   "cell_type": "code",
   "execution_count": 77,
   "metadata": {},
   "outputs": [
    {
     "data": {
      "text/html": [
       "<div>\n",
       "<style scoped>\n",
       "    .dataframe tbody tr th:only-of-type {\n",
       "        vertical-align: middle;\n",
       "    }\n",
       "\n",
       "    .dataframe tbody tr th {\n",
       "        vertical-align: top;\n",
       "    }\n",
       "\n",
       "    .dataframe thead th {\n",
       "        text-align: right;\n",
       "    }\n",
       "</style>\n",
       "<table border=\"1\" class=\"dataframe\">\n",
       "  <thead>\n",
       "    <tr style=\"text-align: right;\">\n",
       "      <th></th>\n",
       "      <th>fiftyhertz</th>\n",
       "      <th>tennet</th>\n",
       "      <th>amprion</th>\n",
       "      <th>transnetbw</th>\n",
       "      <th>nrv</th>\n",
       "    </tr>\n",
       "    <tr>\n",
       "      <th>dt_start_utc</th>\n",
       "      <th></th>\n",
       "      <th></th>\n",
       "      <th></th>\n",
       "      <th></th>\n",
       "      <th></th>\n",
       "    </tr>\n",
       "  </thead>\n",
       "  <tbody>\n",
       "    <tr>\n",
       "      <th>2021-04-30 19:00:00</th>\n",
       "      <td>625.51</td>\n",
       "      <td>805.31</td>\n",
       "      <td>378.50</td>\n",
       "      <td>27.00</td>\n",
       "      <td>1836.32</td>\n",
       "    </tr>\n",
       "    <tr>\n",
       "      <th>2021-04-30 20:00:00</th>\n",
       "      <td>666.66</td>\n",
       "      <td>852.19</td>\n",
       "      <td>463.75</td>\n",
       "      <td>35.50</td>\n",
       "      <td>2018.10</td>\n",
       "    </tr>\n",
       "    <tr>\n",
       "      <th>2021-04-30 21:00:00</th>\n",
       "      <td>722.58</td>\n",
       "      <td>967.47</td>\n",
       "      <td>480.50</td>\n",
       "      <td>39.75</td>\n",
       "      <td>2210.30</td>\n",
       "    </tr>\n",
       "    <tr>\n",
       "      <th>2021-04-30 22:00:00</th>\n",
       "      <td>657.15</td>\n",
       "      <td>1138.14</td>\n",
       "      <td>419.25</td>\n",
       "      <td>29.25</td>\n",
       "      <td>2243.79</td>\n",
       "    </tr>\n",
       "    <tr>\n",
       "      <th>2021-04-30 23:00:00</th>\n",
       "      <td>561.79</td>\n",
       "      <td>1239.43</td>\n",
       "      <td>402.75</td>\n",
       "      <td>23.00</td>\n",
       "      <td>2226.97</td>\n",
       "    </tr>\n",
       "  </tbody>\n",
       "</table>\n",
       "</div>"
      ],
      "text/plain": [
       "                     fiftyhertz   tennet  amprion  transnetbw      nrv\n",
       "dt_start_utc                                                          \n",
       "2021-04-30 19:00:00      625.51   805.31   378.50       27.00  1836.32\n",
       "2021-04-30 20:00:00      666.66   852.19   463.75       35.50  2018.10\n",
       "2021-04-30 21:00:00      722.58   967.47   480.50       39.75  2210.30\n",
       "2021-04-30 22:00:00      657.15  1138.14   419.25       29.25  2243.79\n",
       "2021-04-30 23:00:00      561.79  1239.43   402.75       23.00  2226.97"
      ]
     },
     "execution_count": 77,
     "metadata": {},
     "output_type": "execute_result"
    }
   ],
   "source": [
    "ohr_won.tail()"
   ]
  },
  {
   "cell_type": "code",
   "execution_count": 78,
   "metadata": {},
   "outputs": [],
   "source": [
    "ohr_woff=ohr_woff.query('dt_start_utc >= \"2019-01-01 00:00:00\" & dt_start_utc < \"2021-05-01 00:00:00\"')"
   ]
  },
  {
   "cell_type": "code",
   "execution_count": 79,
   "metadata": {},
   "outputs": [
    {
     "data": {
      "text/html": [
       "<div>\n",
       "<style scoped>\n",
       "    .dataframe tbody tr th:only-of-type {\n",
       "        vertical-align: middle;\n",
       "    }\n",
       "\n",
       "    .dataframe tbody tr th {\n",
       "        vertical-align: top;\n",
       "    }\n",
       "\n",
       "    .dataframe thead th {\n",
       "        text-align: right;\n",
       "    }\n",
       "</style>\n",
       "<table border=\"1\" class=\"dataframe\">\n",
       "  <thead>\n",
       "    <tr style=\"text-align: right;\">\n",
       "      <th></th>\n",
       "      <th>fiftyhertz</th>\n",
       "      <th>tennet</th>\n",
       "      <th>amprion</th>\n",
       "      <th>transnetbw</th>\n",
       "      <th>nrv</th>\n",
       "    </tr>\n",
       "    <tr>\n",
       "      <th>dt_start_utc</th>\n",
       "      <th></th>\n",
       "      <th></th>\n",
       "      <th></th>\n",
       "      <th></th>\n",
       "      <th></th>\n",
       "    </tr>\n",
       "  </thead>\n",
       "  <tbody>\n",
       "    <tr>\n",
       "      <th>2021-07-11 17:00:00</th>\n",
       "      <td>1016.25</td>\n",
       "      <td>1640.80</td>\n",
       "      <td>1082.00</td>\n",
       "      <td>672.1692</td>\n",
       "      <td>4411.2192</td>\n",
       "    </tr>\n",
       "    <tr>\n",
       "      <th>2021-07-11 18:00:00</th>\n",
       "      <td>314.50</td>\n",
       "      <td>499.48</td>\n",
       "      <td>281.63</td>\n",
       "      <td>171.1928</td>\n",
       "      <td>1266.8028</td>\n",
       "    </tr>\n",
       "    <tr>\n",
       "      <th>2021-07-11 19:00:00</th>\n",
       "      <td>19.50</td>\n",
       "      <td>39.09</td>\n",
       "      <td>17.58</td>\n",
       "      <td>4.7618</td>\n",
       "      <td>80.9318</td>\n",
       "    </tr>\n",
       "    <tr>\n",
       "      <th>2021-07-11 20:00:00</th>\n",
       "      <td>0.00</td>\n",
       "      <td>0.05</td>\n",
       "      <td>0.02</td>\n",
       "      <td>0.0000</td>\n",
       "      <td>0.0700</td>\n",
       "    </tr>\n",
       "    <tr>\n",
       "      <th>2021-07-11 21:00:00</th>\n",
       "      <td>0.00</td>\n",
       "      <td>0.00</td>\n",
       "      <td>0.00</td>\n",
       "      <td>0.0000</td>\n",
       "      <td>0.0000</td>\n",
       "    </tr>\n",
       "  </tbody>\n",
       "</table>\n",
       "</div>"
      ],
      "text/plain": [
       "                     fiftyhertz   tennet  amprion  transnetbw        nrv\n",
       "dt_start_utc                                                            \n",
       "2021-07-11 17:00:00     1016.25  1640.80  1082.00    672.1692  4411.2192\n",
       "2021-07-11 18:00:00      314.50   499.48   281.63    171.1928  1266.8028\n",
       "2021-07-11 19:00:00       19.50    39.09    17.58      4.7618    80.9318\n",
       "2021-07-11 20:00:00        0.00     0.05     0.02      0.0000     0.0700\n",
       "2021-07-11 21:00:00        0.00     0.00     0.00      0.0000     0.0000"
      ]
     },
     "execution_count": 79,
     "metadata": {},
     "output_type": "execute_result"
    }
   ],
   "source": [
    "ohr_solar.tail()"
   ]
  },
  {
   "cell_type": "code",
   "execution_count": 80,
   "metadata": {},
   "outputs": [],
   "source": [
    "ohr_solar=ohr_solar.query('dt_start_utc >= \"2019-01-01 00:00:00\" & dt_start_utc < \"2021-05-01 00:00:00\"')"
   ]
  },
  {
   "cell_type": "code",
   "execution_count": 81,
   "metadata": {},
   "outputs": [],
   "source": [
    "wind=wind.query('dt_start_utc >= \"2019-01-01 00:00:00\" & dt_start_utc < \"2021-05-01 00:00:00\"')"
   ]
  },
  {
   "cell_type": "code",
   "execution_count": 82,
   "metadata": {},
   "outputs": [
    {
     "data": {
      "text/html": [
       "<div>\n",
       "<style scoped>\n",
       "    .dataframe tbody tr th:only-of-type {\n",
       "        vertical-align: middle;\n",
       "    }\n",
       "\n",
       "    .dataframe tbody tr th {\n",
       "        vertical-align: top;\n",
       "    }\n",
       "\n",
       "    .dataframe thead th {\n",
       "        text-align: right;\n",
       "    }\n",
       "</style>\n",
       "<table border=\"1\" class=\"dataframe\">\n",
       "  <thead>\n",
       "    <tr style=\"text-align: right;\">\n",
       "      <th></th>\n",
       "      <th>windspeed_ms</th>\n",
       "    </tr>\n",
       "    <tr>\n",
       "      <th>dt_start_utc</th>\n",
       "      <th></th>\n",
       "    </tr>\n",
       "  </thead>\n",
       "  <tbody>\n",
       "    <tr>\n",
       "      <th>2020-09-30 19:00:00</th>\n",
       "      <td>6.1635</td>\n",
       "    </tr>\n",
       "    <tr>\n",
       "      <th>2020-09-30 20:00:00</th>\n",
       "      <td>5.9385</td>\n",
       "    </tr>\n",
       "    <tr>\n",
       "      <th>2020-09-30 21:00:00</th>\n",
       "      <td>6.0630</td>\n",
       "    </tr>\n",
       "    <tr>\n",
       "      <th>2020-09-30 22:00:00</th>\n",
       "      <td>6.2825</td>\n",
       "    </tr>\n",
       "    <tr>\n",
       "      <th>2020-09-30 23:00:00</th>\n",
       "      <td>6.3625</td>\n",
       "    </tr>\n",
       "  </tbody>\n",
       "</table>\n",
       "</div>"
      ],
      "text/plain": [
       "                     windspeed_ms\n",
       "dt_start_utc                     \n",
       "2020-09-30 19:00:00        6.1635\n",
       "2020-09-30 20:00:00        5.9385\n",
       "2020-09-30 21:00:00        6.0630\n",
       "2020-09-30 22:00:00        6.2825\n",
       "2020-09-30 23:00:00        6.3625"
      ]
     },
     "execution_count": 82,
     "metadata": {},
     "output_type": "execute_result"
    }
   ],
   "source": [
    "wind.tail()"
   ]
  },
  {
   "cell_type": "code",
   "execution_count": 89,
   "metadata": {},
   "outputs": [],
   "source": [
    "wind_offon_list = [wind, ohr_woff, ohr_won]"
   ]
  },
  {
   "cell_type": "code",
   "execution_count": 84,
   "metadata": {},
   "outputs": [],
   "source": [
    "from functools import reduce"
   ]
  },
  {
   "cell_type": "code",
   "execution_count": 90,
   "metadata": {},
   "outputs": [],
   "source": [
    "wind_offon = reduce(lambda  left,right: pd.merge(left, right, on=['dt_start_utc'], how='inner'), wind_offon_list)\n"
   ]
  },
  {
   "cell_type": "code",
   "execution_count": 91,
   "metadata": {},
   "outputs": [
    {
     "data": {
      "text/html": [
       "<div>\n",
       "<style scoped>\n",
       "    .dataframe tbody tr th:only-of-type {\n",
       "        vertical-align: middle;\n",
       "    }\n",
       "\n",
       "    .dataframe tbody tr th {\n",
       "        vertical-align: top;\n",
       "    }\n",
       "\n",
       "    .dataframe thead th {\n",
       "        text-align: right;\n",
       "    }\n",
       "</style>\n",
       "<table border=\"1\" class=\"dataframe\">\n",
       "  <thead>\n",
       "    <tr style=\"text-align: right;\">\n",
       "      <th></th>\n",
       "      <th>windspeed_ms</th>\n",
       "      <th>fiftyhertz_x</th>\n",
       "      <th>tennet_x</th>\n",
       "      <th>nrv_x</th>\n",
       "      <th>fiftyhertz_y</th>\n",
       "      <th>tennet_y</th>\n",
       "      <th>amprion</th>\n",
       "      <th>transnetbw</th>\n",
       "      <th>nrv_y</th>\n",
       "    </tr>\n",
       "    <tr>\n",
       "      <th>dt_start_utc</th>\n",
       "      <th></th>\n",
       "      <th></th>\n",
       "      <th></th>\n",
       "      <th></th>\n",
       "      <th></th>\n",
       "      <th></th>\n",
       "      <th></th>\n",
       "      <th></th>\n",
       "      <th></th>\n",
       "    </tr>\n",
       "  </thead>\n",
       "  <tbody>\n",
       "    <tr>\n",
       "      <th>2019-01-01 00:00:00</th>\n",
       "      <td>13.7925</td>\n",
       "      <td>1014.99</td>\n",
       "      <td>4669.35</td>\n",
       "      <td>5684.34</td>\n",
       "      <td>9231.31</td>\n",
       "      <td>11624.89</td>\n",
       "      <td>3039.50</td>\n",
       "      <td>105.45</td>\n",
       "      <td>24001.15</td>\n",
       "    </tr>\n",
       "    <tr>\n",
       "      <th>2019-01-01 01:00:00</th>\n",
       "      <td>14.3600</td>\n",
       "      <td>659.54</td>\n",
       "      <td>4674.65</td>\n",
       "      <td>5334.19</td>\n",
       "      <td>10012.16</td>\n",
       "      <td>12762.32</td>\n",
       "      <td>3576.50</td>\n",
       "      <td>112.04</td>\n",
       "      <td>26463.02</td>\n",
       "    </tr>\n",
       "    <tr>\n",
       "      <th>2019-01-01 02:00:00</th>\n",
       "      <td>15.0180</td>\n",
       "      <td>615.41</td>\n",
       "      <td>4663.13</td>\n",
       "      <td>5278.54</td>\n",
       "      <td>10852.08</td>\n",
       "      <td>13988.91</td>\n",
       "      <td>4094.75</td>\n",
       "      <td>164.29</td>\n",
       "      <td>29100.03</td>\n",
       "    </tr>\n",
       "    <tr>\n",
       "      <th>2019-01-01 03:00:00</th>\n",
       "      <td>14.8220</td>\n",
       "      <td>493.95</td>\n",
       "      <td>4666.95</td>\n",
       "      <td>5160.90</td>\n",
       "      <td>11761.89</td>\n",
       "      <td>14809.73</td>\n",
       "      <td>4685.25</td>\n",
       "      <td>226.52</td>\n",
       "      <td>31483.39</td>\n",
       "    </tr>\n",
       "    <tr>\n",
       "      <th>2019-01-01 04:00:00</th>\n",
       "      <td>14.5930</td>\n",
       "      <td>333.78</td>\n",
       "      <td>4668.18</td>\n",
       "      <td>5001.96</td>\n",
       "      <td>13125.93</td>\n",
       "      <td>15131.73</td>\n",
       "      <td>5024.50</td>\n",
       "      <td>315.82</td>\n",
       "      <td>33597.98</td>\n",
       "    </tr>\n",
       "  </tbody>\n",
       "</table>\n",
       "</div>"
      ],
      "text/plain": [
       "                     windspeed_ms  fiftyhertz_x  tennet_x    nrv_x  \\\n",
       "dt_start_utc                                                         \n",
       "2019-01-01 00:00:00       13.7925       1014.99   4669.35  5684.34   \n",
       "2019-01-01 01:00:00       14.3600        659.54   4674.65  5334.19   \n",
       "2019-01-01 02:00:00       15.0180        615.41   4663.13  5278.54   \n",
       "2019-01-01 03:00:00       14.8220        493.95   4666.95  5160.90   \n",
       "2019-01-01 04:00:00       14.5930        333.78   4668.18  5001.96   \n",
       "\n",
       "                     fiftyhertz_y  tennet_y  amprion  transnetbw     nrv_y  \n",
       "dt_start_utc                                                                \n",
       "2019-01-01 00:00:00       9231.31  11624.89  3039.50      105.45  24001.15  \n",
       "2019-01-01 01:00:00      10012.16  12762.32  3576.50      112.04  26463.02  \n",
       "2019-01-01 02:00:00      10852.08  13988.91  4094.75      164.29  29100.03  \n",
       "2019-01-01 03:00:00      11761.89  14809.73  4685.25      226.52  31483.39  \n",
       "2019-01-01 04:00:00      13125.93  15131.73  5024.50      315.82  33597.98  "
      ]
     },
     "execution_count": 91,
     "metadata": {},
     "output_type": "execute_result"
    }
   ],
   "source": [
    "wind_offon.head()"
   ]
  },
  {
   "cell_type": "code",
   "execution_count": 93,
   "metadata": {},
   "outputs": [],
   "source": [
    "wind_offon=wind_offon.rename(columns={'fiftyhertz_y': 'fiftyhertz_ONSHORE', 'fiftyhertz_x': 'fiftyhertz_OFFSHORE', 'tennet_y':'tennet_ONSHORE', 'tennet_x':'tennet_OFFSHORE', 'amprion':'amprion_ONSHORE', 'transnetbw':'transnetbw_ONSHORE', 'nrv_x': 'nrv_OFFSHORE', 'nrv_y': 'nrv_ONSHORE'})"
   ]
  },
  {
   "cell_type": "code",
   "execution_count": 94,
   "metadata": {},
   "outputs": [
    {
     "data": {
      "text/html": [
       "<div>\n",
       "<style scoped>\n",
       "    .dataframe tbody tr th:only-of-type {\n",
       "        vertical-align: middle;\n",
       "    }\n",
       "\n",
       "    .dataframe tbody tr th {\n",
       "        vertical-align: top;\n",
       "    }\n",
       "\n",
       "    .dataframe thead th {\n",
       "        text-align: right;\n",
       "    }\n",
       "</style>\n",
       "<table border=\"1\" class=\"dataframe\">\n",
       "  <thead>\n",
       "    <tr style=\"text-align: right;\">\n",
       "      <th></th>\n",
       "      <th>windspeed_ms</th>\n",
       "      <th>fiftyhertz_OFFSHORE</th>\n",
       "      <th>tennet_OFFSHORE</th>\n",
       "      <th>nrv_OFFSHORE</th>\n",
       "      <th>fiftyhertz_ONSHORE</th>\n",
       "      <th>tennet_ONSHORE</th>\n",
       "      <th>amprion_ONSHORE</th>\n",
       "      <th>transnetbw_ONSHORE</th>\n",
       "      <th>nrv_ONSHORE</th>\n",
       "    </tr>\n",
       "    <tr>\n",
       "      <th>dt_start_utc</th>\n",
       "      <th></th>\n",
       "      <th></th>\n",
       "      <th></th>\n",
       "      <th></th>\n",
       "      <th></th>\n",
       "      <th></th>\n",
       "      <th></th>\n",
       "      <th></th>\n",
       "      <th></th>\n",
       "    </tr>\n",
       "  </thead>\n",
       "  <tbody>\n",
       "    <tr>\n",
       "      <th>2019-01-01 00:00:00</th>\n",
       "      <td>13.7925</td>\n",
       "      <td>1014.99</td>\n",
       "      <td>4669.35</td>\n",
       "      <td>5684.34</td>\n",
       "      <td>9231.31</td>\n",
       "      <td>11624.89</td>\n",
       "      <td>3039.50</td>\n",
       "      <td>105.45</td>\n",
       "      <td>24001.15</td>\n",
       "    </tr>\n",
       "    <tr>\n",
       "      <th>2019-01-01 01:00:00</th>\n",
       "      <td>14.3600</td>\n",
       "      <td>659.54</td>\n",
       "      <td>4674.65</td>\n",
       "      <td>5334.19</td>\n",
       "      <td>10012.16</td>\n",
       "      <td>12762.32</td>\n",
       "      <td>3576.50</td>\n",
       "      <td>112.04</td>\n",
       "      <td>26463.02</td>\n",
       "    </tr>\n",
       "    <tr>\n",
       "      <th>2019-01-01 02:00:00</th>\n",
       "      <td>15.0180</td>\n",
       "      <td>615.41</td>\n",
       "      <td>4663.13</td>\n",
       "      <td>5278.54</td>\n",
       "      <td>10852.08</td>\n",
       "      <td>13988.91</td>\n",
       "      <td>4094.75</td>\n",
       "      <td>164.29</td>\n",
       "      <td>29100.03</td>\n",
       "    </tr>\n",
       "    <tr>\n",
       "      <th>2019-01-01 03:00:00</th>\n",
       "      <td>14.8220</td>\n",
       "      <td>493.95</td>\n",
       "      <td>4666.95</td>\n",
       "      <td>5160.90</td>\n",
       "      <td>11761.89</td>\n",
       "      <td>14809.73</td>\n",
       "      <td>4685.25</td>\n",
       "      <td>226.52</td>\n",
       "      <td>31483.39</td>\n",
       "    </tr>\n",
       "    <tr>\n",
       "      <th>2019-01-01 04:00:00</th>\n",
       "      <td>14.5930</td>\n",
       "      <td>333.78</td>\n",
       "      <td>4668.18</td>\n",
       "      <td>5001.96</td>\n",
       "      <td>13125.93</td>\n",
       "      <td>15131.73</td>\n",
       "      <td>5024.50</td>\n",
       "      <td>315.82</td>\n",
       "      <td>33597.98</td>\n",
       "    </tr>\n",
       "  </tbody>\n",
       "</table>\n",
       "</div>"
      ],
      "text/plain": [
       "                     windspeed_ms  fiftyhertz_OFFSHORE  tennet_OFFSHORE  \\\n",
       "dt_start_utc                                                              \n",
       "2019-01-01 00:00:00       13.7925              1014.99          4669.35   \n",
       "2019-01-01 01:00:00       14.3600               659.54          4674.65   \n",
       "2019-01-01 02:00:00       15.0180               615.41          4663.13   \n",
       "2019-01-01 03:00:00       14.8220               493.95          4666.95   \n",
       "2019-01-01 04:00:00       14.5930               333.78          4668.18   \n",
       "\n",
       "                     nrv_OFFSHORE  fiftyhertz_ONSHORE  tennet_ONSHORE  \\\n",
       "dt_start_utc                                                            \n",
       "2019-01-01 00:00:00       5684.34             9231.31        11624.89   \n",
       "2019-01-01 01:00:00       5334.19            10012.16        12762.32   \n",
       "2019-01-01 02:00:00       5278.54            10852.08        13988.91   \n",
       "2019-01-01 03:00:00       5160.90            11761.89        14809.73   \n",
       "2019-01-01 04:00:00       5001.96            13125.93        15131.73   \n",
       "\n",
       "                     amprion_ONSHORE  transnetbw_ONSHORE  nrv_ONSHORE  \n",
       "dt_start_utc                                                           \n",
       "2019-01-01 00:00:00          3039.50              105.45     24001.15  \n",
       "2019-01-01 01:00:00          3576.50              112.04     26463.02  \n",
       "2019-01-01 02:00:00          4094.75              164.29     29100.03  \n",
       "2019-01-01 03:00:00          4685.25              226.52     31483.39  \n",
       "2019-01-01 04:00:00          5024.50              315.82     33597.98  "
      ]
     },
     "execution_count": 94,
     "metadata": {},
     "output_type": "execute_result"
    }
   ],
   "source": [
    "wind_offon.head()"
   ]
  },
  {
   "cell_type": "code",
   "execution_count": 95,
   "metadata": {},
   "outputs": [
    {
     "data": {
      "text/html": [
       "<div>\n",
       "<style scoped>\n",
       "    .dataframe tbody tr th:only-of-type {\n",
       "        vertical-align: middle;\n",
       "    }\n",
       "\n",
       "    .dataframe tbody tr th {\n",
       "        vertical-align: top;\n",
       "    }\n",
       "\n",
       "    .dataframe thead th {\n",
       "        text-align: right;\n",
       "    }\n",
       "</style>\n",
       "<table border=\"1\" class=\"dataframe\">\n",
       "  <thead>\n",
       "    <tr style=\"text-align: right;\">\n",
       "      <th></th>\n",
       "      <th>windspeed_ms</th>\n",
       "      <th>fiftyhertz_OFFSHORE</th>\n",
       "      <th>tennet_OFFSHORE</th>\n",
       "      <th>nrv_OFFSHORE</th>\n",
       "      <th>fiftyhertz_ONSHORE</th>\n",
       "      <th>tennet_ONSHORE</th>\n",
       "      <th>amprion_ONSHORE</th>\n",
       "      <th>transnetbw_ONSHORE</th>\n",
       "      <th>nrv_ONSHORE</th>\n",
       "    </tr>\n",
       "    <tr>\n",
       "      <th>dt_start_utc</th>\n",
       "      <th></th>\n",
       "      <th></th>\n",
       "      <th></th>\n",
       "      <th></th>\n",
       "      <th></th>\n",
       "      <th></th>\n",
       "      <th></th>\n",
       "      <th></th>\n",
       "      <th></th>\n",
       "    </tr>\n",
       "  </thead>\n",
       "  <tbody>\n",
       "    <tr>\n",
       "      <th>2020-09-30 19:00:00</th>\n",
       "      <td>6.1635</td>\n",
       "      <td>128.69</td>\n",
       "      <td>4628.28</td>\n",
       "      <td>4756.97</td>\n",
       "      <td>651.60</td>\n",
       "      <td>3648.29</td>\n",
       "      <td>1620.00</td>\n",
       "      <td>179.00</td>\n",
       "      <td>6098.89</td>\n",
       "    </tr>\n",
       "    <tr>\n",
       "      <th>2020-09-30 20:00:00</th>\n",
       "      <td>5.9385</td>\n",
       "      <td>140.73</td>\n",
       "      <td>5055.73</td>\n",
       "      <td>5196.46</td>\n",
       "      <td>707.77</td>\n",
       "      <td>3953.82</td>\n",
       "      <td>1977.75</td>\n",
       "      <td>259.00</td>\n",
       "      <td>6898.34</td>\n",
       "    </tr>\n",
       "    <tr>\n",
       "      <th>2020-09-30 21:00:00</th>\n",
       "      <td>6.0630</td>\n",
       "      <td>174.31</td>\n",
       "      <td>5165.00</td>\n",
       "      <td>5339.31</td>\n",
       "      <td>779.20</td>\n",
       "      <td>3957.25</td>\n",
       "      <td>2123.75</td>\n",
       "      <td>284.25</td>\n",
       "      <td>7144.45</td>\n",
       "    </tr>\n",
       "    <tr>\n",
       "      <th>2020-09-30 22:00:00</th>\n",
       "      <td>6.2825</td>\n",
       "      <td>273.28</td>\n",
       "      <td>5123.26</td>\n",
       "      <td>5396.54</td>\n",
       "      <td>847.60</td>\n",
       "      <td>4031.58</td>\n",
       "      <td>2152.50</td>\n",
       "      <td>326.25</td>\n",
       "      <td>7357.93</td>\n",
       "    </tr>\n",
       "    <tr>\n",
       "      <th>2020-09-30 23:00:00</th>\n",
       "      <td>6.3625</td>\n",
       "      <td>252.56</td>\n",
       "      <td>5089.95</td>\n",
       "      <td>5342.51</td>\n",
       "      <td>1010.84</td>\n",
       "      <td>4171.43</td>\n",
       "      <td>2154.00</td>\n",
       "      <td>356.25</td>\n",
       "      <td>7692.52</td>\n",
       "    </tr>\n",
       "  </tbody>\n",
       "</table>\n",
       "</div>"
      ],
      "text/plain": [
       "                     windspeed_ms  fiftyhertz_OFFSHORE  tennet_OFFSHORE  \\\n",
       "dt_start_utc                                                              \n",
       "2020-09-30 19:00:00        6.1635               128.69          4628.28   \n",
       "2020-09-30 20:00:00        5.9385               140.73          5055.73   \n",
       "2020-09-30 21:00:00        6.0630               174.31          5165.00   \n",
       "2020-09-30 22:00:00        6.2825               273.28          5123.26   \n",
       "2020-09-30 23:00:00        6.3625               252.56          5089.95   \n",
       "\n",
       "                     nrv_OFFSHORE  fiftyhertz_ONSHORE  tennet_ONSHORE  \\\n",
       "dt_start_utc                                                            \n",
       "2020-09-30 19:00:00       4756.97              651.60         3648.29   \n",
       "2020-09-30 20:00:00       5196.46              707.77         3953.82   \n",
       "2020-09-30 21:00:00       5339.31              779.20         3957.25   \n",
       "2020-09-30 22:00:00       5396.54              847.60         4031.58   \n",
       "2020-09-30 23:00:00       5342.51             1010.84         4171.43   \n",
       "\n",
       "                     amprion_ONSHORE  transnetbw_ONSHORE  nrv_ONSHORE  \n",
       "dt_start_utc                                                           \n",
       "2020-09-30 19:00:00          1620.00              179.00      6098.89  \n",
       "2020-09-30 20:00:00          1977.75              259.00      6898.34  \n",
       "2020-09-30 21:00:00          2123.75              284.25      7144.45  \n",
       "2020-09-30 22:00:00          2152.50              326.25      7357.93  \n",
       "2020-09-30 23:00:00          2154.00              356.25      7692.52  "
      ]
     },
     "execution_count": 95,
     "metadata": {},
     "output_type": "execute_result"
    }
   ],
   "source": [
    "wind_offon.tail()"
   ]
  },
  {
   "cell_type": "code",
   "execution_count": 100,
   "metadata": {},
   "outputs": [],
   "source": [
    "wind_offon.to_csv('../data/wind_offon_merge.csv')"
   ]
  },
  {
   "cell_type": "markdown",
   "metadata": {},
   "source": [
    "---\n",
    "---\n",
    "\n",
    "# __Plots__"
   ]
  },
  {
   "cell_type": "markdown",
   "metadata": {},
   "source": [
    "---\n",
    "\n",
    "## __Solar__"
   ]
  },
  {
   "cell_type": "code",
   "execution_count": null,
   "metadata": {},
   "outputs": [],
   "source": [
    "ohr_solar.head()"
   ]
  },
  {
   "cell_type": "code",
   "execution_count": null,
   "metadata": {},
   "outputs": [],
   "source": [
    "    # Plot the statistics\n",
    "plt.figure(figsize=(24,6))\n",
    "plt.plot(ohr_solar['fiftyhertz'], color='#FF5A36', label='fiftyhertz')\n",
    "plt.plot(ohr_solar['tennet'], color='#99D04A',label='tennet')\n",
    "plt.plot(ohr_solar['amprion'], color='red',label='amprion')\n",
    "plt.plot(ohr_solar['transnetbw'], color='blue',label='Transnet BW')\n",
    "plt.xticks(ohr_solar['date'])\n",
    "plt.title('Online Hochrechnung Solar')\n",
    "plt.legend(loc='best')    "
   ]
  },
  {
   "cell_type": "markdown",
   "metadata": {},
   "source": [
    "---\n",
    "\n",
    "## __Onshore__"
   ]
  },
  {
   "cell_type": "code",
   "execution_count": null,
   "metadata": {},
   "outputs": [],
   "source": [
    "plt.figure(figsize=(24,6))\n",
    "plt.plot(ohr_won['fiftyhertz'], color='#FF5A36', label='fiftyhertz')\n",
    "plt.plot(ohr_won['tennet'], color='#99D04A',label='tennet')\n",
    "plt.plot(ohr_won['amprion'], color='red',label='amprion')\n",
    "plt.plot(ohr_won['transnetbw'], color='blue',label='Transnet BW')\n",
    "plt.xticks(ohr_won['date'])\n",
    "plt.title('Online Hochrechnung Onshore')\n",
    "plt.legend(loc='best') "
   ]
  },
  {
   "cell_type": "markdown",
   "metadata": {},
   "source": [
    "---\n",
    "\n",
    "## __Regelleistung agg. results__"
   ]
  },
  {
   "cell_type": "code",
   "execution_count": null,
   "metadata": {},
   "outputs": [],
   "source": [
    "sns.pairplot(regel_results)"
   ]
  },
  {
   "cell_type": "markdown",
   "metadata": {},
   "source": [
    "---\n",
    "\n",
    "## __Regelleistung Demand__"
   ]
  },
  {
   "cell_type": "code",
   "execution_count": null,
   "metadata": {},
   "outputs": [],
   "source": [
    "sns.pairplot(regel_demand)"
   ]
  },
  {
   "cell_type": "code",
   "execution_count": null,
   "metadata": {},
   "outputs": [],
   "source": [
    "#plt.figure(figsize=(20,8))\n",
    "decomposition = seasonal_decompose(x=regel_demand['germany_block_demand_mw'], \n",
    "                                   model='additive',\n",
    "                                   period=30)\n",
    "\n",
    "\n",
    "decomposition.observed.plot(c='black')"
   ]
  },
  {
   "cell_type": "markdown",
   "metadata": {},
   "source": [
    "---\n",
    "\n",
    "## __Wind__"
   ]
  },
  {
   "cell_type": "code",
   "execution_count": null,
   "metadata": {},
   "outputs": [],
   "source": [
    "plt.figure(figsize=(14,6))\n",
    "plt.plot(speedy_groupby_hour['windspeed_ms'])"
   ]
  },
  {
   "cell_type": "code",
   "execution_count": null,
   "metadata": {},
   "outputs": [],
   "source": [
    "# Check decomposition of trend, seasonality and residue of original time series\n",
    "plt.figure(figsize=(20,8))\n",
    "decomposition = seasonal_decompose(x=speedy_groupby_hour['windspeed_ms'], \n",
    "                                   model='additive',\n",
    "                                   period=30)\n",
    "\n",
    "\n",
    "decomposition.observed.plot(c='black')\n"
   ]
  },
  {
   "cell_type": "code",
   "execution_count": null,
   "metadata": {},
   "outputs": [],
   "source": [
    "# Check decomposition of trend, seasonality and residue of original time series\n",
    "decomposition = seasonal_decompose(x=speedy_groupby_hour['windspeed_ms'], \n",
    "                                   model='additive',\n",
    "                                   period=30)\n",
    "\n",
    "\n",
    "fig, ax = plt.subplots(4, 1, figsize=(12, 12), constrained_layout=True)\n",
    "decomposition.observed.plot(c='black', ax=ax[0])\n",
    "ax[0].set(title='Close')\n",
    "decomposition.trend.plot(c='blue', ax=ax[1])\n",
    "ax[1].set(title='trend')\n",
    "decomposition.seasonal.plot(c='red', ax=ax[2])\n",
    "ax[2].set(title='seasonal')\n",
    "decomposition.resid.plot(c='green', ax=ax[3])\n",
    "ax[3].set(title='residual')\n",
    "fig.set_size_inches(20, 10);"
   ]
  },
  {
   "cell_type": "markdown",
   "metadata": {},
   "source": [
    "___\n",
    "\n",
    "## __CSV combinations__"
   ]
  },
  {
   "cell_type": "markdown",
   "metadata": {},
   "source": [
    "---\n",
    "\n",
    "### __Regelleistung Demand and Regelleistung aggr results__"
   ]
  },
  {
   "cell_type": "code",
   "execution_count": null,
   "metadata": {},
   "outputs": [],
   "source": [
    "plt.figure(figsize=(24,6))\n",
    "\n",
    "plt.plot(regel_demand['total_demand_mw'], color='forestgreen',label='total demand (in MW)')\n",
    "plt.plot(regel_demand['germany_block_demand_mw'], color='mediumseagreen',label='Germany block demand (in MW)')\n",
    "\n",
    "plt.title('Regelleistung: Average Capacity Price and Demand')\n",
    "plt.legend(loc='best')   "
   ]
  },
  {
   "cell_type": "code",
   "execution_count": null,
   "metadata": {},
   "outputs": [],
   "source": [
    "plt.figure(figsize=(24,6))\n",
    "plt.plot(regel_results['total_average_capacity_price_eur_mw'], color='dodgerblue', label='total average capacity price (in EUR/MW)')\n",
    "plt.plot(regel_results['germany_average_capacity_price_eur_mw'], color='mediumblue', label='German average capacity price (in EUR/MW)')\n",
    "\n",
    "plt.title('Regelleistung: Average Capacity Price and Demand')\n",
    "plt.legend(loc='best')  "
   ]
  },
  {
   "cell_type": "code",
   "execution_count": null,
   "metadata": {},
   "outputs": [],
   "source": [
    "plt.figure(figsize=(24,6))\n",
    "plt.plot(speedy_groupby_hour['windspeed_ms'], color='dodgerblue', label='wind speed (in m/s)')\n",
    "plt.plot(regel_results['germany_average_capacity_price_eur_mw'], color='mediumblue', label='German average capacity price (in EUR/MW)')\n",
    "\n",
    "plt.title('average capacity price and wind speed')\n",
    "plt.legend(loc='best')  "
   ]
  },
  {
   "cell_type": "code",
   "execution_count": null,
   "metadata": {},
   "outputs": [],
   "source": [
    "plt.figure(figsize=(24,6))\n",
    "plt.plot(regel_results['total_average_capacity_price_eur_mw'], color='dodgerblue', label='total average capacity price (in EUR/MW)')\n",
    "plt.plot(regel_demand['total_demand_mw'], color='forestgreen',label='total demand (in MW)')\n",
    "\n",
    "plt.title('Regelleistung: Average Capacity Price and Demand')\n",
    "plt.legend(loc='best')  "
   ]
  }
 ],
 "metadata": {
  "kernelspec": {
   "display_name": "Python 3",
   "language": "python",
   "name": "python3"
  },
  "language_info": {
   "codemirror_mode": {
    "name": "ipython",
    "version": 3
   },
   "file_extension": ".py",
   "mimetype": "text/x-python",
   "name": "python",
   "nbconvert_exporter": "python",
   "pygments_lexer": "ipython3",
   "version": "3.9.4"
  },
  "metadata": {
   "interpreter": {
    "hash": "aee8b7b246df8f9039afb4144a1f6fd8d2ca17a180786b69acc140d282b71a49"
   }
  }
 },
 "nbformat": 4,
 "nbformat_minor": 4
}
