{
 "cells": [
  {
   "cell_type": "code",
   "execution_count": 95,
   "metadata": {},
   "outputs": [],
   "source": [
    "# Importing required libraries\n",
    "import sys\n",
    "# adding to the path variables the one folder higher (locally, not changing system variables)\n",
    "sys.path.append(\"..\")\n",
    "\n",
    "import pandas as pd\n",
    "import numpy as np\n",
    "import matplotlib.pyplot as plt\n",
    "import seaborn as sns\n",
    "import mlflow\n",
    "\n",
    "from sklearn.metrics import mean_squared_error, r2_score\n",
    "from statsmodels.tsa.stattools import adfuller,kpss\n",
    "from statsmodels.tsa.arima_model import ARIMA\n",
    "from statsmodels.graphics.tsaplots import plot_pacf, plot_acf\n",
    "from statsmodels.tsa.arima.model import ARIMA\n",
    "\n",
    "import warnings\n",
    "warnings.filterwarnings('ignore')\n",
    "\n",
    "from modeling.config import EXPERIMENT_NAME\n",
    "TRACKING_URI = open(\"../.mlflow_uri\").read().strip()"
   ]
  },
  {
   "cell_type": "code",
   "execution_count": 84,
   "metadata": {},
   "outputs": [],
   "source": [
    "imb = pd.read_csv(\"../data/imbalance_1h.csv\")"
   ]
  },
  {
   "cell_type": "code",
   "execution_count": 86,
   "metadata": {},
   "outputs": [],
   "source": [
    "imb = imb.set_index('datetime')"
   ]
  },
  {
   "cell_type": "code",
   "execution_count": 90,
   "metadata": {},
   "outputs": [],
   "source": [
    "imb.drop(['2', 'weekday', 'date'], axis=1, inplace=True)"
   ]
  },
  {
   "cell_type": "code",
   "execution_count": 66,
   "metadata": {},
   "outputs": [],
   "source": [
    "# import data\n",
    "train = pd.read_csv(\"../data/train.csv\")\n",
    "test = pd.read_csv(\"../data/test.csv\")\n",
    "\n",
    "# convert 'datetime' to datetime object\n",
    "train['datetime'] = pd.to_datetime(train['datetime'])\n",
    "test['datetime'] = pd.to_datetime(test['datetime'])\n",
    "\n",
    "# reset index\n",
    "train = train.set_index('datetime')\n",
    "test = test.set_index('datetime')\n",
    "\n",
    "# rename column\n",
    "train.rename(columns={'1': 'imbalance_price'}, inplace=True)\n",
    "test.rename(columns={'1': 'imbalance_price'}, inplace=True)\n",
    "\n",
    "# convert to Series\n",
    "#train_series = train.squeeze()\n",
    "#test = test.squeeze()"
   ]
  },
  {
   "cell_type": "code",
   "execution_count": 67,
   "metadata": {},
   "outputs": [
    {
     "data": {
      "text/html": [
       "<div>\n",
       "<style scoped>\n",
       "    .dataframe tbody tr th:only-of-type {\n",
       "        vertical-align: middle;\n",
       "    }\n",
       "\n",
       "    .dataframe tbody tr th {\n",
       "        vertical-align: top;\n",
       "    }\n",
       "\n",
       "    .dataframe thead th {\n",
       "        text-align: right;\n",
       "    }\n",
       "</style>\n",
       "<table border=\"1\" class=\"dataframe\">\n",
       "  <thead>\n",
       "    <tr style=\"text-align: right;\">\n",
       "      <th></th>\n",
       "      <th>imbalance_price</th>\n",
       "    </tr>\n",
       "    <tr>\n",
       "      <th>datetime</th>\n",
       "      <th></th>\n",
       "    </tr>\n",
       "  </thead>\n",
       "  <tbody>\n",
       "    <tr>\n",
       "      <th>2013-12-31 23:00:00</th>\n",
       "      <td>917.118</td>\n",
       "    </tr>\n",
       "    <tr>\n",
       "      <th>2014-01-01 00:00:00</th>\n",
       "      <td>1264.266</td>\n",
       "    </tr>\n",
       "    <tr>\n",
       "      <th>2014-01-01 01:00:00</th>\n",
       "      <td>746.810</td>\n",
       "    </tr>\n",
       "    <tr>\n",
       "      <th>2014-01-01 02:00:00</th>\n",
       "      <td>-15.512</td>\n",
       "    </tr>\n",
       "    <tr>\n",
       "      <th>2014-01-01 03:00:00</th>\n",
       "      <td>-36.904</td>\n",
       "    </tr>\n",
       "  </tbody>\n",
       "</table>\n",
       "</div>"
      ],
      "text/plain": [
       "                     imbalance_price\n",
       "datetime                            \n",
       "2013-12-31 23:00:00          917.118\n",
       "2014-01-01 00:00:00         1264.266\n",
       "2014-01-01 01:00:00          746.810\n",
       "2014-01-01 02:00:00          -15.512\n",
       "2014-01-01 03:00:00          -36.904"
      ]
     },
     "execution_count": 67,
     "metadata": {},
     "output_type": "execute_result"
    }
   ],
   "source": [
    "train.head()"
   ]
  },
  {
   "cell_type": "code",
   "execution_count": 68,
   "metadata": {},
   "outputs": [
    {
     "data": {
      "text/plain": [
       "datetime\n",
       "2013-12-31 23:00:00     917.118\n",
       "2014-01-01 00:00:00    1264.266\n",
       "2014-01-01 01:00:00     746.810\n",
       "2014-01-01 02:00:00     -15.512\n",
       "2014-01-01 03:00:00     -36.904\n",
       "                         ...   \n",
       "2019-03-05 01:00:00     147.278\n",
       "2019-03-05 02:00:00     -28.272\n",
       "2019-03-05 03:00:00    -201.291\n",
       "2019-03-05 04:00:00      83.710\n",
       "2019-03-05 05:00:00    -102.683\n",
       "Name: imbalance_price, Length: 45343, dtype: float64"
      ]
     },
     "execution_count": 68,
     "metadata": {},
     "output_type": "execute_result"
    }
   ],
   "source": [
    "train.imbalance_price"
   ]
  },
  {
   "cell_type": "code",
   "execution_count": 69,
   "metadata": {},
   "outputs": [
    {
     "data": {
      "text/plain": [
       "<Figure size 1008x576 with 0 Axes>"
      ]
     },
     "metadata": {},
     "output_type": "display_data"
    },
    {
     "data": {
      "image/png": "[encoded data removed]",
      "text/plain": [
       "<Figure size 432x288 with 1 Axes>"
      ]
     },
     "metadata": {
      "needs_background": "light"
     },
     "output_type": "display_data"
    }
   ],
   "source": [
    "# Partial Autocorrelation Plot\n",
    "plt.figure(figsize=(14, 8))\n",
    "pacf = plot_pacf(train, lags=30, alpha=0.05)"
   ]
  },
  {
   "cell_type": "markdown",
   "metadata": {},
   "source": [
    "Conclusion: AR(3)"
   ]
  },
  {
   "cell_type": "code",
   "execution_count": 82,
   "metadata": {},
   "outputs": [
    {
     "data": {
      "text/plain": [
       "<Figure size 1008x576 with 0 Axes>"
      ]
     },
     "metadata": {},
     "output_type": "display_data"
    },
    {
     "data": {
      "image/png": "[encoded data removed]",
      "text/plain": [
       "<Figure size 432x288 with 1 Axes>"
      ]
     },
     "metadata": {
      "needs_background": "light"
     },
     "output_type": "display_data"
    }
   ],
   "source": [
    "# Autocorrelation Plot\n",
    "plt.figure(figsize=(14, 8))\n",
    "pacf = plot_acf(train, lags=30)"
   ]
  },
  {
   "cell_type": "markdown",
   "metadata": {},
   "source": [
    "Conclusion: MA between 3 and 10"
   ]
  },
  {
   "cell_type": "code",
   "execution_count": null,
   "metadata": {},
   "outputs": [],
   "source": [
    "# setting the MLFlow connection and experiment\n",
    "mlflow.set_tracking_uri(TRACKING_URI)\n",
    "mlflow.set_experiment(EXPERIMENT_NAME)\n",
    "mlflow.start_run()\n",
    "run = mlflow.active_run()"
   ]
  },
  {
   "cell_type": "code",
   "execution_count": 72,
   "metadata": {},
   "outputs": [
    {
     "data": {
      "text/html": [
       "<div>\n",
       "<style scoped>\n",
       "    .dataframe tbody tr th:only-of-type {\n",
       "        vertical-align: middle;\n",
       "    }\n",
       "\n",
       "    .dataframe tbody tr th {\n",
       "        vertical-align: top;\n",
       "    }\n",
       "\n",
       "    .dataframe thead th {\n",
       "        text-align: right;\n",
       "    }\n",
       "</style>\n",
       "<table border=\"1\" class=\"dataframe\">\n",
       "  <thead>\n",
       "    <tr style=\"text-align: right;\">\n",
       "      <th></th>\n",
       "      <th>imbalance_price</th>\n",
       "    </tr>\n",
       "    <tr>\n",
       "      <th>datetime</th>\n",
       "      <th></th>\n",
       "    </tr>\n",
       "  </thead>\n",
       "  <tbody>\n",
       "    <tr>\n",
       "      <th>2013-12-31 23:00:00</th>\n",
       "      <td>917.118</td>\n",
       "    </tr>\n",
       "    <tr>\n",
       "      <th>2014-01-01 00:00:00</th>\n",
       "      <td>1264.266</td>\n",
       "    </tr>\n",
       "    <tr>\n",
       "      <th>2014-01-01 01:00:00</th>\n",
       "      <td>746.810</td>\n",
       "    </tr>\n",
       "    <tr>\n",
       "      <th>2014-01-01 02:00:00</th>\n",
       "      <td>-15.512</td>\n",
       "    </tr>\n",
       "    <tr>\n",
       "      <th>2014-01-01 03:00:00</th>\n",
       "      <td>-36.904</td>\n",
       "    </tr>\n",
       "  </tbody>\n",
       "</table>\n",
       "</div>"
      ],
      "text/plain": [
       "                     imbalance_price\n",
       "datetime                            \n",
       "2013-12-31 23:00:00          917.118\n",
       "2014-01-01 00:00:00         1264.266\n",
       "2014-01-01 01:00:00          746.810\n",
       "2014-01-01 02:00:00          -15.512\n",
       "2014-01-01 03:00:00          -36.904"
      ]
     },
     "execution_count": 72,
     "metadata": {},
     "output_type": "execute_result"
    }
   ],
   "source": [
    "train.head()"
   ]
  },
  {
   "cell_type": "code",
   "execution_count": 73,
   "metadata": {},
   "outputs": [
    {
     "data": {
      "text/plain": [
       "(45343, 1)"
      ]
     },
     "execution_count": 73,
     "metadata": {},
     "output_type": "execute_result"
    }
   ],
   "source": [
    "train.shape"
   ]
  },
  {
   "cell_type": "code",
   "execution_count": 74,
   "metadata": {},
   "outputs": [
    {
     "data": {
      "text/plain": [
       "(19433, 1)"
      ]
     },
     "execution_count": 74,
     "metadata": {},
     "output_type": "execute_result"
    }
   ],
   "source": [
    "test.shape"
   ]
  },
  {
   "cell_type": "code",
   "execution_count": 166,
   "metadata": {},
   "outputs": [
    {
     "data": {
      "text/plain": [
       "663273.1455304616"
      ]
     },
     "execution_count": 166,
     "metadata": {},
     "output_type": "execute_result"
    }
   ],
   "source": [
    "model = ARIMA(train, order=(3,1,1))\n",
    "results = model.fit()\n",
    "results.aic"
   ]
  },
  {
   "cell_type": "code",
   "execution_count": 167,
   "metadata": {},
   "outputs": [],
   "source": [
    "forecast = results.forecast(steps=1)"
   ]
  },
  {
   "cell_type": "code",
   "execution_count": 168,
   "metadata": {},
   "outputs": [
    {
     "data": {
      "text/plain": [
       "182.46446473031253"
      ]
     },
     "execution_count": 168,
     "metadata": {},
     "output_type": "execute_result"
    }
   ],
   "source": [
    "# RMSE\n",
    "rmse = np.sqrt(mean_squared_error(test.iloc[0:1], forecast))\n",
    "rmse"
   ]
  },
  {
   "cell_type": "code",
   "execution_count": 172,
   "metadata": {},
   "outputs": [],
   "source": [
    "# define ranges for p, d, q\n",
    "p_range = range(0,6)\n",
    "d_range = range(0,2)\n",
    "q_range = range(0,11)"
   ]
  },
  {
   "cell_type": "code",
   "execution_count": 173,
   "metadata": {},
   "outputs": [
    {
     "name": "stdout",
     "output_type": "stream",
     "text": [
      "ARIMA (0, 0, 0) RMSE = 449.99952821851883\n",
      "ARIMA (0, 0, 1) RMSE = 318.9020279380302\n",
      "ARIMA (0, 0, 2) RMSE = 306.19387015178654\n",
      "ARIMA (0, 0, 3) RMSE = 323.71685920916724\n",
      "ARIMA (0, 0, 4) RMSE = 277.7764368214319\n",
      "ARIMA (0, 0, 5) RMSE = 306.32442519991946\n",
      "ARIMA (0, 0, 6) RMSE = 293.2129665499516\n",
      "ARIMA (0, 0, 7) RMSE = 281.92655723585875\n",
      "ARIMA (0, 0, 8) RMSE = 274.23694850549725\n",
      "ARIMA (0, 0, 9) RMSE = 278.4899140347136\n",
      "ARIMA (0, 0, 10) RMSE = 267.40559095068835\n",
      "ARIMA (0, 1, 0) RMSE = 247.216\n",
      "ARIMA (0, 1, 1) RMSE = 297.4691209860101\n",
      "ARIMA (0, 1, 2) RMSE = 295.36864991941707\n",
      "ARIMA (0, 1, 3) RMSE = 250.31208432994066\n",
      "ARIMA (0, 1, 4) RMSE = 238.37698807715321\n",
      "ARIMA (0, 1, 5) RMSE = 197.5106547183348\n",
      "ARIMA (0, 1, 6) RMSE = 202.4496199195546\n",
      "ARIMA (0, 1, 7) RMSE = 190.78602850877704\n",
      "ARIMA (0, 1, 8) RMSE = 184.31141426007176\n",
      "ARIMA (0, 1, 9) RMSE = 180.3778041245929\n",
      "ARIMA (0, 1, 10) RMSE = 181.25700512350446\n",
      "ARIMA (1, 0, 0) RMSE = 330.65116237175874\n",
      "ARIMA (1, 0, 1) RMSE = 312.9888750099284\n",
      "ARIMA (1, 0, 2) RMSE = 300.80491951254\n",
      "ARIMA (1, 0, 3) RMSE = 310.95378204860356\n",
      "ARIMA (1, 0, 4) RMSE = 309.808040700677\n",
      "ARIMA (1, 0, 5) RMSE = 281.09809775140303\n",
      "ARIMA (1, 0, 6) RMSE = 279.96744475552697\n",
      "ARIMA (1, 0, 7) RMSE = 267.91886660166995\n",
      "ARIMA (1, 0, 8) RMSE = 256.96213328258403\n",
      "ARIMA (1, 0, 9) RMSE = 251.22655941112302\n",
      "ARIMA (1, 0, 10) RMSE = 253.09691441436547\n",
      "ARIMA (1, 1, 0) RMSE = 276.1257435657644\n",
      "ARIMA (1, 1, 1) RMSE = 228.2121684071879\n",
      "ARIMA (1, 1, 2) RMSE = 227.26168786750856\n",
      "ARIMA (1, 1, 3) RMSE = 200.95676958116331\n",
      "ARIMA (1, 1, 4) RMSE = 224.62012881576703\n",
      "ARIMA (1, 1, 5) RMSE = 263.9206384191817\n",
      "ARIMA (1, 1, 6) RMSE = 247.33515647175756\n",
      "ARIMA (1, 1, 7) RMSE = 197.22851180854636\n",
      "ARIMA (1, 1, 8) RMSE = 190.7637661247588\n",
      "ARIMA (1, 1, 9) RMSE = 193.5879172594274\n",
      "ARIMA (1, 1, 10) RMSE = 179.61599695135726\n",
      "ARIMA (2, 0, 0) RMSE = 324.10429796019076\n",
      "ARIMA (2, 0, 1) RMSE = 311.39079734847036\n",
      "ARIMA (2, 0, 2) RMSE = 305.7820788944604\n",
      "ARIMA (2, 0, 3) RMSE = 255.09112748535745\n",
      "ARIMA (2, 0, 4) RMSE = 311.35154753809184\n",
      "ARIMA (2, 0, 5) RMSE = 292.94285163551945\n",
      "ARIMA (2, 0, 6) RMSE = 251.56200968256792\n",
      "ARIMA (2, 0, 7) RMSE = 272.382862836551\n",
      "ARIMA (2, 0, 8) RMSE = 268.0629257311397\n",
      "ARIMA (2, 0, 9) RMSE = 245.46053912293706\n",
      "ARIMA (2, 0, 10) RMSE = 254.37285722481982\n",
      "ARIMA (2, 1, 0) RMSE = 195.19976331893582\n",
      "ARIMA (2, 1, 1) RMSE = 242.9209778580701\n",
      "ARIMA (2, 1, 2) RMSE = 215.18729153188326\n",
      "ARIMA (2, 1, 3) RMSE = 205.73886688485578\n",
      "ARIMA (2, 1, 4) RMSE = 164.40289737133622\n",
      "ARIMA (2, 1, 5) RMSE = 250.80373382682527\n",
      "ARIMA (2, 1, 6) RMSE = 277.5346537956173\n",
      "ARIMA (2, 1, 7) RMSE = 246.7793224963786\n",
      "ARIMA (2, 1, 8) RMSE = 220.57336711069362\n",
      "ARIMA (2, 1, 9) RMSE = 185.27199042957227\n",
      "ARIMA (2, 1, 10) RMSE = 187.3486986236569\n",
      "ARIMA (3, 0, 0) RMSE = 276.5534903425812\n",
      "ARIMA (3, 0, 1) RMSE = 328.75210094607166\n",
      "ARIMA (3, 0, 2) RMSE = 297.3367516940383\n",
      "ARIMA (3, 0, 3) RMSE = 304.9409167181393\n",
      "ARIMA (3, 0, 4) RMSE = 222.29668328491175\n",
      "ARIMA (3, 0, 5) RMSE = 211.90616448797314\n",
      "ARIMA (3, 0, 6) RMSE = 238.1629995494023\n",
      "ARIMA (3, 0, 7) RMSE = 216.17723084003654\n",
      "ARIMA (3, 0, 8) RMSE = 218.29495047118738\n",
      "ARIMA (3, 0, 9) RMSE = 256.98701575110056\n",
      "ARIMA (3, 0, 10) RMSE = 242.1229387887427\n",
      "ARIMA (3, 1, 0) RMSE = 222.65581878695207\n",
      "ARIMA (3, 1, 1) RMSE = 182.46446473031253\n",
      "ARIMA (3, 1, 2) RMSE = 185.60763996305758\n",
      "ARIMA (3, 1, 3) RMSE = 192.44138045933784\n",
      "ARIMA (3, 1, 4) RMSE = 247.47588549392992\n",
      "ARIMA (3, 1, 5) RMSE = 193.07243718185057\n",
      "ARIMA (3, 1, 6) RMSE = 240.39793598108605\n",
      "ARIMA (3, 1, 7) RMSE = 253.5594385511887\n",
      "ARIMA (3, 1, 8) RMSE = 172.53813167844646\n",
      "ARIMA (3, 1, 9) RMSE = 275.3255777939695\n",
      "ARIMA (3, 1, 10) RMSE = 164.82899117701874\n",
      "ARIMA (4, 0, 0) RMSE = 280.44005487038675\n",
      "ARIMA (4, 0, 1) RMSE = 257.20879768327757\n",
      "ARIMA (4, 0, 2) RMSE = 296.5146633488266\n",
      "ARIMA (4, 0, 3) RMSE = 283.98971091984424\n",
      "ARIMA (4, 0, 4) RMSE = 300.75243189676564\n",
      "ARIMA (4, 0, 5) RMSE = 227.7881097193785\n",
      "ARIMA (4, 0, 6) RMSE = 229.11186358855406\n",
      "ARIMA (4, 0, 7) RMSE = 225.63456848614683\n",
      "ARIMA (4, 0, 8) RMSE = 239.7723417467072\n",
      "ARIMA (4, 0, 9) RMSE = 259.9606434915571\n",
      "ARIMA (4, 0, 10) RMSE = 259.93977414721735\n",
      "ARIMA (4, 1, 0) RMSE = 244.86451858028914\n",
      "ARIMA (4, 1, 1) RMSE = 183.445702177582\n",
      "ARIMA (4, 1, 2) RMSE = 154.6445731407913\n",
      "ARIMA (4, 1, 3) RMSE = 156.75279860435464\n",
      "ARIMA (4, 1, 4) RMSE = 197.49952130270452\n",
      "ARIMA (4, 1, 5) RMSE = 137.30307675328237\n",
      "ARIMA (4, 1, 6) RMSE = 165.65091282816468\n",
      "ARIMA (4, 1, 7) RMSE = 239.91516511462692\n",
      "ARIMA (4, 1, 8) RMSE = 233.35523710565462\n",
      "ARIMA (4, 1, 9) RMSE = 230.85435260917325\n",
      "ARIMA (4, 1, 10) RMSE = 230.6394057162804\n",
      "ARIMA (5, 0, 0) RMSE = 285.34108630159596\n",
      "ARIMA (5, 0, 1) RMSE = 258.1063528690713\n",
      "ARIMA (5, 0, 2) RMSE = 227.3200296435461\n",
      "ARIMA (5, 0, 3) RMSE = 222.71424572145986\n",
      "ARIMA (5, 0, 4) RMSE = 269.23454670211606\n",
      "ARIMA (5, 0, 5) RMSE = 281.13988352073596\n",
      "ARIMA (5, 0, 6) RMSE = 199.41956516148142\n",
      "ARIMA (5, 0, 7) RMSE = 214.96516526977206\n",
      "ARIMA (5, 0, 8) RMSE = 207.50378421127778\n",
      "ARIMA (5, 0, 9) RMSE = 232.8065446045195\n",
      "ARIMA (5, 0, 10) RMSE = 257.73191257688177\n",
      "ARIMA (5, 1, 0) RMSE = 199.30397671243875\n",
      "ARIMA (5, 1, 1) RMSE = 188.19413888572822\n",
      "ARIMA (5, 1, 2) RMSE = 168.62692017479046\n",
      "ARIMA (5, 1, 3) RMSE = 168.81371953018294\n",
      "ARIMA (5, 1, 4) RMSE = 239.17786281389635\n",
      "ARIMA (5, 1, 5) RMSE = 222.22196333822524\n",
      "ARIMA (5, 1, 6) RMSE = 250.81134180731488\n",
      "ARIMA (5, 1, 7) RMSE = 194.0860261080745\n",
      "ARIMA (5, 1, 8) RMSE = 235.17224746579524\n",
      "ARIMA (5, 1, 9) RMSE = 277.4110332016086\n",
      "ARIMA (5, 1, 10) RMSE = 265.9892542298518\n"
     ]
    }
   ],
   "source": [
    "for p in p_range:\n",
    "    for d in d_range:\n",
    "        for q in q_range:\n",
    "            order = (p,d,q)\n",
    "            model = ARIMA(train, order=order)\n",
    "            model_fit = model.fit()\n",
    "            pred_y = model_fit.forecast(steps=1)\n",
    "            error = np.sqrt(mean_squared_error(test.iloc[0:1], pred_y))\n",
    "            print(f'ARIMA {order} RMSE = {error}')"
   ]
  },
  {
   "cell_type": "code",
   "execution_count": null,
   "metadata": {},
   "outputs": [],
   "source": [
    "# or parameters of the model (fit_intercept for Linear Regression model)\n",
    "mlflow_params = {\n",
    "      \"p\": fitted_model.params,\n",
    "      \"d\": ,\n",
    "      \"q\": ,\n",
    "  }"
   ]
  },
  {
   "cell_type": "code",
   "execution_count": null,
   "metadata": {},
   "outputs": [],
   "source": [
    "# logging params to mlflow\n",
    "mlflow.log_params(params)\n",
    "# setting tags\n",
    "mlflow.set_tag(\"model\", \"ARIMA\")\n",
    "mlflow.set_tag(\"features\", \"imbalance price\")\n",
    "# logging metrics\n",
    "mlflow.log_metric(\"test-\" + \"RMSE\", rmse)\n",
    "mlflow.log_metric(\"test-\" + \"R2\", rsquared)\n",
    "# end run\n",
    "mlflow.end_run()"
   ]
  }
 ],
 "metadata": {
  "interpreter": {
   "hash": "d660bc0cc6e67f5b49ba1440baa02e4de056358993bc522f414189e18c56f5d6"
  },
  "kernelspec": {
   "display_name": "Python 3.8.5 64-bit ('3.8.5': pyenv)",
   "language": "python",
   "name": "python3"
  },
  "language_info": {
   "codemirror_mode": {
    "name": "ipython",
    "version": 3
   },
   "file_extension": ".py",
   "mimetype": "text/x-python",
   "name": "python",
   "nbconvert_exporter": "python",
   "pygments_lexer": "ipython3",
   "version": "3.8.5"
  },
  "orig_nbformat": 4
 },
 "nbformat": 4,
 "nbformat_minor": 2
}
