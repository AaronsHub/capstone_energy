{
 "cells": [
  {
   "cell_type": "markdown",
   "metadata": {},
   "source": [
    "# __Prophet 2019__"
   ]
  },
  {
   "cell_type": "code",
   "execution_count": 1,
   "metadata": {},
   "outputs": [
    {
     "name": "stdout",
     "output_type": "stream",
     "text": [
      "Collecting pystan==2.19.1.1\n",
      "  Downloading pystan-2.19.1.1.tar.gz (16.2 MB)\n",
      "     |████████████████████████████████| 16.2 MB 2.4 MB/s            \n",
      "\u001b[?25h  Preparing metadata (setup.py) ... \u001b[?25ldone\n",
      "\u001b[?25hCollecting Cython!=0.25.1,>=0.22\n",
      "  Using cached Cython-0.29.24-cp39-cp39-macosx_10_9_x86_64.whl (1.9 MB)\n",
      "Requirement already satisfied: numpy>=1.7 in /Users/katrinmulinski/neuefische/capstone_energy/.venv/lib/python3.9/site-packages (from pystan==2.19.1.1) (1.21.2)\n",
      "Using legacy 'setup.py install' for pystan, since package 'wheel' is not installed.\n",
      "Installing collected packages: Cython, pystan\n",
      "    Running setup.py install for pystan ... \u001b[?25ldone\n",
      "\u001b[?25hSuccessfully installed Cython-0.29.24 pystan-2.19.1.1\n",
      "Collecting prophet\n",
      "  Downloading prophet-1.0.1.tar.gz (65 kB)\n",
      "     |████████████████████████████████| 65 kB 2.1 MB/s             \n",
      "\u001b[?25h  Preparing metadata (setup.py) ... \u001b[?25ldone\n",
      "\u001b[?25hRequirement already satisfied: Cython>=0.22 in /Users/katrinmulinski/neuefische/capstone_energy/.venv/lib/python3.9/site-packages (from prophet) (0.29.24)\n",
      "Collecting cmdstanpy==0.9.68\n",
      "  Downloading cmdstanpy-0.9.68-py3-none-any.whl (49 kB)\n",
      "     |████████████████████████████████| 49 kB 12.2 MB/s            \n",
      "\u001b[?25hRequirement already satisfied: pystan~=2.19.1.1 in /Users/katrinmulinski/neuefische/capstone_energy/.venv/lib/python3.9/site-packages (from prophet) (2.19.1.1)\n",
      "Requirement already satisfied: numpy>=1.15.4 in /Users/katrinmulinski/neuefische/capstone_energy/.venv/lib/python3.9/site-packages (from prophet) (1.21.2)\n",
      "Requirement already satisfied: pandas>=1.0.4 in /Users/katrinmulinski/neuefische/capstone_energy/.venv/lib/python3.9/site-packages (from prophet) (1.3.3)\n",
      "Requirement already satisfied: matplotlib>=2.0.0 in /Users/katrinmulinski/neuefische/capstone_energy/.venv/lib/python3.9/site-packages (from prophet) (3.4.3)\n",
      "Collecting LunarCalendar>=0.0.9\n",
      "  Downloading LunarCalendar-0.0.9-py2.py3-none-any.whl (18 kB)\n",
      "Collecting convertdate>=2.1.2\n",
      "  Downloading convertdate-2.3.2-py3-none-any.whl (47 kB)\n",
      "     |████████████████████████████████| 47 kB 6.6 MB/s             \n",
      "\u001b[?25hCollecting holidays>=0.10.2\n",
      "  Downloading holidays-0.11.3.1-py3-none-any.whl (155 kB)\n",
      "     |████████████████████████████████| 155 kB 9.9 MB/s            \n",
      "\u001b[?25hCollecting setuptools-git>=1.2\n",
      "  Downloading setuptools_git-1.2-py2.py3-none-any.whl (10 kB)\n",
      "Requirement already satisfied: python-dateutil>=2.8.0 in /Users/katrinmulinski/neuefische/capstone_energy/.venv/lib/python3.9/site-packages (from prophet) (2.8.2)\n",
      "Collecting tqdm>=4.36.1\n",
      "  Using cached tqdm-4.62.3-py2.py3-none-any.whl (76 kB)\n",
      "Collecting ujson\n",
      "  Downloading ujson-4.2.0-cp39-cp39-macosx_10_14_x86_64.whl (45 kB)\n",
      "     |████████████████████████████████| 45 kB 8.3 MB/s             \n",
      "\u001b[?25hCollecting pymeeus<=1,>=0.3.13\n",
      "  Downloading PyMeeus-0.5.11.tar.gz (5.4 MB)\n",
      "     |████████████████████████████████| 5.4 MB 26.9 MB/s            \n",
      "\u001b[?25h  Preparing metadata (setup.py) ... \u001b[?25ldone\n",
      "\u001b[?25hRequirement already satisfied: pytz>=2014.10 in /Users/katrinmulinski/neuefische/capstone_energy/.venv/lib/python3.9/site-packages (from convertdate>=2.1.2->prophet) (2021.3)\n",
      "Collecting hijri-converter\n",
      "  Downloading hijri_converter-2.2.2-py3-none-any.whl (13 kB)\n",
      "Collecting korean-lunar-calendar\n",
      "  Downloading korean_lunar_calendar-0.2.1-py3-none-any.whl (8.0 kB)\n",
      "Collecting ephem>=3.7.5.3\n",
      "  Downloading ephem-4.1-cp39-cp39-macosx_10_9_x86_64.whl (1.4 MB)\n",
      "     |████████████████████████████████| 1.4 MB 32.0 MB/s            \n",
      "\u001b[?25hRequirement already satisfied: pillow>=6.2.0 in /Users/katrinmulinski/neuefische/capstone_energy/.venv/lib/python3.9/site-packages (from matplotlib>=2.0.0->prophet) (8.4.0)\n",
      "Requirement already satisfied: kiwisolver>=1.0.1 in /Users/katrinmulinski/neuefische/capstone_energy/.venv/lib/python3.9/site-packages (from matplotlib>=2.0.0->prophet) (1.3.2)\n",
      "Requirement already satisfied: cycler>=0.10 in /Users/katrinmulinski/neuefische/capstone_energy/.venv/lib/python3.9/site-packages (from matplotlib>=2.0.0->prophet) (0.11.0)\n",
      "Requirement already satisfied: pyparsing>=2.2.1 in /Users/katrinmulinski/neuefische/capstone_energy/.venv/lib/python3.9/site-packages (from matplotlib>=2.0.0->prophet) (2.4.7)\n",
      "Requirement already satisfied: six>=1.5 in /Users/katrinmulinski/neuefische/capstone_energy/.venv/lib/python3.9/site-packages (from python-dateutil>=2.8.0->prophet) (1.16.0)\n",
      "Using legacy 'setup.py install' for prophet, since package 'wheel' is not installed.\n",
      "Using legacy 'setup.py install' for pymeeus, since package 'wheel' is not installed.\n",
      "Installing collected packages: pymeeus, ujson, korean-lunar-calendar, hijri-converter, ephem, convertdate, tqdm, setuptools-git, LunarCalendar, holidays, cmdstanpy, prophet\n",
      "    Running setup.py install for pymeeus ... \u001b[?25ldone\n",
      "\u001b[?25h    Running setup.py install for prophet ... \u001b[?25ldone\n",
      "\u001b[?25hSuccessfully installed LunarCalendar-0.0.9 cmdstanpy-0.9.68 convertdate-2.3.2 ephem-4.1 hijri-converter-2.2.2 holidays-0.11.3.1 korean-lunar-calendar-0.2.1 prophet-1.0.1 pymeeus-0.5.11 setuptools-git-1.2 tqdm-4.62.3 ujson-4.2.0\n"
     ]
    }
   ],
   "source": [
    "!pip install pystan==2.19.1.1\n",
    "\n",
    "!pip install prophet"
   ]
  },
  {
   "cell_type": "code",
   "execution_count": 3,
   "metadata": {},
   "outputs": [
    {
     "name": "stderr",
     "output_type": "stream",
     "text": [
      "Importing plotly failed. Interactive plots will not work.\n"
     ]
    }
   ],
   "source": [
    "import pandas as pd\n",
    "import numpy as np\n",
    "\n",
    "import seaborn as sns\n",
    "import matplotlib.pyplot as plt\n",
    "from sklearn.metrics import mean_squared_error\n",
    "from math import sqrt\n",
    "import statsmodels.api as sm\n",
    "%matplotlib inline\n",
    "\n",
    "from prophet import Prophet\n",
    "\n",
    "import warnings\n",
    "warnings.filterwarnings('ignore')\n",
    "from statsmodels.tsa.seasonal import seasonal_decompose"
   ]
  },
  {
   "cell_type": "code",
   "execution_count": 4,
   "metadata": {},
   "outputs": [],
   "source": [
    "imb2019=pd.read_csv(\"../data/imbalance_1h_2019.csv\")"
   ]
  },
  {
   "cell_type": "code",
   "execution_count": 5,
   "metadata": {},
   "outputs": [
    {
     "data": {
      "text/html": [
       "<div>\n",
       "<style scoped>\n",
       "    .dataframe tbody tr th:only-of-type {\n",
       "        vertical-align: middle;\n",
       "    }\n",
       "\n",
       "    .dataframe tbody tr th {\n",
       "        vertical-align: top;\n",
       "    }\n",
       "\n",
       "    .dataframe thead th {\n",
       "        text-align: right;\n",
       "    }\n",
       "</style>\n",
       "<table border=\"1\" class=\"dataframe\">\n",
       "  <thead>\n",
       "    <tr style=\"text-align: right;\">\n",
       "      <th></th>\n",
       "      <th>timestamp</th>\n",
       "      <th>imbalance_price</th>\n",
       "    </tr>\n",
       "  </thead>\n",
       "  <tbody>\n",
       "    <tr>\n",
       "      <th>0</th>\n",
       "      <td>2019-01-01 00:00:00</td>\n",
       "      <td>-329.6045</td>\n",
       "    </tr>\n",
       "    <tr>\n",
       "      <th>1</th>\n",
       "      <td>2019-01-01 01:00:00</td>\n",
       "      <td>-283.8000</td>\n",
       "    </tr>\n",
       "    <tr>\n",
       "      <th>2</th>\n",
       "      <td>2019-01-01 02:00:00</td>\n",
       "      <td>-334.7170</td>\n",
       "    </tr>\n",
       "    <tr>\n",
       "      <th>3</th>\n",
       "      <td>2019-01-01 03:00:00</td>\n",
       "      <td>117.6665</td>\n",
       "    </tr>\n",
       "    <tr>\n",
       "      <th>4</th>\n",
       "      <td>2019-01-01 04:00:00</td>\n",
       "      <td>-323.3150</td>\n",
       "    </tr>\n",
       "  </tbody>\n",
       "</table>\n",
       "</div>"
      ],
      "text/plain": [
       "             timestamp  imbalance_price\n",
       "0  2019-01-01 00:00:00        -329.6045\n",
       "1  2019-01-01 01:00:00        -283.8000\n",
       "2  2019-01-01 02:00:00        -334.7170\n",
       "3  2019-01-01 03:00:00         117.6665\n",
       "4  2019-01-01 04:00:00        -323.3150"
      ]
     },
     "execution_count": 5,
     "metadata": {},
     "output_type": "execute_result"
    }
   ],
   "source": [
    "imb2019.head()"
   ]
  },
  {
   "cell_type": "code",
   "execution_count": 7,
   "metadata": {},
   "outputs": [],
   "source": [
    "def split_data(data, split_date):\n",
    "    return data[data.index <= split_date].copy(), \\\n",
    "           data[data.index >  split_date].copy()\n",
    "\n",
    "def limit(data, frm, to):\n",
    "    return data[(data.index>=frm)&(data.index<to)]"
   ]
  },
  {
   "cell_type": "code",
   "execution_count": 8,
   "metadata": {},
   "outputs": [],
   "source": [
    "dataset_hourly = pd.read_csv('../data/imbalance_1h_2019.csv', \n",
    "                            index_col=[0], parse_dates=[0])\n",
    "dataset_hourly.sort_index(inplace=True)"
   ]
  },
  {
   "cell_type": "code",
   "execution_count": 10,
   "metadata": {},
   "outputs": [],
   "source": [
    "t = dataset_hourly.imbalance_price.copy()\n",
    "t = t.drop(t.index[t.index.duplicated()])\n",
    "freq_index = pd.date_range(start=t.index[0], end=t.index[-1], freq='H')\n",
    "constructed = pd.Series(index=freq_index, name='imbalance_price')\n",
    "constructed.update(t)\n",
    "constructed.interpolate(inplace=True)"
   ]
  },
  {
   "cell_type": "markdown",
   "metadata": {},
   "source": [
    "train, test = split_data(constructed, '01-01-2019')"
   ]
  },
  {
   "cell_type": "code",
   "execution_count": 13,
   "metadata": {},
   "outputs": [
    {
     "data": {
      "text/html": [
       "<div>\n",
       "<style scoped>\n",
       "    .dataframe tbody tr th:only-of-type {\n",
       "        vertical-align: middle;\n",
       "    }\n",
       "\n",
       "    .dataframe tbody tr th {\n",
       "        vertical-align: top;\n",
       "    }\n",
       "\n",
       "    .dataframe thead th {\n",
       "        text-align: right;\n",
       "    }\n",
       "</style>\n",
       "<table border=\"1\" class=\"dataframe\">\n",
       "  <thead>\n",
       "    <tr style=\"text-align: right;\">\n",
       "      <th></th>\n",
       "      <th>imbalance_price</th>\n",
       "    </tr>\n",
       "    <tr>\n",
       "      <th>timestamp</th>\n",
       "      <th></th>\n",
       "    </tr>\n",
       "  </thead>\n",
       "  <tbody>\n",
       "    <tr>\n",
       "      <th>2019-01-01 00:00:00</th>\n",
       "      <td>-329.6045</td>\n",
       "    </tr>\n",
       "    <tr>\n",
       "      <th>2019-01-01 01:00:00</th>\n",
       "      <td>-283.8000</td>\n",
       "    </tr>\n",
       "    <tr>\n",
       "      <th>2019-01-01 02:00:00</th>\n",
       "      <td>-334.7170</td>\n",
       "    </tr>\n",
       "    <tr>\n",
       "      <th>2019-01-01 03:00:00</th>\n",
       "      <td>117.6665</td>\n",
       "    </tr>\n",
       "    <tr>\n",
       "      <th>2019-01-01 04:00:00</th>\n",
       "      <td>-323.3150</td>\n",
       "    </tr>\n",
       "  </tbody>\n",
       "</table>\n",
       "</div>"
      ],
      "text/plain": [
       "                     imbalance_price\n",
       "timestamp                           \n",
       "2019-01-01 00:00:00        -329.6045\n",
       "2019-01-01 01:00:00        -283.8000\n",
       "2019-01-01 02:00:00        -334.7170\n",
       "2019-01-01 03:00:00         117.6665\n",
       "2019-01-01 04:00:00        -323.3150"
      ]
     },
     "execution_count": 13,
     "metadata": {},
     "output_type": "execute_result"
    }
   ],
   "source": [
    "dataset_hourly.head()"
   ]
  },
  {
   "cell_type": "code",
   "execution_count": 14,
   "metadata": {},
   "outputs": [
    {
     "data": {
      "text/plain": [
       "2019-01-01 00:00:00   -329.6045\n",
       "2019-01-01 01:00:00   -283.8000\n",
       "2019-01-01 02:00:00   -334.7170\n",
       "2019-01-01 03:00:00    117.6665\n",
       "2019-01-01 04:00:00   -323.3150\n",
       "Freq: H, Name: imbalance_price, dtype: float64"
      ]
     },
     "execution_count": 14,
     "metadata": {},
     "output_type": "execute_result"
    }
   ],
   "source": [
    "train.head()"
   ]
  },
  {
   "cell_type": "code",
   "execution_count": 26,
   "metadata": {},
   "outputs": [
    {
     "data": {
      "text/html": [
       "<div>\n",
       "<style scoped>\n",
       "    .dataframe tbody tr th:only-of-type {\n",
       "        vertical-align: middle;\n",
       "    }\n",
       "\n",
       "    .dataframe tbody tr th {\n",
       "        vertical-align: top;\n",
       "    }\n",
       "\n",
       "    .dataframe thead th {\n",
       "        text-align: right;\n",
       "    }\n",
       "</style>\n",
       "<table border=\"1\" class=\"dataframe\">\n",
       "  <thead>\n",
       "    <tr style=\"text-align: right;\">\n",
       "      <th></th>\n",
       "      <th>index</th>\n",
       "      <th>imbalance_price</th>\n",
       "    </tr>\n",
       "  </thead>\n",
       "  <tbody>\n",
       "    <tr>\n",
       "      <th>0</th>\n",
       "      <td>2019-01-01 00:00:00</td>\n",
       "      <td>-329.6045</td>\n",
       "    </tr>\n",
       "    <tr>\n",
       "      <th>1</th>\n",
       "      <td>2019-01-01 01:00:00</td>\n",
       "      <td>-283.8000</td>\n",
       "    </tr>\n",
       "    <tr>\n",
       "      <th>2</th>\n",
       "      <td>2019-01-01 02:00:00</td>\n",
       "      <td>-334.7170</td>\n",
       "    </tr>\n",
       "    <tr>\n",
       "      <th>3</th>\n",
       "      <td>2019-01-01 03:00:00</td>\n",
       "      <td>117.6665</td>\n",
       "    </tr>\n",
       "    <tr>\n",
       "      <th>4</th>\n",
       "      <td>2019-01-01 04:00:00</td>\n",
       "      <td>-323.3150</td>\n",
       "    </tr>\n",
       "    <tr>\n",
       "      <th>...</th>\n",
       "      <td>...</td>\n",
       "      <td>...</td>\n",
       "    </tr>\n",
       "    <tr>\n",
       "      <th>5803</th>\n",
       "      <td>2019-08-30 19:00:00</td>\n",
       "      <td>-438.8510</td>\n",
       "    </tr>\n",
       "    <tr>\n",
       "      <th>5804</th>\n",
       "      <td>2019-08-30 20:00:00</td>\n",
       "      <td>-154.7230</td>\n",
       "    </tr>\n",
       "    <tr>\n",
       "      <th>5805</th>\n",
       "      <td>2019-08-30 21:00:00</td>\n",
       "      <td>-12.2765</td>\n",
       "    </tr>\n",
       "    <tr>\n",
       "      <th>5806</th>\n",
       "      <td>2019-08-30 22:00:00</td>\n",
       "      <td>262.0530</td>\n",
       "    </tr>\n",
       "    <tr>\n",
       "      <th>5807</th>\n",
       "      <td>2019-08-30 23:00:00</td>\n",
       "      <td>300.0955</td>\n",
       "    </tr>\n",
       "  </tbody>\n",
       "</table>\n",
       "<p>5808 rows × 2 columns</p>\n",
       "</div>"
      ],
      "text/plain": [
       "                   index  imbalance_price\n",
       "0    2019-01-01 00:00:00        -329.6045\n",
       "1    2019-01-01 01:00:00        -283.8000\n",
       "2    2019-01-01 02:00:00        -334.7170\n",
       "3    2019-01-01 03:00:00         117.6665\n",
       "4    2019-01-01 04:00:00        -323.3150\n",
       "...                  ...              ...\n",
       "5803 2019-08-30 19:00:00        -438.8510\n",
       "5804 2019-08-30 20:00:00        -154.7230\n",
       "5805 2019-08-30 21:00:00         -12.2765\n",
       "5806 2019-08-30 22:00:00         262.0530\n",
       "5807 2019-08-30 23:00:00         300.0955\n",
       "\n",
       "[5808 rows x 2 columns]"
      ]
     },
     "execution_count": 26,
     "metadata": {},
     "output_type": "execute_result"
    }
   ],
   "source": [
    "train.reset_index()"
   ]
  },
  {
   "cell_type": "code",
   "execution_count": 15,
   "metadata": {},
   "outputs": [
    {
     "data": {
      "text/plain": [
       "2019-01-09 00:00:00    1112.5615\n",
       "2019-01-09 01:00:00     842.9860\n",
       "2019-01-09 02:00:00     624.5080\n",
       "2019-01-09 03:00:00     827.4690\n",
       "2019-01-09 04:00:00     689.3620\n",
       "Freq: H, Name: imbalance_price, dtype: float64"
      ]
     },
     "execution_count": 15,
     "metadata": {},
     "output_type": "execute_result"
    }
   ],
   "source": [
    "test.head()"
   ]
  },
  {
   "cell_type": "code",
   "execution_count": null,
   "metadata": {},
   "outputs": [],
   "source": [
    "dataset2_hourly= dataset_hourly.copy()"
   ]
  },
  {
   "cell_type": "code",
   "execution_count": 21,
   "metadata": {},
   "outputs": [],
   "source": [
    "dataset2_hourly= dataset_hourly.copy()"
   ]
  },
  {
   "cell_type": "code",
   "execution_count": 30,
   "metadata": {},
   "outputs": [],
   "source": [
    "dataset2_hourly['ds'] = pd.to_datetime(train[1])\n",
    "#dataset2_hourly = dataset2_hourly[dataset2_hourly['ds'].dt.hour < 1]"
   ]
  },
  {
   "cell_type": "code",
   "execution_count": 34,
   "metadata": {},
   "outputs": [
    {
     "data": {
      "text/plain": [
       "2019-01-01 00:00:00   -329.6045\n",
       "2019-01-01 01:00:00   -283.8000\n",
       "2019-01-01 02:00:00   -334.7170\n",
       "2019-01-01 03:00:00    117.6665\n",
       "2019-01-01 04:00:00   -323.3150\n",
       "                         ...   \n",
       "2019-08-30 19:00:00   -438.8510\n",
       "2019-08-30 20:00:00   -154.7230\n",
       "2019-08-30 21:00:00    -12.2765\n",
       "2019-08-30 22:00:00    262.0530\n",
       "2019-08-30 23:00:00    300.0955\n",
       "Freq: H, Name: imbalance_price, Length: 5808, dtype: float64"
      ]
     },
     "execution_count": 34,
     "metadata": {},
     "output_type": "execute_result"
    }
   ],
   "source": [
    "train[:]"
   ]
  },
  {
   "cell_type": "code",
   "execution_count": 31,
   "metadata": {},
   "outputs": [
    {
     "data": {
      "text/html": [
       "<div>\n",
       "<style scoped>\n",
       "    .dataframe tbody tr th:only-of-type {\n",
       "        vertical-align: middle;\n",
       "    }\n",
       "\n",
       "    .dataframe tbody tr th {\n",
       "        vertical-align: top;\n",
       "    }\n",
       "\n",
       "    .dataframe thead th {\n",
       "        text-align: right;\n",
       "    }\n",
       "</style>\n",
       "<table border=\"1\" class=\"dataframe\">\n",
       "  <thead>\n",
       "    <tr style=\"text-align: right;\">\n",
       "      <th></th>\n",
       "      <th>imbalance_price</th>\n",
       "      <th>ds</th>\n",
       "    </tr>\n",
       "    <tr>\n",
       "      <th>timestamp</th>\n",
       "      <th></th>\n",
       "      <th></th>\n",
       "    </tr>\n",
       "  </thead>\n",
       "  <tbody>\n",
       "    <tr>\n",
       "      <th>2019-01-01 00:00:00</th>\n",
       "      <td>-329.6045</td>\n",
       "      <td>1969-12-31 23:59:59.999999717</td>\n",
       "    </tr>\n",
       "    <tr>\n",
       "      <th>2019-01-01 01:00:00</th>\n",
       "      <td>-283.8000</td>\n",
       "      <td>1969-12-31 23:59:59.999999717</td>\n",
       "    </tr>\n",
       "    <tr>\n",
       "      <th>2019-01-01 02:00:00</th>\n",
       "      <td>-334.7170</td>\n",
       "      <td>1969-12-31 23:59:59.999999717</td>\n",
       "    </tr>\n",
       "    <tr>\n",
       "      <th>2019-01-01 03:00:00</th>\n",
       "      <td>117.6665</td>\n",
       "      <td>1969-12-31 23:59:59.999999717</td>\n",
       "    </tr>\n",
       "    <tr>\n",
       "      <th>2019-01-01 04:00:00</th>\n",
       "      <td>-323.3150</td>\n",
       "      <td>1969-12-31 23:59:59.999999717</td>\n",
       "    </tr>\n",
       "  </tbody>\n",
       "</table>\n",
       "</div>"
      ],
      "text/plain": [
       "                     imbalance_price                            ds\n",
       "timestamp                                                         \n",
       "2019-01-01 00:00:00        -329.6045 1969-12-31 23:59:59.999999717\n",
       "2019-01-01 01:00:00        -283.8000 1969-12-31 23:59:59.999999717\n",
       "2019-01-01 02:00:00        -334.7170 1969-12-31 23:59:59.999999717\n",
       "2019-01-01 03:00:00         117.6665 1969-12-31 23:59:59.999999717\n",
       "2019-01-01 04:00:00        -323.3150 1969-12-31 23:59:59.999999717"
      ]
     },
     "execution_count": 31,
     "metadata": {},
     "output_type": "execute_result"
    }
   ],
   "source": [
    "dataset2_hourly.head()"
   ]
  },
  {
   "cell_type": "code",
   "execution_count": null,
   "metadata": {},
   "outputs": [],
   "source": [
    "m = Prophet().fit(dataset2_hourly)\n",
    "future = m.make_future_dataframe(periods=300, freq='H')\n",
    "fcst = m.predict(future)\n",
    "fig = m.plot(fcst)"
   ]
  }
 ],
 "metadata": {
  "interpreter": {
   "hash": "b5e323d05c35eab9f94fb87c4b03b33a611dd40ffd8974f7fa064453e6e4af59"
  },
  "kernelspec": {
   "display_name": "Python 3.9.4 64-bit ('.venv': venv)",
   "language": "python",
   "name": "python3"
  },
  "language_info": {
   "codemirror_mode": {
    "name": "ipython",
    "version": 3
   },
   "file_extension": ".py",
   "mimetype": "text/x-python",
   "name": "python",
   "nbconvert_exporter": "python",
   "pygments_lexer": "ipython3",
   "version": "3.9.4"
  },
  "orig_nbformat": 4
 },
 "nbformat": 4,
 "nbformat_minor": 2
}
