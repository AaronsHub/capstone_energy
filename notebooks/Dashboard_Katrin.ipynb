{
 "cells": [
  {
   "cell_type": "markdown",
   "metadata": {},
   "source": [
    "# __Dashboard with Plotly__"
   ]
  },
  {
   "cell_type": "markdown",
   "metadata": {},
   "source": [
    "You need to install dash in your terminal in a virtual environment first with the following commands:"
   ]
  },
  {
   "cell_type": "markdown",
   "metadata": {},
   "source": [
    "## __Installation__"
   ]
  },
  {
   "cell_type": "code",
   "execution_count": null,
   "metadata": {},
   "outputs": [],
   "source": [
    "# if you use python 2\n",
    "$ pip install virtualenv --user && virtualenv venv && . venv/bin/activate\n",
    "# if you use python 3\n",
    "$ python -m venv venv && . venv/bin/activate"
   ]
  },
  {
   "cell_type": "code",
   "execution_count": null,
   "metadata": {},
   "outputs": [],
   "source": [
    "pip install dash"
   ]
  },
  {
   "cell_type": "markdown",
   "metadata": {},
   "source": [
    "This command also brings along the plotly graphing library. This library is under active development, so install and upgrade frequently.\n",
    "\n",
    "I want to work in Jupyter Notebook, so I need to install jupyter-dash."
   ]
  },
  {
   "cell_type": "code",
   "execution_count": null,
   "metadata": {},
   "outputs": [],
   "source": [
    "pip install jupyter-dash"
   ]
  },
  {
   "cell_type": "markdown",
   "metadata": {},
   "source": [
    "These docs are running dash version 2.0.0.\n",
    "\n",
    "\n",
    "This version supports Python 3. Versions of dash before 2.0.0 also supported Python 2. \n",
    "\n",
    "We also recommend installing Pandas, which is required by Plotly Express and used in many of our examples."
   ]
  },
  {
   "cell_type": "markdown",
   "metadata": {},
   "source": [
    "Dash apps are composed of two parts:\n",
    "* The first part is the \"layout\" of the app and it describes what the application looks like. \n",
    "* The second part describes the interactivity of the application and will be covered in the next chapter."
   ]
  },
  {
   "cell_type": "markdown",
   "metadata": {},
   "source": [
    "Note: Throughout this documentation, Python code examples are meant to be saved as files and executed using python app.py. You can also use Jupyter with the JupyterDash library."
   ]
  },
  {
   "cell_type": "markdown",
   "metadata": {},
   "source": [
    "---\n",
    "\n",
    "## __Check if needed__"
   ]
  },
  {
   "cell_type": "markdown",
   "metadata": {},
   "source": [
    "You need to make sure dash is installed with dev and testing dependencies.\n",
    "\n",
    "\n",
    "To install it right you need to use ' ' when you have []\n",
    "\n",
    "\n",
    "Otherwise you will get the following error in your Terminal:\n",
    "\n",
    "`\n",
    "zsh: no matches found: dash[dev,testing]\n",
    "`"
   ]
  },
  {
   "cell_type": "code",
   "execution_count": null,
   "metadata": {},
   "outputs": [],
   "source": [
    "$ pip install 'dash[dev,testing]'"
   ]
  },
  {
   "cell_type": "code",
   "execution_count": null,
   "metadata": {},
   "outputs": [],
   "source": [
    "# install dcc in editable mode\n",
    "$ pip install -e ."
   ]
  },
  {
   "cell_type": "markdown",
   "metadata": {},
   "source": [
    "---\n",
    "\n",
    "## __Next step__"
   ]
  }
 ],
 "metadata": {
  "interpreter": {
   "hash": "3edfab3cdb66e85657b250466147ecf6c0d765d0f7a4d1e72001d079e968fafc"
  },
  "kernelspec": {
   "display_name": "Python 3.9.4 64-bit ('3.9.4': pyenv)",
   "language": "python",
   "name": "python3"
  },
  "language_info": {
   "codemirror_mode": {
    "name": "ipython",
    "version": 3
   },
   "file_extension": ".py",
   "mimetype": "text/x-python",
   "name": "python",
   "nbconvert_exporter": "python",
   "pygments_lexer": "ipython3",
   "version": "3.8.5"
  },
  "orig_nbformat": 4
 },
 "nbformat": 4,
 "nbformat_minor": 2
}
