{
 "cells": [
  {
   "cell_type": "code",
   "execution_count": 1,
   "metadata": {},
   "outputs": [],
   "source": [
    "import pandas as pd\n",
    "import numpy as np\n",
    "import seaborn as sns\n",
    "import matplotlib.pyplot as plt\n",
    "%matplotlib inline\n",
    "\n",
    "from statsmodels.tsa.seasonal import seasonal_decompose"
   ]
  },
  {
   "cell_type": "code",
   "execution_count": 18,
   "metadata": {},
   "outputs": [
    {
     "data": {
      "text/html": [
       "<div>\n",
       "<style scoped>\n",
       "    .dataframe tbody tr th:only-of-type {\n",
       "        vertical-align: middle;\n",
       "    }\n",
       "\n",
       "    .dataframe tbody tr th {\n",
       "        vertical-align: top;\n",
       "    }\n",
       "\n",
       "    .dataframe thead th {\n",
       "        text-align: right;\n",
       "    }\n",
       "</style>\n",
       "<table border=\"1\" class=\"dataframe\">\n",
       "  <thead>\n",
       "    <tr style=\"text-align: right;\">\n",
       "      <th></th>\n",
       "      <th>0</th>\n",
       "      <th>1</th>\n",
       "      <th>2</th>\n",
       "    </tr>\n",
       "  </thead>\n",
       "  <tbody>\n",
       "    <tr>\n",
       "      <th>0</th>\n",
       "      <td>2013-12-31 23:00:00</td>\n",
       "      <td>707.500</td>\n",
       "      <td>156.36</td>\n",
       "    </tr>\n",
       "    <tr>\n",
       "      <th>1</th>\n",
       "      <td>2013-12-31 23:15:00</td>\n",
       "      <td>966.296</td>\n",
       "      <td>81.23</td>\n",
       "    </tr>\n",
       "    <tr>\n",
       "      <th>2</th>\n",
       "      <td>2013-12-31 23:30:00</td>\n",
       "      <td>1018.984</td>\n",
       "      <td>104.01</td>\n",
       "    </tr>\n",
       "    <tr>\n",
       "      <th>3</th>\n",
       "      <td>2013-12-31 23:45:00</td>\n",
       "      <td>867.940</td>\n",
       "      <td>60.51</td>\n",
       "    </tr>\n",
       "    <tr>\n",
       "      <th>4</th>\n",
       "      <td>2014-01-01 00:00:00</td>\n",
       "      <td>1738.004</td>\n",
       "      <td>239.03</td>\n",
       "    </tr>\n",
       "  </tbody>\n",
       "</table>\n",
       "</div>"
      ],
      "text/plain": [
       "                     0         1       2\n",
       "0  2013-12-31 23:00:00   707.500  156.36\n",
       "1  2013-12-31 23:15:00   966.296   81.23\n",
       "2  2013-12-31 23:30:00  1018.984  104.01\n",
       "3  2013-12-31 23:45:00   867.940   60.51\n",
       "4  2014-01-01 00:00:00  1738.004  239.03"
      ]
     },
     "execution_count": 18,
     "metadata": {},
     "output_type": "execute_result"
    }
   ],
   "source": [
    "imb_df = pd.read_csv('../data/imbalance_de.csv', squeeze=True, parse_dates=True, header=None)\n",
    "imb_df.head()"
   ]
  },
  {
   "cell_type": "code",
   "execution_count": 19,
   "metadata": {},
   "outputs": [
    {
     "data": {
      "text/plain": [
       "(257010, 3)"
      ]
     },
     "execution_count": 19,
     "metadata": {},
     "output_type": "execute_result"
    }
   ],
   "source": [
    "imb_df.shape"
   ]
  },
  {
   "cell_type": "code",
   "execution_count": 22,
   "metadata": {},
   "outputs": [
    {
     "data": {
      "text/html": [
       "<div>\n",
       "<style scoped>\n",
       "    .dataframe tbody tr th:only-of-type {\n",
       "        vertical-align: middle;\n",
       "    }\n",
       "\n",
       "    .dataframe tbody tr th {\n",
       "        vertical-align: top;\n",
       "    }\n",
       "\n",
       "    .dataframe thead th {\n",
       "        text-align: right;\n",
       "    }\n",
       "</style>\n",
       "<table border=\"1\" class=\"dataframe\">\n",
       "  <thead>\n",
       "    <tr style=\"text-align: right;\">\n",
       "      <th></th>\n",
       "      <th>1</th>\n",
       "      <th>2</th>\n",
       "      <th>datetime</th>\n",
       "    </tr>\n",
       "  </thead>\n",
       "  <tbody>\n",
       "    <tr>\n",
       "      <th>0</th>\n",
       "      <td>707.500</td>\n",
       "      <td>156.36</td>\n",
       "      <td>2013-12-31 23:00:00</td>\n",
       "    </tr>\n",
       "    <tr>\n",
       "      <th>1</th>\n",
       "      <td>966.296</td>\n",
       "      <td>81.23</td>\n",
       "      <td>2013-12-31 23:15:00</td>\n",
       "    </tr>\n",
       "    <tr>\n",
       "      <th>2</th>\n",
       "      <td>1018.984</td>\n",
       "      <td>104.01</td>\n",
       "      <td>2013-12-31 23:30:00</td>\n",
       "    </tr>\n",
       "    <tr>\n",
       "      <th>3</th>\n",
       "      <td>867.940</td>\n",
       "      <td>60.51</td>\n",
       "      <td>2013-12-31 23:45:00</td>\n",
       "    </tr>\n",
       "    <tr>\n",
       "      <th>4</th>\n",
       "      <td>1738.004</td>\n",
       "      <td>239.03</td>\n",
       "      <td>2014-01-01 00:00:00</td>\n",
       "    </tr>\n",
       "  </tbody>\n",
       "</table>\n",
       "</div>"
      ],
      "text/plain": [
       "          1       2            datetime\n",
       "0   707.500  156.36 2013-12-31 23:00:00\n",
       "1   966.296   81.23 2013-12-31 23:15:00\n",
       "2  1018.984  104.01 2013-12-31 23:30:00\n",
       "3   867.940   60.51 2013-12-31 23:45:00\n",
       "4  1738.004  239.03 2014-01-01 00:00:00"
      ]
     },
     "execution_count": 22,
     "metadata": {},
     "output_type": "execute_result"
    }
   ],
   "source": [
    "imb_df['datetime'] = pd.to_datetime(imb_df[0])\n",
    "imb_df.drop([0], axis=1, inplace=True)\n",
    "imb_df.head()"
   ]
  },
  {
   "cell_type": "code",
   "execution_count": 23,
   "metadata": {},
   "outputs": [
    {
     "data": {
      "text/plain": [
       "1           203\n",
       "2             0\n",
       "datetime      0\n",
       "dtype: int64"
      ]
     },
     "execution_count": 23,
     "metadata": {},
     "output_type": "execute_result"
    }
   ],
   "source": [
    "imb_df.isnull().sum()"
   ]
  },
  {
   "cell_type": "code",
   "execution_count": 24,
   "metadata": {},
   "outputs": [
    {
     "data": {
      "text/plain": [
       "1           203\n",
       "2             0\n",
       "datetime      0\n",
       "dtype: int64"
      ]
     },
     "execution_count": 24,
     "metadata": {},
     "output_type": "execute_result"
    }
   ],
   "source": [
    "imb_df.isna().sum()"
   ]
  },
  {
   "cell_type": "code",
   "execution_count": 40,
   "metadata": {},
   "outputs": [
    {
     "data": {
      "text/plain": [
       "<pandas.core.groupby.generic.DataFrameGroupBy object at 0x137f3ab20>"
      ]
     },
     "execution_count": 40,
     "metadata": {},
     "output_type": "execute_result"
    }
   ],
   "source": [
    "imb_df_groupby[['datetime']]"
   ]
  },
  {
   "cell_type": "code",
   "execution_count": 38,
   "metadata": {},
   "outputs": [
    {
     "ename": "AttributeError",
     "evalue": "'SeriesGroupBy' object has no attribute 'dt'",
     "output_type": "error",
     "traceback": [
      "\u001b[0;31m---------------------------------------------------------------------------\u001b[0m",
      "\u001b[0;31mAttributeError\u001b[0m                            Traceback (most recent call last)",
      "\u001b[0;32m/var/folders/k7/35tcvfmj1hzbxhmfk0j8bh0r0000gn/T/ipykernel_91514/1371184750.py\u001b[0m in \u001b[0;36m<module>\u001b[0;34m\u001b[0m\n\u001b[0;32m----> 1\u001b[0;31m \u001b[0mimb_df_groupby\u001b[0m\u001b[0;34m[\u001b[0m\u001b[0;34m'hour'\u001b[0m\u001b[0;34m]\u001b[0m \u001b[0;34m=\u001b[0m \u001b[0mimb_df_groupby\u001b[0m\u001b[0;34m[\u001b[0m\u001b[0;34m'datetime'\u001b[0m\u001b[0;34m]\u001b[0m\u001b[0;34m.\u001b[0m\u001b[0mdt\u001b[0m\u001b[0;34m.\u001b[0m\u001b[0mhour\u001b[0m\u001b[0;34m\u001b[0m\u001b[0;34m\u001b[0m\u001b[0m\n\u001b[0m\u001b[1;32m      2\u001b[0m \u001b[0mimb_df_groupby\u001b[0m\u001b[0;34m.\u001b[0m\u001b[0mhead\u001b[0m\u001b[0;34m(\u001b[0m\u001b[0;34m)\u001b[0m\u001b[0;34m\u001b[0m\u001b[0;34m\u001b[0m\u001b[0m\n",
      "\u001b[0;32m~/.pyenv/versions/3.9.4/lib/python3.9/site-packages/pandas/core/groupby/groupby.py\u001b[0m in \u001b[0;36m__getattr__\u001b[0;34m(self, attr)\u001b[0m\n\u001b[1;32m    750\u001b[0m             \u001b[0;32mreturn\u001b[0m \u001b[0mself\u001b[0m\u001b[0;34m[\u001b[0m\u001b[0mattr\u001b[0m\u001b[0;34m]\u001b[0m\u001b[0;34m\u001b[0m\u001b[0;34m\u001b[0m\u001b[0m\n\u001b[1;32m    751\u001b[0m \u001b[0;34m\u001b[0m\u001b[0m\n\u001b[0;32m--> 752\u001b[0;31m         raise AttributeError(\n\u001b[0m\u001b[1;32m    753\u001b[0m             \u001b[0;34mf\"'{type(self).__name__}' object has no attribute '{attr}'\"\u001b[0m\u001b[0;34m\u001b[0m\u001b[0;34m\u001b[0m\u001b[0m\n\u001b[1;32m    754\u001b[0m         )\n",
      "\u001b[0;31mAttributeError\u001b[0m: 'SeriesGroupBy' object has no attribute 'dt'"
     ]
    }
   ],
   "source": [
    "imb_df_groupby['hour'] = imb_df_groupby['datetime'].dt.hour\n",
    "imb_df_groupby.head()"
   ]
  },
  {
   "cell_type": "code",
   "execution_count": null,
   "metadata": {},
   "outputs": [],
   "source": [
    "speedy_groupby[‘dt_start_utc’].dt.to_period(‘D’)"
   ]
  },
  {
   "cell_type": "code",
   "execution_count": 36,
   "metadata": {},
   "outputs": [
    {
     "data": {
      "text/html": [
       "<div>\n",
       "<style scoped>\n",
       "    .dataframe tbody tr th:only-of-type {\n",
       "        vertical-align: middle;\n",
       "    }\n",
       "\n",
       "    .dataframe tbody tr th {\n",
       "        vertical-align: top;\n",
       "    }\n",
       "\n",
       "    .dataframe thead th {\n",
       "        text-align: right;\n",
       "    }\n",
       "</style>\n",
       "<table border=\"1\" class=\"dataframe\">\n",
       "  <thead>\n",
       "    <tr style=\"text-align: right;\">\n",
       "      <th></th>\n",
       "      <th>1</th>\n",
       "      <th>2</th>\n",
       "      <th>datetime</th>\n",
       "    </tr>\n",
       "  </thead>\n",
       "  <tbody>\n",
       "    <tr>\n",
       "      <th>0</th>\n",
       "      <td>707.500</td>\n",
       "      <td>156.36</td>\n",
       "      <td>2013-12-31 23:00:00</td>\n",
       "    </tr>\n",
       "    <tr>\n",
       "      <th>1</th>\n",
       "      <td>966.296</td>\n",
       "      <td>81.23</td>\n",
       "      <td>2013-12-31 23:15:00</td>\n",
       "    </tr>\n",
       "    <tr>\n",
       "      <th>2</th>\n",
       "      <td>1018.984</td>\n",
       "      <td>104.01</td>\n",
       "      <td>2013-12-31 23:30:00</td>\n",
       "    </tr>\n",
       "    <tr>\n",
       "      <th>3</th>\n",
       "      <td>867.940</td>\n",
       "      <td>60.51</td>\n",
       "      <td>2013-12-31 23:45:00</td>\n",
       "    </tr>\n",
       "    <tr>\n",
       "      <th>4</th>\n",
       "      <td>1738.004</td>\n",
       "      <td>239.03</td>\n",
       "      <td>2014-01-01 00:00:00</td>\n",
       "    </tr>\n",
       "    <tr>\n",
       "      <th>...</th>\n",
       "      <td>...</td>\n",
       "      <td>...</td>\n",
       "      <td>...</td>\n",
       "    </tr>\n",
       "    <tr>\n",
       "      <th>257005</th>\n",
       "      <td>82.501</td>\n",
       "      <td>40.96</td>\n",
       "      <td>2021-05-20 13:00:00</td>\n",
       "    </tr>\n",
       "    <tr>\n",
       "      <th>257006</th>\n",
       "      <td>-11.440</td>\n",
       "      <td>25.53</td>\n",
       "      <td>2021-05-20 14:30:00</td>\n",
       "    </tr>\n",
       "    <tr>\n",
       "      <th>257007</th>\n",
       "      <td>-346.008</td>\n",
       "      <td>18.48</td>\n",
       "      <td>2021-05-21 20:15:00</td>\n",
       "    </tr>\n",
       "    <tr>\n",
       "      <th>257008</th>\n",
       "      <td>30.308</td>\n",
       "      <td>111.81</td>\n",
       "      <td>2021-05-22 20:15:00</td>\n",
       "    </tr>\n",
       "    <tr>\n",
       "      <th>257009</th>\n",
       "      <td>298.170</td>\n",
       "      <td>32.98</td>\n",
       "      <td>2021-05-22 22:00:00</td>\n",
       "    </tr>\n",
       "  </tbody>\n",
       "</table>\n",
       "<p>257010 rows × 3 columns</p>\n",
       "</div>"
      ],
      "text/plain": [
       "               1       2            datetime\n",
       "0        707.500  156.36 2013-12-31 23:00:00\n",
       "1        966.296   81.23 2013-12-31 23:15:00\n",
       "2       1018.984  104.01 2013-12-31 23:30:00\n",
       "3        867.940   60.51 2013-12-31 23:45:00\n",
       "4       1738.004  239.03 2014-01-01 00:00:00\n",
       "...          ...     ...                 ...\n",
       "257005    82.501   40.96 2021-05-20 13:00:00\n",
       "257006   -11.440   25.53 2021-05-20 14:30:00\n",
       "257007  -346.008   18.48 2021-05-21 20:15:00\n",
       "257008    30.308  111.81 2021-05-22 20:15:00\n",
       "257009   298.170   32.98 2021-05-22 22:00:00\n",
       "\n",
       "[257010 rows x 3 columns]"
      ]
     },
     "execution_count": 36,
     "metadata": {},
     "output_type": "execute_result"
    }
   ],
   "source": [
    "imb_df_groupby = imb_df.groupby(by='datetime')\n",
    "imb_df_groupby.head()"
   ]
  },
  {
   "cell_type": "markdown",
   "metadata": {},
   "source": [
    "OK, ich bin nicht so weit gekommen. Aber die Stunden und Tage müssen vor dem groupby extrahiert werden, das geht mit dem groupby-object nicht. Danach sollte es einfach gehen inkl. Aggregation auf den Median. "
   ]
  },
  {
   "cell_type": "code",
   "execution_count": null,
   "metadata": {},
   "outputs": [],
   "source": []
  }
 ],
 "metadata": {
  "interpreter": {
   "hash": "e3d34a6d140323196067af0d3a6fbe2ad97fdbd9ea933afb3f69f0c432ec5c37"
  },
  "kernelspec": {
   "display_name": "Python 3.9.4 64-bit ('3.9.4': pyenv)",
   "language": "python",
   "name": "python3"
  },
  "language_info": {
   "codemirror_mode": {
    "name": "ipython",
    "version": 3
   },
   "file_extension": ".py",
   "mimetype": "text/x-python",
   "name": "python",
   "nbconvert_exporter": "python",
   "pygments_lexer": "ipython3",
   "version": "3.9.4"
  },
  "orig_nbformat": 4
 },
 "nbformat": 4,
 "nbformat_minor": 2
}
